{
  "nbformat": 4,
  "nbformat_minor": 0,
  "metadata": {
    "colab": {
      "name": "Person_Predictor.ipynb",
      "version": "0.3.2",
      "provenance": [],
      "include_colab_link": true
    },
    "kernelspec": {
      "name": "python3",
      "display_name": "Python 3"
    }
  },
  "cells": [
    {
      "cell_type": "markdown",
      "metadata": {
        "id": "view-in-github",
        "colab_type": "text"
      },
      "source": [
        "<a href=\"https://colab.research.google.com/github/JamesPeralta/Machine-Learning-Algorithms/blob/master/Multi-Output%20Models/Social%20Media%20Person%20Predictor/Person_Predictor.ipynb\" target=\"_parent\"><img src=\"https://colab.research.google.com/assets/colab-badge.svg\" alt=\"Open In Colab\"/></a>"
      ]
    },
    {
      "metadata": {
        "id": "xcvwQqED2v2o",
        "colab_type": "text"
      },
      "cell_type": "markdown",
      "source": [
        "# Multi-output models\n",
        "### We can use the functional API to build models with multiple outputs (or multiple heads)\n",
        "\n",
        "### Problem: Create a network that takes as input a series of social media posts from a single anonymous person and tries to predict attributes of that person, such as age, gender, and income level"
      ]
    },
    {
      "metadata": {
        "id": "3BBFvx__25gD",
        "colab_type": "code",
        "colab": {
          "base_uri": "https://localhost:8080/",
          "height": 34
        },
        "outputId": "33c8ae93-1d44-40d2-d570-7a5bf45f076f"
      },
      "cell_type": "code",
      "source": [
        "from keras import layers\n",
        "from keras import Input\n",
        "from keras.models import Model"
      ],
      "execution_count": 1,
      "outputs": [
        {
          "output_type": "stream",
          "text": [
            "Using TensorFlow backend.\n"
          ],
          "name": "stderr"
        }
      ]
    },
    {
      "metadata": {
        "id": "azQrVISB8yXS",
        "colab_type": "code",
        "colab": {}
      },
      "cell_type": "code",
      "source": [
        "vocabulary_size = 50000\n",
        "num_income_groups = 10"
      ],
      "execution_count": 0,
      "outputs": []
    },
    {
      "metadata": {
        "id": "wPL81cKp82h6",
        "colab_type": "text"
      },
      "cell_type": "markdown",
      "source": [
        "### Define Input Layer"
      ]
    },
    {
      "metadata": {
        "id": "nQCI_Utj-d6R",
        "colab_type": "code",
        "colab": {}
      },
      "cell_type": "code",
      "source": [
        "posts_input = Input(shape=(None,), dtype='int32', name='posts')"
      ],
      "execution_count": 0,
      "outputs": []
    },
    {
      "metadata": {
        "id": "bSpYB_I9AErl",
        "colab_type": "text"
      },
      "cell_type": "markdown",
      "source": [
        "### Define the Embedding Layer (Layer 1)"
      ]
    },
    {
      "metadata": {
        "id": "76hbg5C--6Lv",
        "colab_type": "code",
        "colab": {
          "base_uri": "https://localhost:8080/",
          "height": 88
        },
        "outputId": "ce168a1a-d192-4fab-9779-37a7a8e2fe75"
      },
      "cell_type": "code",
      "source": [
        "embedded_posts = layers.Embedding(256, vocabulary_size)(posts_input)"
      ],
      "execution_count": 5,
      "outputs": [
        {
          "output_type": "stream",
          "text": [
            "WARNING:tensorflow:From /usr/local/lib/python3.6/dist-packages/tensorflow/python/framework/op_def_library.py:263: colocate_with (from tensorflow.python.framework.ops) is deprecated and will be removed in a future version.\n",
            "Instructions for updating:\n",
            "Colocations handled automatically by placer.\n"
          ],
          "name": "stdout"
        }
      ]
    },
    {
      "metadata": {
        "id": "XlLXdR0QAH-M",
        "colab_type": "text"
      },
      "cell_type": "markdown",
      "source": [
        "### Define the Convnet (Layer 2)"
      ]
    },
    {
      "metadata": {
        "id": "IzAnHJBqAIQp",
        "colab_type": "code",
        "colab": {}
      },
      "cell_type": "code",
      "source": [
        "x = layers.Conv1D(128, 5, activation='relu')(embedded_posts)\n",
        "x = layers.MaxPooling1D(5)(x)\n",
        "x = layers.Conv1D(256, 5, activation='relu')(x)\n",
        "x = layers.Conv1D(256, 5, activation='relu')(x)\n",
        "x = layers.MaxPooling1D(5)(x)\n",
        "x = layers.Conv1D(256, 5, activation='relu')(x)\n",
        "x = layers.Conv1D(256, 5, activation='relu')(x)\n",
        "x = layers.GlobalMaxPooling1D()(x)"
      ],
      "execution_count": 0,
      "outputs": []
    },
    {
      "metadata": {
        "id": "gof3b1neARy5",
        "colab_type": "text"
      },
      "cell_type": "markdown",
      "source": [
        "### Define the Dense Nets (Layer 3)"
      ]
    },
    {
      "metadata": {
        "id": "QUxIe5pDAW6N",
        "colab_type": "code",
        "colab": {}
      },
      "cell_type": "code",
      "source": [
        "# Global Dense Network\n",
        "x = layers.Dense(128, activation='relu')(x)\n",
        "\n",
        "# L3_D1\n",
        "age_prediction = layers.Dense(1, name='age')(x)\n",
        "\n",
        "# L3_D2\n",
        "income_prediction = layers.Dense(num_income_groups,\n",
        "                                 activation='softmax',\n",
        "                                 name='income')(x)\n",
        "\n",
        "# L3_D3\n",
        "gender_prediction = layers.Dense(1, activation='sigmoid', name='gender')(x)"
      ],
      "execution_count": 0,
      "outputs": []
    },
    {
      "metadata": {
        "id": "ElUn1aBhAYcq",
        "colab_type": "text"
      },
      "cell_type": "markdown",
      "source": [
        "### Create the final model"
      ]
    },
    {
      "metadata": {
        "id": "oDmY501lBXHy",
        "colab_type": "code",
        "colab": {
          "base_uri": "https://localhost:8080/",
          "height": 612
        },
        "outputId": "d1a4bbe6-529f-49d2-cafd-e1a2303b4178"
      },
      "cell_type": "code",
      "source": [
        "model = Model(posts_input,\n",
        "              [age_prediction, income_prediction, gender_prediction])\n",
        "\n",
        "model.summary()"
      ],
      "execution_count": 8,
      "outputs": [
        {
          "output_type": "stream",
          "text": [
            "__________________________________________________________________________________________________\n",
            "Layer (type)                    Output Shape         Param #     Connected to                     \n",
            "==================================================================================================\n",
            "posts (InputLayer)              (None, None)         0                                            \n",
            "__________________________________________________________________________________________________\n",
            "embedding_1 (Embedding)         (None, None, 50000)  12800000    posts[0][0]                      \n",
            "__________________________________________________________________________________________________\n",
            "conv1d_1 (Conv1D)               (None, None, 128)    32000128    embedding_1[0][0]                \n",
            "__________________________________________________________________________________________________\n",
            "max_pooling1d_1 (MaxPooling1D)  (None, None, 128)    0           conv1d_1[0][0]                   \n",
            "__________________________________________________________________________________________________\n",
            "conv1d_2 (Conv1D)               (None, None, 256)    164096      max_pooling1d_1[0][0]            \n",
            "__________________________________________________________________________________________________\n",
            "conv1d_3 (Conv1D)               (None, None, 256)    327936      conv1d_2[0][0]                   \n",
            "__________________________________________________________________________________________________\n",
            "max_pooling1d_2 (MaxPooling1D)  (None, None, 256)    0           conv1d_3[0][0]                   \n",
            "__________________________________________________________________________________________________\n",
            "conv1d_4 (Conv1D)               (None, None, 256)    327936      max_pooling1d_2[0][0]            \n",
            "__________________________________________________________________________________________________\n",
            "conv1d_5 (Conv1D)               (None, None, 256)    327936      conv1d_4[0][0]                   \n",
            "__________________________________________________________________________________________________\n",
            "global_max_pooling1d_1 (GlobalM (None, 256)          0           conv1d_5[0][0]                   \n",
            "__________________________________________________________________________________________________\n",
            "dense_2 (Dense)                 (None, 128)          32896       global_max_pooling1d_1[0][0]     \n",
            "__________________________________________________________________________________________________\n",
            "age (Dense)                     (None, 1)            129         dense_2[0][0]                    \n",
            "__________________________________________________________________________________________________\n",
            "income (Dense)                  (None, 10)           1290        dense_2[0][0]                    \n",
            "__________________________________________________________________________________________________\n",
            "gender (Dense)                  (None, 1)            129         dense_2[0][0]                    \n",
            "==================================================================================================\n",
            "Total params: 45,982,476\n",
            "Trainable params: 45,982,476\n",
            "Non-trainable params: 0\n",
            "__________________________________________________________________________________________________\n"
          ],
          "name": "stdout"
        }
      ]
    },
    {
      "metadata": {
        "id": "tjYLayJ6B1qX",
        "colab_type": "code",
        "colab": {}
      },
      "cell_type": "code",
      "source": [
        "model.compile(optimizer='rmsprop', \n",
        "              loss={'age': 'mse',\n",
        "                    'income': 'categorical_crossentropy',\n",
        "                    'gender': 'binary_crossentropy'}, \n",
        "              loss_weights={'age': 0.25,\n",
        "                            'income': 1., \n",
        "                            'gender': 10.})"
      ],
      "execution_count": 0,
      "outputs": []
    },
    {
      "metadata": {
        "id": "rsGVpRjEB7-c",
        "colab_type": "code",
        "colab": {}
      },
      "cell_type": "code",
      "source": [
        "model.fit(posts, \n",
        "          {'age': age_targets,\n",
        "           'income': income_targets,\n",
        "           'gender': gender_targets},\n",
        "           epochs=10, \n",
        "           batch_size=64)"
      ],
      "execution_count": 0,
      "outputs": []
    }
  ]
}