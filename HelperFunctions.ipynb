{
  "nbformat": 4,
  "nbformat_minor": 0,
  "metadata": {
    "colab": {
      "name": "Gymno_DataGenerator.ipynb",
      "version": "0.3.2",
      "provenance": [],
      "collapsed_sections": [],
      "include_colab_link": true
    },
    "kernelspec": {
      "name": "python3",
      "display_name": "Python 3"
    },
    "accelerator": "TPU"
  },
  "cells": [
    {
      "cell_type": "markdown",
      "metadata": {
        "id": "view-in-github",
        "colab_type": "text"
      },
      "source": [
        "<a href=\"https://colab.research.google.com/github/JamesPeralta/Machine-Learning-Algorithms/blob/master/HelperFunctions.ipynb\" target=\"_parent\"><img src=\"https://colab.research.google.com/assets/colab-badge.svg\" alt=\"Open In Colab\"/></a>"
      ]
    },
    {
      "metadata": {
        "id": "ZpX2AeTw4dXD",
        "colab_type": "text"
      },
      "cell_type": "markdown",
      "source": [
        "---\n",
        "# Helper functions\n",
        "### In this note book I have functions for\n",
        "* Pulling frames from a video and storing it in a seperate folder\n",
        "* Function to increment each video\n",
        "* Function that will create a dataset csv file"
      ]
    },
    {
      "metadata": {
        "id": "jGdS5__Y5KN2",
        "colab_type": "text"
      },
      "cell_type": "markdown",
      "source": [
        "---\n",
        "## Setup"
      ]
    },
    {
      "metadata": {
        "id": "lTTXHqd0l_OH",
        "colab_type": "code",
        "colab": {}
      },
      "cell_type": "code",
      "source": [
        "import cv2     # for capturing videos\n",
        "import math   # for mathematical operations\n",
        "import matplotlib.pyplot as plt    # for plotting the images\n",
        "\n",
        "from google.colab import drive\n",
        "import os"
      ],
      "execution_count": 0,
      "outputs": []
    },
    {
      "metadata": {
        "id": "sonj60-qmkH4",
        "colab_type": "code",
        "colab": {
          "base_uri": "https://localhost:8080/",
          "height": 122
        },
        "outputId": "c807118d-bc91-49a8-a9f4-7bdb01990e78"
      },
      "cell_type": "code",
      "source": [
        "drive.mount('/content/drive')"
      ],
      "execution_count": 2,
      "outputs": [
        {
          "output_type": "stream",
          "text": [
            "Go to this URL in a browser: https://accounts.google.com/o/oauth2/auth?client_id=947318989803-6bn6qk8qdgf4n4g3pfee6491hc0brc4i.apps.googleusercontent.com&redirect_uri=urn%3Aietf%3Awg%3Aoauth%3A2.0%3Aoob&scope=email%20https%3A%2F%2Fwww.googleapis.com%2Fauth%2Fdocs.test%20https%3A%2F%2Fwww.googleapis.com%2Fauth%2Fdrive%20https%3A%2F%2Fwww.googleapis.com%2Fauth%2Fdrive.photos.readonly%20https%3A%2F%2Fwww.googleapis.com%2Fauth%2Fpeopleapi.readonly&response_type=code\n",
            "\n",
            "Enter your authorization code:\n",
            "··········\n",
            "Mounted at /content/drive\n"
          ],
          "name": "stdout"
        }
      ]
    },
    {
      "metadata": {
        "id": "dlppq9ihRjb6",
        "colab_type": "text"
      },
      "cell_type": "markdown",
      "source": [
        "---\n",
        "## Go into each video in the Video_Dataset and pull frames every 0.2 seconds"
      ]
    },
    {
      "metadata": {
        "id": "Wt-GkZjHRj7v",
        "colab_type": "code",
        "colab": {}
      },
      "cell_type": "code",
      "source": [
        "# Dataset Directories\n",
        "overhead_videos = '/content/drive/My Drive/GYMNO/Video Dataset/Overhead Press/FaceView/'\n",
        "squat_videos = '/content/drive/My Drive/GYMNO/Video Dataset/Squats/FaceView/'\n",
        "\n",
        "# Frame Directories\n",
        "overhead_frames = '/content/drive/My Drive/GYMNO/Video Dataset/Test/Overhead_Press_Frames/'\n",
        "squat_frames = '/content/drive/My Drive/GYMNO/Video Dataset/Test/Squat_Frames/'"
      ],
      "execution_count": 0,
      "outputs": []
    },
    {
      "metadata": {
        "id": "u0FesW1IHqUX",
        "colab_type": "code",
        "colab": {
          "base_uri": "https://localhost:8080/",
          "height": 54
        },
        "outputId": "8257b98a-7140-4b92-c4ed-d80911ecda55"
      },
      "cell_type": "code",
      "source": [
        "all_videos = os.listdir(squat_videos)\n",
        "frames_Location = squat_frames\n",
        "print(all_videos)"
      ],
      "execution_count": 9,
      "outputs": [
        {
          "output_type": "stream",
          "text": [
            "['video0.MOV', 'video1.MOV', 'video2.MOV', 'video3.MOV', 'video4.MOV', 'video5.MOV', 'video6.MOV', 'video7.MOV', 'video8.MOV', 'video9.MOV', 'video10.MOV', 'video11.MOV', 'video12.MOV', 'video13.MOV', 'video14.MOV', 'video15.MOV', 'video16.MOV', 'video17.MOV', 'video18.MOV', 'video19.MOV', 'video20.MOV', 'video21.MOV', 'video22.MOV', 'video23.MOV', 'video24.MOV', 'video25.MOV', 'video26.MOV', 'video27.MOV', 'video28.MOV', 'video29.MOV', 'video30.MOV', 'video31.MOV']\n"
          ],
          "name": "stdout"
        }
      ]
    },
    {
      "metadata": {
        "id": "Yl6s17zFveMt",
        "colab_type": "code",
        "colab": {}
      },
      "cell_type": "code",
      "source": [
        "count = 1866\n",
        "\n",
        "for video in all_videos:\n",
        "  \n",
        "  videoFile = squat_videos + video # Retrieve a video from the Repo\n",
        "\n",
        "  cap = cv2.VideoCapture(videoFile)   # capturing the video from the given path\n",
        "\n",
        "  frameRate = cap.get(cv2.CAP_PROP_FPS) # Frame rate\n",
        "\n",
        "\n",
        "  x=1\n",
        "  dim = (224,224)\n",
        "  while(cap.isOpened()):\n",
        "\n",
        "      frameId = cap.get(1) #current frame number\n",
        "\n",
        "      ret, frame = cap.read()\n",
        "      if (ret != True):\n",
        "          break\n",
        "\n",
        "      # We are capturing at 28 frames per second. \n",
        "      # If we want to capture every 0.2 seconds we will take every 5 frames\n",
        "      if (frameId % 8 == 0):\n",
        "          filename =\"frame%d.jpg\" % count\n",
        "          count+=1\n",
        "          resized = cv2.resize(frame, dim)\n",
        "          cv2.imwrite(frames_Location + filename, resized)\n",
        "\n",
        "  cap.release()\n",
        "  print (\"Finished processing: \" + video + \". Ended at video: \" + str(count))"
      ],
      "execution_count": 0,
      "outputs": []
    },
    {
      "metadata": {
        "id": "FWpCiiPY4r6_",
        "colab_type": "text"
      },
      "cell_type": "markdown",
      "source": [
        "---\n",
        "## Method to convert all video names to incremental format. \n",
        "* Ex) video0.MOV, video1.MOV, video2.MOV"
      ]
    },
    {
      "metadata": {
        "id": "fDt4jfHADYbo",
        "colab_type": "code",
        "colab": {
          "base_uri": "https://localhost:8080/",
          "height": 54
        },
        "outputId": "1224d460-f170-43b1-82d6-2ecc73174354"
      },
      "cell_type": "code",
      "source": [
        "directory = overhead_videos\n",
        "video_list = os.listdir(directory)\n",
        "print(video_list)"
      ],
      "execution_count": 35,
      "outputs": [
        {
          "output_type": "stream",
          "text": [
            "['video0.MOV', 'video1.MOV', 'video2.MOV', 'video3.MOV', 'video4.MOV', 'video5.MOV', 'video6.MOV', 'video7.MOV', 'video8.MOV', 'video9.MOV', 'video10.MOV', 'video11.MOV', 'video12.MOV', 'video13.MOV', 'video14.MOV', 'video15.MOV', 'video16.MOV', 'video17.MOV', 'video18.MOV', 'video19.MOV', 'video20.MOV', 'video21.MOV', 'video22.MOV', 'video23.MOV', 'video24.MOV', 'video25.MOV', 'video4 (1).MOV', 'video1 (1).MOV', 'IMG_8561.TRIM.MOV', 'video2 (1).MOV', 'video3 (1).MOV', 'video5 (1).MOV', 'video6 (1).MOV', 'video7 (1).MOV', 'video8 (1).MOV']\n"
          ],
          "name": "stdout"
        }
      ]
    },
    {
      "metadata": {
        "id": "mkpO7-6_5kUR",
        "colab_type": "code",
        "colab": {}
      },
      "cell_type": "code",
      "source": [
        "os.chdir(directory)\n",
        "for i in range(len(video_list)):\n",
        "  os.rename(video_list[i], 'video'+ str(i) + '.MOV')"
      ],
      "execution_count": 0,
      "outputs": []
    },
    {
      "metadata": {
        "id": "lTJrQtvFLYL8",
        "colab_type": "text"
      },
      "cell_type": "markdown",
      "source": [
        "----\n",
        "## Get the size of a directory"
      ]
    },
    {
      "metadata": {
        "id": "0HtyRKMbLYbO",
        "colab_type": "code",
        "colab": {
          "base_uri": "https://localhost:8080/",
          "height": 34
        },
        "outputId": "00d9cea9-36bf-4199-e7c7-6f1dbb8f2da3"
      },
      "cell_type": "code",
      "source": [
        "random_directory = os.listdir(squat_frames)\n",
        "print(len(random_directory))"
      ],
      "execution_count": 11,
      "outputs": [
        {
          "output_type": "stream",
          "text": [
            "2354\n"
          ],
          "name": "stdout"
        }
      ]
    },
    {
      "metadata": {
        "id": "jjKx0CJYWlcA",
        "colab_type": "text"
      },
      "cell_type": "markdown",
      "source": [
        "---\n",
        "## Generate a CSV for dataset"
      ]
    },
    {
      "metadata": {
        "id": "sTFfeR4bWlxf",
        "colab_type": "code",
        "colab": {}
      },
      "cell_type": "code",
      "source": [
        "os.chdir('/content/drive/My Drive/GYMNO/Video Dataset/')"
      ],
      "execution_count": 0,
      "outputs": []
    },
    {
      "metadata": {
        "id": "3YZKNlTAYl55",
        "colab_type": "code",
        "colab": {}
      },
      "cell_type": "code",
      "source": [
        "import csv\n",
        "\n",
        "with open('dataset.csv', mode='w') as csv_file:\n",
        "    fieldnames = ['Frame_ID', 'Class']\n",
        "    writer = csv.DictWriter(csv_file, fieldnames=fieldnames)\n",
        "    \n",
        "    writer.writeheader()\n",
        "    \n",
        "    for i in range(0, 1866):\n",
        "      writer.writerow({'Frame_ID': 'frame'+str(i)+'.jpg', 'Class': '0'})\n",
        "    \n",
        "    for i in range(1866, 4262):\n",
        "      writer.writerow({'Frame_ID': 'frame'+str(i)+'.jpg', 'Class': '1'})"
      ],
      "execution_count": 0,
      "outputs": []
    },
    {
      "metadata": {
        "id": "lxrH5V9OXElr",
        "colab_type": "code",
        "colab": {
          "base_uri": "https://localhost:8080/",
          "height": 34
        },
        "outputId": "f0354750-661f-4ef1-da71-e9fe4396c42c"
      },
      "cell_type": "code",
      "source": [
        "os.listdir()"
      ],
      "execution_count": 14,
      "outputs": [
        {
          "output_type": "execute_result",
          "data": {
            "text/plain": [
              "['Squats', 'Overhead Press', 'Test', 'No Person', 'Full video']"
            ]
          },
          "metadata": {
            "tags": []
          },
          "execution_count": 14
        }
      ]
    }
  ]
}