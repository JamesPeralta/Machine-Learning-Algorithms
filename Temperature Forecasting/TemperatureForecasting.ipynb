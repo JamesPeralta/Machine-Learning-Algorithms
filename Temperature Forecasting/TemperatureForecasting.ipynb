{
  "nbformat": 4,
  "nbformat_minor": 0,
  "metadata": {
    "colab": {
      "name": "TemperatureForecasting.ipynb",
      "version": "0.3.2",
      "provenance": [],
      "collapsed_sections": [],
      "include_colab_link": true
    },
    "kernelspec": {
      "name": "python3",
      "display_name": "Python 3"
    },
    "accelerator": "TPU"
  },
  "cells": [
    {
      "cell_type": "markdown",
      "metadata": {
        "id": "view-in-github",
        "colab_type": "text"
      },
      "source": [
        "<a href=\"https://colab.research.google.com/github/JamesPeralta/Machine-Learning-Algorithms/blob/master/TemperatureForecasting/TemperatureForecasting.ipynb\" target=\"_parent\"><img src=\"https://colab.research.google.com/assets/colab-badge.svg\" alt=\"Open In Colab\"/></a>"
      ]
    },
    {
      "metadata": {
        "id": "kCfwgSk5T5xx",
        "colab_type": "text"
      },
      "cell_type": "markdown",
      "source": [
        "# Temperature-forecasting problem\n"
      ]
    },
    {
      "metadata": {
        "id": "9lN7nnRrT6S9",
        "colab_type": "text"
      },
      "cell_type": "markdown",
      "source": [
        "### Imports"
      ]
    },
    {
      "metadata": {
        "id": "5wIWIxp76Drd",
        "colab_type": "code",
        "colab": {
          "base_uri": "https://localhost:8080/",
          "height": 34
        },
        "outputId": "fa686e6e-ec98-4152-8ef2-8e6f18342bdf"
      },
      "cell_type": "code",
      "source": [
        "from google.colab import drive\n",
        "import os\n",
        "import numpy as np\n",
        "from matplotlib import pyplot as plt\n",
        "\n",
        "\n",
        "drive.mount('/content/drive')"
      ],
      "execution_count": 8,
      "outputs": [
        {
          "output_type": "stream",
          "text": [
            "Drive already mounted at /content/drive; to attempt to forcibly remount, call drive.mount(\"/content/drive\", force_remount=True).\n"
          ],
          "name": "stdout"
        }
      ]
    },
    {
      "metadata": {
        "id": "9qnBmb467FyH",
        "colab_type": "text"
      },
      "cell_type": "markdown",
      "source": [
        "### Inspecting the data of the Jena weather dataset"
      ]
    },
    {
      "metadata": {
        "id": "I8r-NVB16W0i",
        "colab_type": "code",
        "colab": {
          "base_uri": "https://localhost:8080/",
          "height": 71
        },
        "outputId": "df6e711e-526b-4c6a-8c88-e127eedc394c"
      },
      "cell_type": "code",
      "source": [
        "data_dir = '/content/drive/My Drive/Datasets/JenaClimate'\n",
        "fname = os.path.join(data_dir, 'jena_climate_2009_2016.csv')\n",
        "\n",
        "f = open(fname)\n",
        "data = f.read()\n",
        "f.close()\n",
        "\n",
        "lines = data.split('\\n')\n",
        "header = lines[0].split(',')\n",
        "lines = lines[1:]\n",
        "\n",
        "print(header)\n",
        "print(len(lines))"
      ],
      "execution_count": 9,
      "outputs": [
        {
          "output_type": "stream",
          "text": [
            "['\"Date Time\"', '\"p (mbar)\"', '\"T (degC)\"', '\"Tpot (K)\"', '\"Tdew (degC)\"', '\"rh (%)\"', '\"VPmax (mbar)\"', '\"VPact (mbar)\"', '\"VPdef (mbar)\"', '\"sh (g/kg)\"', '\"H2OC (mmol/mol)\"', '\"rho (g/m**3)\"', '\"wv (m/s)\"', '\"max. wv (m/s)\"', '\"wd (deg)\"']\n",
            "420551\n"
          ],
          "name": "stdout"
        }
      ]
    },
    {
      "metadata": {
        "id": "zi6t67Jr7LKT",
        "colab_type": "text"
      },
      "cell_type": "markdown",
      "source": [
        "### Parse the data"
      ]
    },
    {
      "metadata": {
        "id": "htiYR4q97a2_",
        "colab_type": "code",
        "colab": {
          "base_uri": "https://localhost:8080/",
          "height": 34
        },
        "outputId": "9c2ab4e4-572a-4151-8539-8ebe49708433"
      },
      "cell_type": "code",
      "source": [
        "float_data = np.zeros((len(lines), len(header) - 1))\n",
        "for i, line in enumerate(lines):\n",
        "    values = [float(x) for x in line.split(',')[1:]]\n",
        "    float_data[i, :] = values\n",
        "\n",
        "print(float_data.shape)"
      ],
      "execution_count": 10,
      "outputs": [
        {
          "output_type": "stream",
          "text": [
            "(420551, 14)\n"
          ],
          "name": "stdout"
        }
      ]
    },
    {
      "metadata": {
        "id": "ClzfYQjp8GwY",
        "colab_type": "code",
        "colab": {
          "base_uri": "https://localhost:8080/",
          "height": 364
        },
        "outputId": "5ff559b4-8e31-4696-890e-4f6eb6d8bb43"
      },
      "cell_type": "code",
      "source": [
        "temp = float_data[:, 1]\n",
        "plt.plot(range(1440), temp[:1440])"
      ],
      "execution_count": 11,
      "outputs": [
        {
          "output_type": "execute_result",
          "data": {
            "text/plain": [
              "[<matplotlib.lines.Line2D at 0x7f0232d98da0>]"
            ]
          },
          "metadata": {
            "tags": []
          },
          "execution_count": 11
        },
        {
          "output_type": "display_data",
          "data": {
            "image/png": "[encoded data removed]",
            "text/plain": [
              "<Figure size 576x396 with 1 Axes>"
            ]
          },
          "metadata": {
            "tags": []
          }
        }
      ]
    },
    {
      "metadata": {
        "id": "ETMN6I35_dxa",
        "colab_type": "text"
      },
      "cell_type": "markdown",
      "source": [
        "### Preparing the data\n",
        "* Given data going as far back as *lookback* timesteps (a timestep is 10 minutes) and sampled every *steps* timesteps, can you predict the temperature in *delay* timesteps\n",
        " * lookback = 720—Observations will go back 5 days.\n",
        " * steps = 6—Observations will be sampled at one data point per hour.\n",
        " * delay = 144—Targets will be 24 hours in the future.\n",
        "\n",
        "### To pre-process the data I will do two things\n",
        "* Since each timerseries in the data is on a different scale, I will normalize each timerseries independently so that they all take small values on a similar scale\n",
        "* Write a Python generator that takes the current array of float data and creates batches of data from the recent past, along with a target temp in the future."
      ]
    },
    {
      "metadata": {
        "id": "Zv7ydfugCmTg",
        "colab_type": "text"
      },
      "cell_type": "markdown",
      "source": [
        "#### Normalizing the data"
      ]
    },
    {
      "metadata": {
        "id": "Z_K5NFC5DJVN",
        "colab_type": "code",
        "colab": {}
      },
      "cell_type": "code",
      "source": [
        "mean = float_data[:200000].mean(axis=0)\n",
        "float_data -= mean\n",
        "std = float_data[:200000].std(axis=0)\n",
        "float_data /= std"
      ],
      "execution_count": 0,
      "outputs": []
    },
    {
      "metadata": {
        "id": "I78stXX4OJrZ",
        "colab_type": "text"
      },
      "cell_type": "markdown",
      "source": [
        "#### Create a Data Generator\n",
        "* Yields a tuple (samples, targets), where samples is one batch of input data and targets is the corresponding array of target temperatures\n",
        "* Input: \n",
        " * data—The original array of floating-point data, which you normalized above\n",
        " * lookback—How many timesteps back the input data should go.\n",
        " * delay—How many timesteps in the future the target should be.\n",
        " * min_index and max_index—Indices in the data array that delimit which time steps to draw from. This is useful for keeping a segment of the data for validation and another for testing.\n",
        " * shuffle—Whether to shuffle the samples or draw them in chronological order.\n",
        " * batch_size—The number of samples per batch.\n",
        " * step—The period, in timesteps, at which you sample data. You’ll set it to 6 in\n",
        "order to draw one data point every hour.\n",
        "* Return:\n",
        " * Sample = [Sample1, Sample2, Sample3]\n",
        " * Results = [Result1, Result2, Result3]"
      ]
    },
    {
      "metadata": {
        "id": "3yZLeX6_OQvT",
        "colab_type": "code",
        "colab": {}
      },
      "cell_type": "code",
      "source": [
        "def generator(data, lookback, delay, min_index, max_index, shuffle=False, batch_size=128, step=6):\n",
        "  if max_index is None:\n",
        "        max_index = len(data) - delay - 1\n",
        "  i = min_index + lookback\n",
        "  while 1:\n",
        "    if shuffle:\n",
        "        rows = np.random.randint(min_index + lookback, max_index, size=batch_size)\n",
        "    else:\n",
        "        if i + batch_size >= max_index:\n",
        "            i = min_index + lookback\n",
        "        rows = np.arange(i, min(i + batch_size, max_index))\n",
        "        i += len(rows)\n",
        "    \n",
        "    samples = np.zeros((len(rows), \n",
        "                        lookback // step, \n",
        "                        data.shape[-1]))\n",
        "    \n",
        "    targets = np.zeros((len(rows),))\n",
        "    \n",
        "    for j, row in enumerate(rows):\n",
        "        indices = range(rows[j] - lookback, rows[j], step)\n",
        "        samples[j] = data[indices]\n",
        "        targets[j] = data[rows[j] + delay][1]\n",
        "    yield samples, targets"
      ],
      "execution_count": 0,
      "outputs": []
    },
    {
      "metadata": {
        "id": "l9bXgnt6SqbJ",
        "colab_type": "text"
      },
      "cell_type": "markdown",
      "source": [
        "### Prepare the training, validation, and test generators"
      ]
    },
    {
      "metadata": {
        "id": "gG-1e8a1Sqzm",
        "colab_type": "code",
        "colab": {}
      },
      "cell_type": "code",
      "source": [
        "lookback = 1440\n",
        "step = 6\n",
        "delay = 144\n",
        "batch_size = 128"
      ],
      "execution_count": 0,
      "outputs": []
    },
    {
      "metadata": {
        "id": "AekggaQ8Sys4",
        "colab_type": "code",
        "colab": {}
      },
      "cell_type": "code",
      "source": [
        "train_gen = generator(float_data,\n",
        "                      lookback=lookback,\n",
        "                      delay=delay,\n",
        "                      min_index=0,\n",
        "                      max_index=200000,\n",
        "                      shuffle=True,\n",
        "                      step=step,\n",
        "                      batch_size=batch_size)\n",
        "val_gen = generator(float_data,\n",
        "                    lookback=lookback,\n",
        "                    delay=delay,\n",
        "                    min_index=200001,\n",
        "                    max_index=300000,\n",
        "                    step=step,\n",
        "                    batch_size=batch_size)\n",
        "test_gen = generator(float_data,\n",
        "                     lookback=lookback,\n",
        "                     delay=delay,\n",
        "                     min_index=300001,\n",
        "                     max_index=None,\n",
        "                     step=step,\n",
        "                     batch_size=batch_size)\n",
        "\n",
        "val_steps = (300000 - 200001 - lookback) // batch_size\n",
        "test_steps = (len(float_data) - 300001 - lookback)"
      ],
      "execution_count": 0,
      "outputs": []
    },
    {
      "metadata": {
        "id": "cB21bXHTTg1p",
        "colab_type": "code",
        "colab": {
          "base_uri": "https://localhost:8080/",
          "height": 51
        },
        "outputId": "3893ffbc-3d6e-49f4-a2d2-4225bd385ed1"
      },
      "cell_type": "code",
      "source": [
        "print(val_steps)\n",
        "print(test_steps)"
      ],
      "execution_count": 16,
      "outputs": [
        {
          "output_type": "stream",
          "text": [
            "769\n",
            "119110\n"
          ],
          "name": "stdout"
        }
      ]
    },
    {
      "metadata": {
        "id": "L9LpJarvUILS",
        "colab_type": "text"
      },
      "cell_type": "markdown",
      "source": [
        "## Basic Dense Neural Network Baseline"
      ]
    },
    {
      "metadata": {
        "id": "tPFgD2jDUZGA",
        "colab_type": "code",
        "colab": {}
      },
      "cell_type": "code",
      "source": [
        "from keras.models import Sequential \n",
        "from keras import layers\n",
        "from keras.optimizers import RMSprop"
      ],
      "execution_count": 0,
      "outputs": []
    },
    {
      "metadata": {
        "id": "JBSa9m31UeD-",
        "colab_type": "code",
        "colab": {}
      },
      "cell_type": "code",
      "source": [
        "def createDenseModel():\n",
        "  model = Sequential()\n",
        "  model.add(layers.Flatten(input_shape=(lookback // step, float_data.shape[-1]))) \n",
        "  model.add(layers.Dense(32, activation='relu'))\n",
        "  model.add(layers.Dense(1))\n",
        "  model.compile(optimizer=RMSprop(), loss='mae')\n",
        "  \n",
        "  return model"
      ],
      "execution_count": 0,
      "outputs": []
    },
    {
      "metadata": {
        "id": "DjzV3k_xUs_p",
        "colab_type": "code",
        "colab": {
          "base_uri": "https://localhost:8080/",
          "height": 697
        },
        "outputId": "50681ee9-b8f8-424f-e3b8-81fa2ca89025"
      },
      "cell_type": "code",
      "source": [
        "dense_model = createDenseModel()\n",
        "history = dense_model.fit_generator(train_gen, steps_per_epoch=500, epochs=20, validation_data=val_gen, validation_steps=val_steps)"
      ],
      "execution_count": 55,
      "outputs": [
        {
          "output_type": "stream",
          "text": [
            "Epoch 1/20\n",
            "500/500 [==============================] - 16s 31ms/step - loss: 1.3944 - val_loss: 0.7206\n",
            "Epoch 2/20\n",
            "500/500 [==============================] - 15s 31ms/step - loss: 0.4593 - val_loss: 0.3656\n",
            "Epoch 3/20\n",
            "500/500 [==============================] - 14s 29ms/step - loss: 0.2972 - val_loss: 0.3783\n",
            "Epoch 4/20\n",
            "500/500 [==============================] - 15s 29ms/step - loss: 0.2703 - val_loss: 0.3192\n",
            "Epoch 5/20\n",
            "500/500 [==============================] - 15s 31ms/step - loss: 0.2559 - val_loss: 0.3117\n",
            "Epoch 6/20\n",
            "500/500 [==============================] - 15s 30ms/step - loss: 0.2483 - val_loss: 0.3163\n",
            "Epoch 7/20\n",
            "500/500 [==============================] - 15s 30ms/step - loss: 0.2401 - val_loss: 0.3248\n",
            "Epoch 8/20\n",
            "500/500 [==============================] - 15s 30ms/step - loss: 0.2338 - val_loss: 0.3152\n",
            "Epoch 9/20\n",
            "500/500 [==============================] - 15s 30ms/step - loss: 0.2298 - val_loss: 0.3253\n",
            "Epoch 10/20\n",
            "500/500 [==============================] - 15s 31ms/step - loss: 0.2256 - val_loss: 0.3143\n",
            "Epoch 11/20\n",
            "500/500 [==============================] - 15s 31ms/step - loss: 0.2216 - val_loss: 0.3222\n",
            "Epoch 12/20\n",
            "500/500 [==============================] - 15s 31ms/step - loss: 0.2197 - val_loss: 0.3254\n",
            "Epoch 13/20\n",
            "500/500 [==============================] - 15s 31ms/step - loss: 0.2175 - val_loss: 0.3296\n",
            "Epoch 14/20\n",
            "500/500 [==============================] - 15s 31ms/step - loss: 0.2133 - val_loss: 0.3196\n",
            "Epoch 15/20\n",
            "500/500 [==============================] - 16s 32ms/step - loss: 0.2118 - val_loss: 0.3352\n",
            "Epoch 16/20\n",
            "500/500 [==============================] - 15s 30ms/step - loss: 0.2083 - val_loss: 0.3365\n",
            "Epoch 17/20\n",
            "500/500 [==============================] - 16s 31ms/step - loss: 0.2055 - val_loss: 0.3548\n",
            "Epoch 18/20\n",
            "500/500 [==============================] - 16s 32ms/step - loss: 0.2025 - val_loss: 0.3300\n",
            "Epoch 19/20\n",
            "500/500 [==============================] - 15s 30ms/step - loss: 0.2018 - val_loss: 0.3405\n",
            "Epoch 20/20\n",
            "500/500 [==============================] - 15s 30ms/step - loss: 0.1992 - val_loss: 0.3497\n"
          ],
          "name": "stdout"
        }
      ]
    },
    {
      "metadata": {
        "id": "4wFHh_foVCwU",
        "colab_type": "code",
        "colab": {
          "base_uri": "https://localhost:8080/",
          "height": 362
        },
        "outputId": "c52ba26a-5f73-4d80-e9d0-3994a741afac"
      },
      "cell_type": "code",
      "source": [
        "loss = history.history['loss']\n",
        "val_loss = history.history['val_loss']\n",
        "\n",
        "epochs = range(1, len(loss) + 1)\n",
        "plt.figure()\n",
        "\n",
        "plt.plot(epochs, loss, 'bo', label='Training loss')\n",
        "plt.plot(epochs, val_loss, 'b', label='Validation loss')\n",
        "plt.title('Training and validation loss')\n",
        "plt.legend()\n",
        "\n",
        "plt.show()"
      ],
      "execution_count": 56,
      "outputs": [
        {
          "output_type": "display_data",
          "data": {
            "image/png": "[encoded data removed]",
            "text/plain": [
              "<Figure size 576x396 with 1 Axes>"
            ]
          },
          "metadata": {
            "tags": []
          }
        }
      ]
    },
    {
      "metadata": {
        "id": "l94A2VsOWZe7",
        "colab_type": "text"
      },
      "cell_type": "markdown",
      "source": [
        "## RNN Baseline"
      ]
    },
    {
      "metadata": {
        "id": "wQdNrl07W2ug",
        "colab_type": "code",
        "colab": {
          "base_uri": "https://localhost:8080/",
          "height": 34
        },
        "outputId": "5d843334-9da3-4a08-c789-1bed77fdb040"
      },
      "cell_type": "code",
      "source": [
        "from keras.models import Sequential\n",
        "from keras import layers\n",
        "from keras.optimizers import RMSprop"
      ],
      "execution_count": 17,
      "outputs": [
        {
          "output_type": "stream",
          "text": [
            "Using TensorFlow backend.\n"
          ],
          "name": "stderr"
        }
      ]
    },
    {
      "metadata": {
        "id": "eYooGBDhXTgH",
        "colab_type": "code",
        "colab": {}
      },
      "cell_type": "code",
      "source": [
        "def createBaselineGRUModel():\n",
        "  model = Sequential()\n",
        "  model.add(layers.GRU(32, input_shape=(None, float_data.shape[-1])))\n",
        "  model.add(layers.Dense(1))\n",
        "  model.compile(optimizer=RMSprop(), loss='mae')\n",
        "  \n",
        "  return model"
      ],
      "execution_count": 0,
      "outputs": []
    },
    {
      "metadata": {
        "id": "wzrm0Q4_XhCR",
        "colab_type": "code",
        "colab": {
          "base_uri": "https://localhost:8080/",
          "height": 819
        },
        "outputId": "9c1fb5b2-cf91-447e-d16a-f9dd317bb4c7"
      },
      "cell_type": "code",
      "source": [
        "gru_model = createBaselineGRUModel()\n",
        "history = gru_model.fit_generator(train_gen,\n",
        "                                  steps_per_epoch=500,\n",
        "                                  epochs=20,\n",
        "                                  validation_data=val_gen,\n",
        "                                  validation_steps=val_steps)"
      ],
      "execution_count": 19,
      "outputs": [
        {
          "output_type": "stream",
          "text": [
            "WARNING:tensorflow:From /usr/local/lib/python3.6/dist-packages/tensorflow/python/framework/op_def_library.py:263: colocate_with (from tensorflow.python.framework.ops) is deprecated and will be removed in a future version.\n",
            "Instructions for updating:\n",
            "Colocations handled automatically by placer.\n",
            "WARNING:tensorflow:From /usr/local/lib/python3.6/dist-packages/tensorflow/python/ops/math_ops.py:3066: to_int32 (from tensorflow.python.ops.math_ops) is deprecated and will be removed in a future version.\n",
            "Instructions for updating:\n",
            "Use tf.cast instead.\n",
            "Epoch 1/20\n",
            "500/500 [==============================] - 107s 213ms/step - loss: 0.3049 - val_loss: 0.2723\n",
            "Epoch 2/20\n",
            "500/500 [==============================] - 106s 212ms/step - loss: 0.2838 - val_loss: 0.2746\n",
            "Epoch 3/20\n",
            "500/500 [==============================] - 106s 212ms/step - loss: 0.2765 - val_loss: 0.2762\n",
            "Epoch 4/20\n",
            "500/500 [==============================] - 106s 212ms/step - loss: 0.2729 - val_loss: 0.2639\n",
            "Epoch 5/20\n",
            "500/500 [==============================] - 106s 212ms/step - loss: 0.2663 - val_loss: 0.2663\n",
            "Epoch 6/20\n",
            "500/500 [==============================] - 106s 212ms/step - loss: 0.2624 - val_loss: 0.2720\n",
            "Epoch 7/20\n",
            "500/500 [==============================] - 105s 210ms/step - loss: 0.2581 - val_loss: 0.2665\n",
            "Epoch 8/20\n",
            "500/500 [==============================] - 106s 211ms/step - loss: 0.2531 - val_loss: 0.2663\n",
            "Epoch 9/20\n",
            "500/500 [==============================] - 106s 211ms/step - loss: 0.2482 - val_loss: 0.2692\n",
            "Epoch 10/20\n",
            "500/500 [==============================] - 105s 210ms/step - loss: 0.2443 - val_loss: 0.2745\n",
            "Epoch 11/20\n",
            "500/500 [==============================] - 106s 211ms/step - loss: 0.2410 - val_loss: 0.2747\n",
            "Epoch 12/20\n",
            "500/500 [==============================] - 105s 211ms/step - loss: 0.2386 - val_loss: 0.2791\n",
            "Epoch 13/20\n",
            "500/500 [==============================] - 105s 210ms/step - loss: 0.2356 - val_loss: 0.2838\n",
            "Epoch 14/20\n",
            "500/500 [==============================] - 105s 211ms/step - loss: 0.2314 - val_loss: 0.2866\n",
            "Epoch 15/20\n",
            "500/500 [==============================] - 105s 210ms/step - loss: 0.2287 - val_loss: 0.2935\n",
            "Epoch 16/20\n",
            "500/500 [==============================] - 105s 210ms/step - loss: 0.2247 - val_loss: 0.2915\n",
            "Epoch 17/20\n",
            "500/500 [==============================] - 105s 210ms/step - loss: 0.2217 - val_loss: 0.3027\n",
            "Epoch 18/20\n",
            "500/500 [==============================] - 105s 210ms/step - loss: 0.2177 - val_loss: 0.3058\n",
            "Epoch 19/20\n",
            "500/500 [==============================] - 105s 210ms/step - loss: 0.2143 - val_loss: 0.3032\n",
            "Epoch 20/20\n",
            "500/500 [==============================] - 105s 209ms/step - loss: 0.2124 - val_loss: 0.3073\n"
          ],
          "name": "stdout"
        }
      ]
    },
    {
      "metadata": {
        "id": "_Z_qMhSgXxma",
        "colab_type": "code",
        "colab": {
          "base_uri": "https://localhost:8080/",
          "height": 362
        },
        "outputId": "e1bf359f-0490-4fc4-acf5-5c7fde063cb3"
      },
      "cell_type": "code",
      "source": [
        "loss = history.history['loss']\n",
        "val_loss = history.history['val_loss']\n",
        "\n",
        "epochs = range(1, len(loss) + 1)\n",
        "plt.figure()\n",
        "\n",
        "plt.plot(epochs, loss, 'bo', label='Training loss')\n",
        "plt.plot(epochs, val_loss, 'b', label='Validation loss')\n",
        "plt.title('Training and validation loss')\n",
        "plt.legend()\n",
        "\n",
        "plt.show()"
      ],
      "execution_count": 20,
      "outputs": [
        {
          "output_type": "display_data",
          "data": {
            "image/png": "[encoded data removed]",
            "text/plain": [
              "<Figure size 576x396 with 1 Axes>"
            ]
          },
          "metadata": {
            "tags": []
          }
        }
      ]
    },
    {
      "metadata": {
        "id": "iTOj-2xXuMY8",
        "colab_type": "text"
      },
      "cell_type": "markdown",
      "source": [
        "## Using recurrent dropout to fight overfitting\n",
        "* The proper way to use dropout with a recurrent network: the same dropout mask (the same pattern of dropped units) should be applied at every time- step, instead of a dropout mask that varies randomly from timestep to timestep.\n",
        "* Also, a temporally constant dropout mask should be applied to the inner recurrent activations of the layer (a recurrent dropout mask)."
      ]
    },
    {
      "metadata": {
        "id": "0zqEnBJbuRkj",
        "colab_type": "code",
        "colab": {
          "base_uri": "https://localhost:8080/",
          "height": 1448
        },
        "outputId": "3cb9633b-beb2-45b4-d49c-37f1a2e21751"
      },
      "cell_type": "code",
      "source": [
        "from keras.models import Sequential\n",
        "from keras import layers\n",
        "from keras.optimizers import RMSprop\n",
        "\n",
        "model = Sequential()\n",
        "model.add(layers.GRU(32,\n",
        "                     dropout=0.2,\n",
        "                     recurrent_dropout=0.2,\n",
        "                     input_shape=(None, float_data.shape[-1])))\n",
        "\n",
        "model.add(layers.Dense(1))\n",
        "model.compile(optimizer=RMSprop(), loss='mae')\n",
        "history = model.fit_generator(train_gen,\n",
        "                              steps_per_epoch=500,\n",
        "                              epochs=40,\n",
        "                              validation_data=val_gen,\n",
        "                              validation_steps=val_steps)"
      ],
      "execution_count": 21,
      "outputs": [
        {
          "output_type": "stream",
          "text": [
            "WARNING:tensorflow:From /usr/local/lib/python3.6/dist-packages/keras/backend/tensorflow_backend.py:3445: calling dropout (from tensorflow.python.ops.nn_ops) with keep_prob is deprecated and will be removed in a future version.\n",
            "Instructions for updating:\n",
            "Please use `rate` instead of `keep_prob`. Rate should be set to `rate = 1 - keep_prob`.\n",
            "Epoch 1/40\n",
            "500/500 [==============================] - 123s 246ms/step - loss: 0.3350 - val_loss: 0.2784\n",
            "Epoch 2/40\n",
            "500/500 [==============================] - 121s 242ms/step - loss: 0.3157 - val_loss: 0.2761\n",
            "Epoch 3/40\n",
            "500/500 [==============================] - 122s 243ms/step - loss: 0.3081 - val_loss: 0.2682\n",
            "Epoch 4/40\n",
            "500/500 [==============================] - 122s 245ms/step - loss: 0.3057 - val_loss: 0.2701\n",
            "Epoch 5/40\n",
            "500/500 [==============================] - 122s 245ms/step - loss: 0.3002 - val_loss: 0.2676\n",
            "Epoch 6/40\n",
            "500/500 [==============================] - 123s 246ms/step - loss: 0.2984 - val_loss: 0.2692\n",
            "Epoch 7/40\n",
            "500/500 [==============================] - 122s 245ms/step - loss: 0.2958 - val_loss: 0.2671\n",
            "Epoch 8/40\n",
            "500/500 [==============================] - 121s 243ms/step - loss: 0.2954 - val_loss: 0.2644\n",
            "Epoch 9/40\n",
            "500/500 [==============================] - 124s 247ms/step - loss: 0.2934 - val_loss: 0.2641\n",
            "Epoch 10/40\n",
            "500/500 [==============================] - 124s 247ms/step - loss: 0.2917 - val_loss: 0.2775\n",
            "Epoch 11/40\n",
            "500/500 [==============================] - 123s 245ms/step - loss: 0.2916 - val_loss: 0.2640\n",
            "Epoch 12/40\n",
            "500/500 [==============================] - 123s 247ms/step - loss: 0.2888 - val_loss: 0.2643\n",
            "Epoch 13/40\n",
            "500/500 [==============================] - 122s 244ms/step - loss: 0.2888 - val_loss: 0.2650\n",
            "Epoch 14/40\n",
            "500/500 [==============================] - 122s 244ms/step - loss: 0.2884 - val_loss: 0.2657\n",
            "Epoch 15/40\n",
            "500/500 [==============================] - 122s 243ms/step - loss: 0.2844 - val_loss: 0.2619\n",
            "Epoch 16/40\n",
            "500/500 [==============================] - 121s 241ms/step - loss: 0.2850 - val_loss: 0.2687\n",
            "Epoch 17/40\n",
            "500/500 [==============================] - 121s 242ms/step - loss: 0.2832 - val_loss: 0.2640\n",
            "Epoch 18/40\n",
            "500/500 [==============================] - 120s 240ms/step - loss: 0.2840 - val_loss: 0.2622\n",
            "Epoch 19/40\n",
            "500/500 [==============================] - 121s 242ms/step - loss: 0.2839 - val_loss: 0.2630\n",
            "Epoch 20/40\n",
            "500/500 [==============================] - 120s 241ms/step - loss: 0.2818 - val_loss: 0.2607\n",
            "Epoch 21/40\n",
            "500/500 [==============================] - 121s 242ms/step - loss: 0.2814 - val_loss: 0.2646\n",
            "Epoch 22/40\n",
            "500/500 [==============================] - 122s 245ms/step - loss: 0.2789 - val_loss: 0.2623\n",
            "Epoch 23/40\n",
            "500/500 [==============================] - 121s 243ms/step - loss: 0.2803 - val_loss: 0.2642\n",
            "Epoch 24/40\n",
            "500/500 [==============================] - 126s 252ms/step - loss: 0.2793 - val_loss: 0.2634\n",
            "Epoch 25/40\n",
            "500/500 [==============================] - 123s 246ms/step - loss: 0.2788 - val_loss: 0.2617\n",
            "Epoch 26/40\n",
            "500/500 [==============================] - 122s 245ms/step - loss: 0.2796 - val_loss: 0.2646\n",
            "Epoch 27/40\n",
            "500/500 [==============================] - 123s 245ms/step - loss: 0.2753 - val_loss: 0.2652\n",
            "Epoch 28/40\n",
            "500/500 [==============================] - 123s 245ms/step - loss: 0.2767 - val_loss: 0.2648\n",
            "Epoch 29/40\n",
            "500/500 [==============================] - 123s 246ms/step - loss: 0.2751 - val_loss: 0.2638\n",
            "Epoch 30/40\n",
            "500/500 [==============================] - 123s 245ms/step - loss: 0.2740 - val_loss: 0.2695\n",
            "Epoch 31/40\n",
            "500/500 [==============================] - 122s 244ms/step - loss: 0.2752 - val_loss: 0.2791\n",
            "Epoch 32/40\n",
            "500/500 [==============================] - 124s 248ms/step - loss: 0.2733 - val_loss: 0.2682\n",
            "Epoch 33/40\n",
            "500/500 [==============================] - 123s 245ms/step - loss: 0.2731 - val_loss: 0.2676\n",
            "Epoch 34/40\n",
            "500/500 [==============================] - 123s 246ms/step - loss: 0.2740 - val_loss: 0.2734\n",
            "Epoch 35/40\n",
            "500/500 [==============================] - 123s 245ms/step - loss: 0.2726 - val_loss: 0.2656\n",
            "Epoch 36/40\n",
            "500/500 [==============================] - 121s 242ms/step - loss: 0.2730 - val_loss: 0.2680\n",
            "Epoch 37/40\n",
            "500/500 [==============================] - 123s 247ms/step - loss: 0.2727 - val_loss: 0.2721\n",
            "Epoch 38/40\n",
            "500/500 [==============================] - 122s 245ms/step - loss: 0.2713 - val_loss: 0.2655\n",
            "Epoch 39/40\n",
            "500/500 [==============================] - 123s 246ms/step - loss: 0.2719 - val_loss: 0.2662\n",
            "Epoch 40/40\n",
            "500/500 [==============================] - 123s 247ms/step - loss: 0.2694 - val_loss: 0.2675\n"
          ],
          "name": "stdout"
        }
      ]
    },
    {
      "metadata": {
        "id": "2tQyWo_WvNcp",
        "colab_type": "code",
        "colab": {
          "base_uri": "https://localhost:8080/",
          "height": 362
        },
        "outputId": "421f1762-90f6-4b39-dc94-686529621f15"
      },
      "cell_type": "code",
      "source": [
        "loss = history.history['loss']\n",
        "val_loss = history.history['val_loss']\n",
        "\n",
        "epochs = range(1, len(loss) + 1)\n",
        "plt.figure()\n",
        "\n",
        "plt.plot(epochs, loss, 'bo', label='Training loss')\n",
        "plt.plot(epochs, val_loss, 'b', label='Validation loss')\n",
        "plt.title('Training and validation loss')\n",
        "plt.legend()\n",
        "\n",
        "plt.show()"
      ],
      "execution_count": 22,
      "outputs": [
        {
          "output_type": "display_data",
          "data": {
            "image/png": "[encoded data removed]",
            "text/plain": [
              "<Figure size 576x396 with 1 Axes>"
            ]
          },
          "metadata": {
            "tags": []
          }
        }
      ]
    },
    {
      "metadata": {
        "id": "am-f5x0_vgxB",
        "colab_type": "text"
      },
      "cell_type": "markdown",
      "source": [
        "## Stacking recurrent layers (increase network capacity)\n",
        "* It is generally a good idea to increase the capacity of your network until overfitting becomes the primary obstacle, As long as you aren’t overfitting too badly, you’re likely under capacity.\n",
        "* What currently powers the Google Translate algorithm is a stack of seven large LSTM layers\n",
        "* To stack recurrent layers on top of each other in Keras, all intermediate layers should return their full sequence of outputs (a 3D tensor) rather than their output at the last timestep"
      ]
    },
    {
      "metadata": {
        "id": "mbOkF1lvvmud",
        "colab_type": "code",
        "colab": {}
      },
      "cell_type": "code",
      "source": [
        "from keras.models import Sequential\n",
        "from keras import layers\n",
        "from keras.optimizers import RMSprop"
      ],
      "execution_count": 0,
      "outputs": []
    },
    {
      "metadata": {
        "id": "3Zra61LQxwBm",
        "colab_type": "code",
        "colab": {}
      },
      "cell_type": "code",
      "source": [
        "model = Sequential()\n",
        "\n",
        "model.add(layers.GRU(32,\n",
        "                     dropout=0.1,\n",
        "                     recurrent_dropout=0.5,\n",
        "                     return_sequences=True,\n",
        "                     input_shape=(None, float_data.shape[-1])))\n",
        "\n",
        "model.add(layers.GRU(64, activation='relu',\n",
        "                     dropout=0.1,\n",
        "                     recurrent_dropout=0.5))\n",
        "\n",
        "model.add(layers.Dense(1))\n",
        "\n",
        "model.compile(optimizer=RMSprop(), loss='mae')\n",
        "\n",
        "history = model.fit_generator(train_gen,\n",
        "                              steps_per_epoch=500,\n",
        "                              epochs=40,\n",
        "                              validation_data=val_gen,\n",
        "                              validation_steps=val_steps)"
      ],
      "execution_count": 0,
      "outputs": []
    },
    {
      "metadata": {
        "id": "3b4XfNZLx6uh",
        "colab_type": "code",
        "colab": {}
      },
      "cell_type": "code",
      "source": [
        "loss = history.history['loss']\n",
        "val_loss = history.history['val_loss']\n",
        "\n",
        "epochs = range(1, len(loss) + 1)\n",
        "plt.figure()\n",
        "\n",
        "plt.plot(epochs, loss, 'bo', label='Training loss')\n",
        "plt.plot(epochs, val_loss, 'b', label='Validation loss')\n",
        "plt.title('Training and validation loss')\n",
        "plt.legend()\n",
        "\n",
        "plt.show()"
      ],
      "execution_count": 0,
      "outputs": []
    },
    {
      "metadata": {
        "id": "v8bkfBidyVJq",
        "colab_type": "text"
      },
      "cell_type": "markdown",
      "source": [
        "## Using bidirectional RNNs\n",
        "* Frequently used in natural-language processing\n",
        "* This method consists of using two regular RNNs, such as the GRU and LSTM layers, each of which processes the input sequence in one direc- tion (chronologically and antichronologically), and then merging their representations"
      ]
    }
  ]
}