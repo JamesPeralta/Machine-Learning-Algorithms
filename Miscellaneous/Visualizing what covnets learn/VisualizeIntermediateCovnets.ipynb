{
  "nbformat": 4,
  "nbformat_minor": 0,
  "metadata": {
    "colab": {
      "name": "VisualizeIntermediateCovnets.ipynb",
      "version": "0.3.2",
      "provenance": [],
      "collapsed_sections": [],
      "include_colab_link": true
    },
    "kernelspec": {
      "name": "python3",
      "display_name": "Python 3"
    }
  },
  "cells": [
    {
      "cell_type": "markdown",
      "metadata": {
        "id": "view-in-github",
        "colab_type": "text"
      },
      "source": [
        "<a href=\"https://colab.research.google.com/github/JamesPeralta/Machine-Learning-Algorithms/blob/master/Miscellaneous/Visualizing%20what%20covnets%20learn/VisualizeIntermediateCovnets.ipynb\" target=\"_parent\"><img src=\"https://colab.research.google.com/assets/colab-badge.svg\" alt=\"Open In Colab\"/></a>"
      ]
    },
    {
      "metadata": {
        "id": "nl1BpyR2_JXJ",
        "colab_type": "text"
      },
      "cell_type": "markdown",
      "source": [
        "## Visualizing intermediate covnet outputs (intermediate activations)\n",
        "### Useful for understanding how successive convnet layers transform their input, and for getting a first idea of the meaning of individual convnet filters.\n",
        "\n",
        "\n"
      ]
    },
    {
      "metadata": {
        "id": "w2AVCKvc9km2",
        "colab_type": "code",
        "colab": {}
      },
      "cell_type": "code",
      "source": [
        ""
      ],
      "execution_count": 0,
      "outputs": []
    }
  ]
}