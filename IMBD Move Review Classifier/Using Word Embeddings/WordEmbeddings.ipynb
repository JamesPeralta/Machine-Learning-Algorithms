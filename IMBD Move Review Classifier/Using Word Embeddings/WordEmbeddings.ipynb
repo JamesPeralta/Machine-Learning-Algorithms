{
  "nbformat": 4,
  "nbformat_minor": 0,
  "metadata": {
    "colab": {
      "name": "WordEmbeddings.ipynb",
      "version": "0.3.2",
      "provenance": [],
      "collapsed_sections": [],
      "toc_visible": true,
      "include_colab_link": true
    },
    "kernelspec": {
      "name": "python3",
      "display_name": "Python 3"
    }
  },
  "cells": [
    {
      "cell_type": "markdown",
      "metadata": {
        "id": "view-in-github",
        "colab_type": "text"
      },
      "source": [
        "<a href=\"https://colab.research.google.com/github/JamesPeralta/Machine-Learning-Algorithms/blob/master/IMBD%20Move%20Review%20Classifier/Using%20Word%20Embeddings/WordEmbeddings.ipynb\" target=\"_parent\"><img src=\"https://colab.research.google.com/assets/colab-badge.svg\" alt=\"Open In Colab\"/></a>"
      ]
    },
    {
      "metadata": {
        "id": "P9uu-Iz3rnU-",
        "colab_type": "text"
      },
      "cell_type": "markdown",
      "source": [
        "## Word embeddings\n",
        "\n",
        "Word embeddings are low dimensional floating-pint vectors. Unlike one-hot encoding, word embeddings are learned from the data.\n",
        "Word embeddings pack more information into far fewer dimensions."
      ]
    },
    {
      "metadata": {
        "id": "WCK-xvWEsXEq",
        "colab_type": "text"
      },
      "cell_type": "markdown",
      "source": [
        "### 1. Learn word embeddings jointly with the main task\n",
        "In this setup, you start with random word vectors and then learn word vectors in the same way you learn the weights of a neural network."
      ]
    },
    {
      "metadata": {
        "id": "T9OftpxYsqgq",
        "colab_type": "code",
        "colab": {}
      },
      "cell_type": "code",
      "source": [
        "from keras.layers import Embedding\n",
        "from keras.datasets import imdb\n",
        "from keras import preprocessing\n",
        "from keras.models import Sequential\n",
        "from keras.layers import Flatten, Dense"
      ],
      "execution_count": 0,
      "outputs": []
    },
    {
      "metadata": {
        "id": "XEBrg2xY8TXD",
        "colab_type": "text"
      },
      "cell_type": "markdown",
      "source": [
        "#### Loading the IMDB data for use with an Embedding layer"
      ]
    },
    {
      "metadata": {
        "id": "qyTtNy5E7KyN",
        "colab_type": "code",
        "colab": {}
      },
      "cell_type": "code",
      "source": [
        "max_features = 1000\n",
        "maxlen = 20\n",
        "\n",
        "(x_train, y_train), (x_test, y_test) = imdb.load_data(num_words=max_features)\n",
        "\n",
        "x_train = preprocessing.sequence.pad_sequences(x_train, maxlen=maxlen) \n",
        "x_test = preprocessing.sequence.pad_sequences(x_test, maxlen=maxlen)"
      ],
      "execution_count": 0,
      "outputs": []
    },
    {
      "metadata": {
        "id": "71HJkbON8O1K",
        "colab_type": "text"
      },
      "cell_type": "markdown",
      "source": [
        "#### Using an Embedding layer and classifier on the IMDB data"
      ]
    },
    {
      "metadata": {
        "id": "PxPuFFHP8X7A",
        "colab_type": "code",
        "outputId": "40f12803-0e13-443d-c8a8-41ba1d8462e5",
        "colab": {
          "base_uri": "https://localhost:8080/",
          "height": 238
        }
      },
      "cell_type": "code",
      "source": [
        "model = Sequential()\n",
        "model.add(Embedding(10000, 8, input_length=maxlen))\n",
        "\n",
        "model.add(Flatten())\n",
        "\n",
        "model.add(Dense(1, activation='sigmoid'))\n",
        "model.compile(optimizer='rmsprop', loss='binary_crossentropy', metrics=['acc']) \n",
        "model.summary()"
      ],
      "execution_count": 0,
      "outputs": [
        {
          "output_type": "stream",
          "text": [
            "_________________________________________________________________\n",
            "Layer (type)                 Output Shape              Param #   \n",
            "=================================================================\n",
            "embedding_3 (Embedding)      (None, 20, 8)             80000     \n",
            "_________________________________________________________________\n",
            "flatten_2 (Flatten)          (None, 160)               0         \n",
            "_________________________________________________________________\n",
            "dense_2 (Dense)              (None, 1)                 161       \n",
            "=================================================================\n",
            "Total params: 80,161\n",
            "Trainable params: 80,161\n",
            "Non-trainable params: 0\n",
            "_________________________________________________________________\n"
          ],
          "name": "stdout"
        }
      ]
    },
    {
      "metadata": {
        "id": "M5-a6l3x9pSR",
        "colab_type": "code",
        "outputId": "1202b1f6-50ff-456b-efd0-51ed7433c5fb",
        "colab": {
          "base_uri": "https://localhost:8080/",
          "height": 374
        }
      },
      "cell_type": "code",
      "source": [
        "history = model.fit(x_train, y_train, epochs=10, batch_size=32, validation_split=0.2)"
      ],
      "execution_count": 0,
      "outputs": [
        {
          "output_type": "stream",
          "text": [
            "Train on 20000 samples, validate on 5000 samples\n",
            "Epoch 1/10\n",
            "20000/20000 [==============================] - 2s 82us/step - loss: 0.6772 - acc: 0.6006 - val_loss: 0.6448 - val_acc: 0.6704\n",
            "Epoch 2/10\n",
            "20000/20000 [==============================] - 1s 71us/step - loss: 0.5830 - acc: 0.7188 - val_loss: 0.5629 - val_acc: 0.7046\n",
            "Epoch 3/10\n",
            "20000/20000 [==============================] - 1s 68us/step - loss: 0.5152 - acc: 0.7463 - val_loss: 0.5362 - val_acc: 0.7208\n",
            "Epoch 4/10\n",
            "20000/20000 [==============================] - 1s 69us/step - loss: 0.4879 - acc: 0.7607 - val_loss: 0.5299 - val_acc: 0.7292\n",
            "Epoch 5/10\n",
            "20000/20000 [==============================] - 1s 69us/step - loss: 0.4731 - acc: 0.7694 - val_loss: 0.5290 - val_acc: 0.7334\n",
            "Epoch 6/10\n",
            "20000/20000 [==============================] - 1s 69us/step - loss: 0.4633 - acc: 0.7773 - val_loss: 0.5317 - val_acc: 0.7344\n",
            "Epoch 7/10\n",
            "20000/20000 [==============================] - 1s 70us/step - loss: 0.4548 - acc: 0.7820 - val_loss: 0.5333 - val_acc: 0.7318\n",
            "Epoch 8/10\n",
            "20000/20000 [==============================] - 1s 69us/step - loss: 0.4471 - acc: 0.7869 - val_loss: 0.5377 - val_acc: 0.7288\n",
            "Epoch 9/10\n",
            "20000/20000 [==============================] - 1s 66us/step - loss: 0.4399 - acc: 0.7924 - val_loss: 0.5422 - val_acc: 0.7280\n",
            "Epoch 10/10\n",
            "20000/20000 [==============================] - 1s 67us/step - loss: 0.4328 - acc: 0.7957 - val_loss: 0.5458 - val_acc: 0.7290\n"
          ],
          "name": "stdout"
        }
      ]
    },
    {
      "metadata": {
        "id": "LnWWtRWNsi3x",
        "colab_type": "text"
      },
      "cell_type": "markdown",
      "source": [
        "### 2. Load into your model word embeddings that were precomputed using a different machine-learning task"
      ]
    },
    {
      "metadata": {
        "id": "_0H3uFfiDk6y",
        "colab_type": "text"
      },
      "cell_type": "markdown",
      "source": [
        "#### Downloading the IMDB Data as raw text"
      ]
    },
    {
      "metadata": {
        "id": "FXVvA1nxFILh",
        "colab_type": "code",
        "colab": {}
      },
      "cell_type": "code",
      "source": [
        "import os\n",
        "from keras.preprocessing.text import Tokenizer\n",
        "from keras.preprocessing.sequence import pad_sequences\n",
        "import numpy as np"
      ],
      "execution_count": 0,
      "outputs": []
    },
    {
      "metadata": {
        "id": "Vc6hYZLKF0uO",
        "colab_type": "code",
        "outputId": "ae775aa6-4432-4921-b487-ccab2f84a586",
        "colab": {
          "base_uri": "https://localhost:8080/",
          "height": 34
        }
      },
      "cell_type": "code",
      "source": [
        "imdb_data = '/Users/jamesperalta/Desktop/imdb'\n",
        "os.chdir(imdb_data)\n",
        "\n",
        "os.listdir()"
      ],
      "execution_count": 22,
      "outputs": [
        {
          "output_type": "execute_result",
          "data": {
            "text/plain": [
              "['.DS_Store', 'test', 'pre_trained_glove_model.h5', 'train']"
            ]
          },
          "metadata": {
            "tags": []
          },
          "execution_count": 22
        }
      ]
    },
    {
      "metadata": {
        "id": "Hh7pRRc-ZMwP",
        "colab_type": "text"
      },
      "cell_type": "markdown",
      "source": [
        "#### Processing the labels of the raw IMDB data"
      ]
    },
    {
      "metadata": {
        "id": "aZpatRY1Y9Tu",
        "colab_type": "code",
        "colab": {}
      },
      "cell_type": "code",
      "source": [
        "train_dir = os.path.join(imdb_data, 'train')\n",
        "labels = []\n",
        "texts = []\n",
        "for label_type in ['neg', 'pos']:\n",
        "    dir_name = os.path.join(train_dir, label_type)\n",
        "    for fname in os.listdir(dir_name):\n",
        "        if fname[-4:] == '.txt':\n",
        "            f = open(os.path.join(dir_name, fname))\n",
        "            texts.append(f.read())\n",
        "            f.close()\n",
        "            if label_type == 'neg':\n",
        "                labels.append(0)\n",
        "            else:\n",
        "                labels.append(1)"
      ],
      "execution_count": 0,
      "outputs": []
    },
    {
      "metadata": {
        "id": "RU0RfFp-ZSX0",
        "colab_type": "text"
      },
      "cell_type": "markdown",
      "source": [
        "#### Tokenizing the text of the raw IMDB data"
      ]
    },
    {
      "metadata": {
        "id": "vu3ZiUkyaOlo",
        "colab_type": "code",
        "colab": {}
      },
      "cell_type": "code",
      "source": [
        "maxlen = 100\n",
        "training_samples = 5000\n",
        "validation_samples = 5000\n",
        "max_words = 10000\n",
        "\n",
        "tokenizer = Tokenizer(num_words=max_words)\n",
        "tokenizer.fit_on_texts(texts)\n",
        "sequences = tokenizer.texts_to_sequences(texts)"
      ],
      "execution_count": 0,
      "outputs": []
    },
    {
      "metadata": {
        "id": "sURaBOlnrsGx",
        "colab_type": "code",
        "outputId": "924684fe-e411-4ba3-a74d-3c563d69ffde",
        "colab": {
          "base_uri": "https://localhost:8080/",
          "height": 85
        }
      },
      "cell_type": "code",
      "source": [
        "word_index = tokenizer.word_index\n",
        "print('Found %s unique tokens.' % len(word_index))\n",
        "data = pad_sequences(sequences, maxlen=maxlen)\n",
        "labels = np.asarray(labels)\n",
        "print('Shape of data tensor:', data.shape)\n",
        "print('Shape of label tensor:', labels.shape)\n",
        "\n",
        "indices = np.arange(data.shape[0])\n",
        "np.random.shuffle(indices)\n",
        "data = data[indices]\n",
        "labels = labels[indices]\n",
        "print(indices)\n",
        "\n",
        "x_train = data[:training_samples]\n",
        "y_train = labels[:training_samples]\n",
        "x_val = data[training_samples: training_samples + validation_samples] \n",
        "y_val = labels[training_samples: training_samples + validation_samples]"
      ],
      "execution_count": 25,
      "outputs": [
        {
          "output_type": "stream",
          "text": [
            "Found 88582 unique tokens.\n",
            "Shape of data tensor: (25000, 100)\n",
            "Shape of label tensor: (25000,)\n",
            "[ 8731 13090 11393 ... 22916  6096  9424]\n"
          ],
          "name": "stdout"
        }
      ]
    },
    {
      "metadata": {
        "id": "qTkRPS4CImrg",
        "colab_type": "text"
      },
      "cell_type": "markdown",
      "source": [
        "#### Parsing the gloVe word embeddings"
      ]
    },
    {
      "metadata": {
        "id": "tld8p-9RLr_B",
        "colab_type": "code",
        "outputId": "26797526-4132-4cfe-b89d-acaff25b1f13",
        "colab": {
          "base_uri": "https://localhost:8080/",
          "height": 34
        }
      },
      "cell_type": "code",
      "source": [
        "glove_dir = '/Users/jamesperalta/Downloads/glove'\n",
        "\n",
        "embeddings_index = {}\n",
        "f = open(os.path.join(glove_dir, 'glove.6B.100d.txt'))\n",
        "for line in f:\n",
        "    values = line.split()\n",
        "    word = values[0]\n",
        "    coefs = np.asarray(values[1:], dtype='float32')\n",
        "    embeddings_index[word] = coefs\n",
        "f.close()\n",
        "print('Found %s word vectors.' % len(embeddings_index))"
      ],
      "execution_count": 26,
      "outputs": [
        {
          "output_type": "stream",
          "text": [
            "Found 400000 word vectors.\n"
          ],
          "name": "stdout"
        }
      ]
    },
    {
      "metadata": {
        "id": "1r0OJVRbN7rO",
        "colab_type": "text"
      },
      "cell_type": "markdown",
      "source": [
        "#### Build an embedding matrix that I can load into an Embedding layer\n",
        "* It must be a matrix of shape (max_words, embedding_dim)\n",
        "* Where each entry i containts the embedding dimensional vector for that word"
      ]
    },
    {
      "metadata": {
        "id": "z1khBe76N8Q3",
        "colab_type": "code",
        "colab": {}
      },
      "cell_type": "code",
      "source": [
        "embedding_dim = 100\n",
        "\n",
        "embedding_matrix = np.zeros((max_words, embedding_dim))\n",
        "for word, i in word_index.items():\n",
        "  if i < max_words:\n",
        "    embedding_vector = embeddings_index.get(word)\n",
        "    if embedding_vector is not None:\n",
        "      embedding_matrix[i] = embedding_vector"
      ],
      "execution_count": 0,
      "outputs": []
    },
    {
      "metadata": {
        "id": "F8r6nqJ3PxNP",
        "colab_type": "text"
      },
      "cell_type": "markdown",
      "source": [
        "#### Model definition"
      ]
    },
    {
      "metadata": {
        "id": "pFYV7DRuPq4o",
        "colab_type": "code",
        "colab": {
          "base_uri": "https://localhost:8080/",
          "height": 272
        },
        "outputId": "a66269ee-7b8f-43b4-acc2-80d9a0c4505b"
      },
      "cell_type": "code",
      "source": [
        "model = Sequential()\n",
        "model.add(Embedding(max_words, embedding_dim, input_length=maxlen))\n",
        "model.add(Flatten())\n",
        "model.add(Dense(32, activation='relu'))\n",
        "model.add(Dense(1, activation='sigmoid'))\n",
        "model.summary()"
      ],
      "execution_count": 32,
      "outputs": [
        {
          "output_type": "stream",
          "text": [
            "_________________________________________________________________\n",
            "Layer (type)                 Output Shape              Param #   \n",
            "=================================================================\n",
            "embedding_4 (Embedding)      (None, 100, 100)          1000000   \n",
            "_________________________________________________________________\n",
            "flatten_4 (Flatten)          (None, 10000)             0         \n",
            "_________________________________________________________________\n",
            "dense_7 (Dense)              (None, 32)                320032    \n",
            "_________________________________________________________________\n",
            "dense_8 (Dense)              (None, 1)                 33        \n",
            "=================================================================\n",
            "Total params: 1,320,065\n",
            "Trainable params: 1,320,065\n",
            "Non-trainable params: 0\n",
            "_________________________________________________________________\n"
          ],
          "name": "stdout"
        }
      ]
    },
    {
      "metadata": {
        "id": "_V7o9q7wP-3z",
        "colab_type": "text"
      },
      "cell_type": "markdown",
      "source": [
        "#### Loading the pretrained word embeddings into the Embedding layer"
      ]
    },
    {
      "metadata": {
        "id": "DuMISa5LP-SM",
        "colab_type": "code",
        "colab": {}
      },
      "cell_type": "code",
      "source": [
        "model.layers[0].set_weights([embedding_matrix])\n",
        "model.layers[0].trainable = False"
      ],
      "execution_count": 0,
      "outputs": []
    },
    {
      "metadata": {
        "id": "BVA7Ka0TQejW",
        "colab_type": "text"
      },
      "cell_type": "markdown",
      "source": [
        "#### Training and evaluation"
      ]
    },
    {
      "metadata": {
        "id": "yJ37BNelQcT9",
        "colab_type": "code",
        "colab": {
          "base_uri": "https://localhost:8080/",
          "height": 374
        },
        "outputId": "8f21d451-5726-4506-f5e6-ae0af304773c"
      },
      "cell_type": "code",
      "source": [
        "model.compile(optimizer='rmsprop',\n",
        "              loss='binary_crossentropy',\n",
        "              metrics=['acc'])\n",
        "history = model.fit(x_train, y_train,\n",
        "                    epochs=10,\n",
        "                    batch_size=32,\n",
        "                    validation_data=(x_val, y_val))\n",
        "model.save_weights('pre_trained_glove_model.h5')"
      ],
      "execution_count": 33,
      "outputs": [
        {
          "output_type": "stream",
          "text": [
            "Train on 5000 samples, validate on 5000 samples\n",
            "Epoch 1/10\n",
            "5000/5000 [==============================] - 4s 884us/step - loss: 0.6078 - acc: 0.6586 - val_loss: 0.4521 - val_acc: 0.7934\n",
            "Epoch 2/10\n",
            "5000/5000 [==============================] - 3s 676us/step - loss: 0.1641 - acc: 0.9554 - val_loss: 0.4424 - val_acc: 0.7988\n",
            "Epoch 3/10\n",
            "5000/5000 [==============================] - 3s 643us/step - loss: 0.0153 - acc: 0.9972 - val_loss: 0.5343 - val_acc: 0.7996\n",
            "Epoch 4/10\n",
            "5000/5000 [==============================] - 5s 1ms/step - loss: 0.0017 - acc: 0.9994 - val_loss: 0.6397 - val_acc: 0.7926\n",
            "Epoch 5/10\n",
            "5000/5000 [==============================] - 4s 859us/step - loss: 6.1047e-05 - acc: 1.0000 - val_loss: 0.8306 - val_acc: 0.7882\n",
            "Epoch 6/10\n",
            "5000/5000 [==============================] - 3s 622us/step - loss: 1.8839e-06 - acc: 1.0000 - val_loss: 0.8298 - val_acc: 0.7972\n",
            "Epoch 7/10\n",
            "5000/5000 [==============================] - 3s 630us/step - loss: 1.6990e-07 - acc: 1.0000 - val_loss: 0.9205 - val_acc: 0.7956\n",
            "Epoch 8/10\n",
            "5000/5000 [==============================] - 3s 624us/step - loss: 1.2260e-07 - acc: 1.0000 - val_loss: 0.9321 - val_acc: 0.7978\n",
            "Epoch 9/10\n",
            "5000/5000 [==============================] - 3s 634us/step - loss: 1.1044e-07 - acc: 1.0000 - val_loss: 0.9372 - val_acc: 0.7968\n",
            "Epoch 10/10\n",
            "5000/5000 [==============================] - 3s 652us/step - loss: 1.1031e-07 - acc: 1.0000 - val_loss: 0.9458 - val_acc: 0.7974\n"
          ],
          "name": "stdout"
        }
      ]
    },
    {
      "metadata": {
        "id": "jTRklNyIQdEL",
        "colab_type": "code",
        "colab": {
          "base_uri": "https://localhost:8080/",
          "height": 545
        },
        "outputId": "3f61cac3-1ec4-4d3d-9ef3-030042397258"
      },
      "cell_type": "code",
      "source": [
        "import matplotlib.pyplot as plt\n",
        "\n",
        "acc = history.history['acc']\n",
        "val_acc = history.history['val_acc']\n",
        "loss = history.history['loss']\n",
        "val_loss = history.history['val_loss']\n",
        "\n",
        "epochs = range(1, len(acc) + 1)\n",
        "\n",
        "plt.plot(epochs, acc, 'bo', label='Training acc')\n",
        "plt.plot(epochs, val_acc, 'b', label='Validation acc')\n",
        "plt.title('Training and validation accuracy')\n",
        "plt.legend()\n",
        "plt.figure()\n",
        "\n",
        "\n",
        "plt.plot(epochs, loss, 'bo', label='Training loss')\n",
        "plt.plot(epochs, val_loss, 'b', label='Validation loss')\n",
        "plt.title('Training and validation loss')\n",
        "plt.legend()\n",
        "plt.show()"
      ],
      "execution_count": 34,
      "outputs": [
        {
          "output_type": "display_data",
          "data": {
            "text/plain": [
              "<Figure size 432x288 with 1 Axes>"
            ],
            "image/png": "[encoded data removed]"
          },
          "metadata": {
            "tags": [],
            "needs_background": "light"
          }
        },
        {
          "output_type": "display_data",
          "data": {
            "text/plain": [
              "<Figure size 432x288 with 1 Axes>"
            ],
            "image/png": "[encoded data removed]"
          },
          "metadata": {
            "tags": [],
            "needs_background": "light"
          }
        }
      ]
    },
    {
      "metadata": {
        "id": "Ip3w7WgvS95S",
        "colab_type": "text"
      },
      "cell_type": "markdown",
      "source": [
        "#### Finally evaluate the model on the test set"
      ]
    },
    {
      "metadata": {
        "id": "KskXzyGuS-TL",
        "colab_type": "code",
        "colab": {}
      },
      "cell_type": "code",
      "source": [
        "test_dir = os.path.join(imdb_data, 'test')\n",
        "labels = []\n",
        "texts = []\n",
        "for label_type in ['neg', 'pos']:\n",
        "    dir_name = os.path.join(test_dir, label_type)\n",
        "    for fname in sorted(os.listdir(dir_name)):\n",
        "        if fname[-4:] == '.txt':\n",
        "            f = open(os.path.join(dir_name, fname))\n",
        "            texts.append(f.read())\n",
        "            \n",
        "            f.close()\n",
        "            if label_type == 'neg':\n",
        "              labels.append(0)\n",
        "            else:\n",
        "              labels.append(1)\n",
        "    sequences = tokenizer.texts_to_sequences(texts)\n",
        "    x_test = pad_sequences(sequences, maxlen=maxlen)\n",
        "    y_test = np.asarray(labels)"
      ],
      "execution_count": 0,
      "outputs": []
    },
    {
      "metadata": {
        "id": "hU2Nxej2TX2F",
        "colab_type": "code",
        "colab": {
          "base_uri": "https://localhost:8080/",
          "height": 51
        },
        "outputId": "0c2db088-a0c1-4a0c-f9df-99e95063d51b"
      },
      "cell_type": "code",
      "source": [
        "model.load_weights('pre_trained_glove_model.h5')\n",
        "model.evaluate(x_test, y_test)"
      ],
      "execution_count": 37,
      "outputs": [
        {
          "output_type": "stream",
          "text": [
            "25000/25000 [==============================] - 2s 62us/step\n"
          ],
          "name": "stdout"
        },
        {
          "output_type": "execute_result",
          "data": {
            "text/plain": [
              "[0.900509215168953, 0.80252]"
            ]
          },
          "metadata": {
            "tags": []
          },
          "execution_count": 37
        }
      ]
    }
  ]
}