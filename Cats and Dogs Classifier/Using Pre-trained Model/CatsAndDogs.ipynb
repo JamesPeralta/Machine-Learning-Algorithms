{
  "nbformat": 4,
  "nbformat_minor": 0,
  "metadata": {
    "colab": {
      "name": "CatsAndDogs.ipynb",
      "version": "0.3.2",
      "provenance": [],
      "collapsed_sections": [],
      "include_colab_link": true
    },
    "kernelspec": {
      "name": "python3",
      "display_name": "Python 3"
    },
    "accelerator": "TPU"
  },
  "cells": [
    {
      "cell_type": "markdown",
      "metadata": {
        "id": "view-in-github",
        "colab_type": "text"
      },
      "source": [
        "<a href=\"https://colab.research.google.com/github/JamesPeralta/Machine-Learning-Algorithms/blob/master/Cats%20and%20Dogs%20Classifier/Using%20Pre-trained%20Model/CatsAndDogs.ipynb\" target=\"_parent\"><img src=\"https://colab.research.google.com/assets/colab-badge.svg\" alt=\"Open In Colab\"/></a>"
      ]
    },
    {
      "metadata": {
        "id": "RXKCtIZvUpUd",
        "colab_type": "code",
        "colab": {
          "base_uri": "https://localhost:8080/",
          "height": 34
        },
        "outputId": "47623882-329c-43af-ca67-9f04223c0ddd"
      },
      "cell_type": "code",
      "source": [
        "from google.colab import drive\n",
        "import os\n",
        "from keras.applications import VGG16\n",
        "import os\n",
        "import numpy as np\n",
        "from keras.preprocessing.image import ImageDataGenerator\n",
        "from keras import models\n",
        "from keras import layers\n",
        "from keras import optimizers\n",
        "import matplotlib.pyplot as plt"
      ],
      "execution_count": 1,
      "outputs": [
        {
          "output_type": "stream",
          "text": [
            "Using TensorFlow backend.\n"
          ],
          "name": "stderr"
        }
      ]
    },
    {
      "metadata": {
        "id": "p6tzhU_6PwTn",
        "colab_type": "code",
        "outputId": "fbebd5df-fc82-4db6-dc79-4c8b976403f8",
        "colab": {
          "base_uri": "https://localhost:8080/",
          "height": 122
        }
      },
      "cell_type": "code",
      "source": [
        "drive.mount('/content/drive')"
      ],
      "execution_count": 2,
      "outputs": [
        {
          "output_type": "stream",
          "text": [
            "Go to this URL in a browser: https://accounts.google.com/o/oauth2/auth?client_id=947318989803-6bn6qk8qdgf4n4g3pfee6491hc0brc4i.apps.googleusercontent.com&redirect_uri=urn%3Aietf%3Awg%3Aoauth%3A2.0%3Aoob&scope=email%20https%3A%2F%2Fwww.googleapis.com%2Fauth%2Fdocs.test%20https%3A%2F%2Fwww.googleapis.com%2Fauth%2Fdrive%20https%3A%2F%2Fwww.googleapis.com%2Fauth%2Fdrive.photos.readonly%20https%3A%2F%2Fwww.googleapis.com%2Fauth%2Fpeopleapi.readonly&response_type=code\n",
            "\n",
            "Enter your authorization code:\n",
            "··········\n",
            "Mounted at /content/drive\n"
          ],
          "name": "stdout"
        }
      ]
    },
    {
      "metadata": {
        "id": "jckHI0zIQqHi",
        "colab_type": "code",
        "colab": {
          "base_uri": "https://localhost:8080/",
          "height": 34
        },
        "outputId": "807baab7-b261-4c14-ea0f-b406f3f2a044"
      },
      "cell_type": "code",
      "source": [
        "cats_and_dogs = '/content/drive/My Drive/Datasets/CatsAndDogs'\n",
        "os.chdir(cats_and_dogs)\n",
        "os.listdir()"
      ],
      "execution_count": 3,
      "outputs": [
        {
          "output_type": "execute_result",
          "data": {
            "text/plain": [
              "['test', 'train', 'validation']"
            ]
          },
          "metadata": {
            "tags": []
          },
          "execution_count": 3
        }
      ]
    },
    {
      "metadata": {
        "id": "6v5ceSFSU5Im",
        "colab_type": "code",
        "colab": {
          "base_uri": "https://localhost:8080/",
          "height": 122
        },
        "outputId": "0599f857-249f-4b63-d3be-afff1cb26e34"
      },
      "cell_type": "code",
      "source": [
        "conv_base = VGG16(weights = 'imagenet',\n",
        "                  include_top = False,\n",
        "                  input_shape=(150, 150, 3))"
      ],
      "execution_count": 4,
      "outputs": [
        {
          "output_type": "stream",
          "text": [
            "WARNING:tensorflow:From /usr/local/lib/python3.6/dist-packages/tensorflow/python/framework/op_def_library.py:263: colocate_with (from tensorflow.python.framework.ops) is deprecated and will be removed in a future version.\n",
            "Instructions for updating:\n",
            "Colocations handled automatically by placer.\n",
            "Downloading data from https://github.com/fchollet/deep-learning-models/releases/download/v0.1/vgg16_weights_tf_dim_ordering_tf_kernels_notop.h5\n",
            "58892288/58889256 [==============================] - 1s 0us/step\n"
          ],
          "name": "stdout"
        }
      ]
    },
    {
      "metadata": {
        "id": "uJ-SmiZeV3EE",
        "colab_type": "code",
        "colab": {}
      },
      "cell_type": "code",
      "source": [
        "train_dir = os.path.join(cats_and_dogs, 'train') \n",
        "validation_dir = os.path.join(cats_and_dogs, 'validation') \n",
        "test_dir = os.path.join(cats_and_dogs, 'test')"
      ],
      "execution_count": 0,
      "outputs": []
    },
    {
      "metadata": {
        "id": "raeDVDn1VM5y",
        "colab_type": "code",
        "colab": {}
      },
      "cell_type": "code",
      "source": [
        "datagen = ImageDataGenerator(rescale=1./255)\n",
        "batch_size = 20\n",
        "\n",
        "\n",
        "def extract_features(directory, sample_count):\n",
        "\n",
        "    features = np.zeros(shape=(sample_count, 4, 4, 512))\n",
        "    labels = np.zeros(shape=(sample_count))\n",
        "\n",
        "    generator = datagen.flow_from_directory(\n",
        "        directory,\n",
        "        target_size=(150, 150),\n",
        "        batch_size=batch_size,\n",
        "        class_mode='binary')\n",
        "\n",
        "    i = 0\n",
        "    for inputs_batch, labels_batch in generator:\n",
        "        print(\"Batch \" + str(i) + \" for \" + directory)\n",
        "        features_batch = conv_base.predict(inputs_batch)\n",
        "        features[i * batch_size: (i + 1) * batch_size] = features_batch\n",
        "        labels[i * batch_size: (i + 1) * batch_size] = labels_batch\n",
        "        i += 1\n",
        "        if i * batch_size >= sample_count:\n",
        "            break\n",
        "    return features, labels"
      ],
      "execution_count": 0,
      "outputs": []
    },
    {
      "metadata": {
        "id": "pYLHnyWQVdBQ",
        "colab_type": "code",
        "colab": {
          "base_uri": "https://localhost:8080/",
          "height": 3468
        },
        "outputId": "ac225064-58ba-4d00-a674-f7926dc7609c"
      },
      "cell_type": "code",
      "source": [
        "train_features, train_labels = extract_features(train_dir, 2000)\n",
        "validation_features, validation_labels = extract_features(validation_dir, 1000)\n",
        "test_features, test_labels = extract_features(test_dir, 1000)"
      ],
      "execution_count": 8,
      "outputs": [
        {
          "output_type": "stream",
          "text": [
            "Found 2010 images belonging to 2 classes.\n",
            "Batch 0 for /content/drive/My Drive/Datasets/CatsAndDogs/train\n",
            "Batch 1 for /content/drive/My Drive/Datasets/CatsAndDogs/train\n",
            "Batch 2 for /content/drive/My Drive/Datasets/CatsAndDogs/train\n",
            "Batch 3 for /content/drive/My Drive/Datasets/CatsAndDogs/train\n",
            "Batch 4 for /content/drive/My Drive/Datasets/CatsAndDogs/train\n",
            "Batch 5 for /content/drive/My Drive/Datasets/CatsAndDogs/train\n",
            "Batch 6 for /content/drive/My Drive/Datasets/CatsAndDogs/train\n",
            "Batch 7 for /content/drive/My Drive/Datasets/CatsAndDogs/train\n",
            "Batch 8 for /content/drive/My Drive/Datasets/CatsAndDogs/train\n",
            "Batch 9 for /content/drive/My Drive/Datasets/CatsAndDogs/train\n",
            "Batch 10 for /content/drive/My Drive/Datasets/CatsAndDogs/train\n",
            "Batch 11 for /content/drive/My Drive/Datasets/CatsAndDogs/train\n",
            "Batch 12 for /content/drive/My Drive/Datasets/CatsAndDogs/train\n",
            "Batch 13 for /content/drive/My Drive/Datasets/CatsAndDogs/train\n",
            "Batch 14 for /content/drive/My Drive/Datasets/CatsAndDogs/train\n",
            "Batch 15 for /content/drive/My Drive/Datasets/CatsAndDogs/train\n",
            "Batch 16 for /content/drive/My Drive/Datasets/CatsAndDogs/train\n",
            "Batch 17 for /content/drive/My Drive/Datasets/CatsAndDogs/train\n",
            "Batch 18 for /content/drive/My Drive/Datasets/CatsAndDogs/train\n",
            "Batch 19 for /content/drive/My Drive/Datasets/CatsAndDogs/train\n",
            "Batch 20 for /content/drive/My Drive/Datasets/CatsAndDogs/train\n",
            "Batch 21 for /content/drive/My Drive/Datasets/CatsAndDogs/train\n",
            "Batch 22 for /content/drive/My Drive/Datasets/CatsAndDogs/train\n",
            "Batch 23 for /content/drive/My Drive/Datasets/CatsAndDogs/train\n",
            "Batch 24 for /content/drive/My Drive/Datasets/CatsAndDogs/train\n",
            "Batch 25 for /content/drive/My Drive/Datasets/CatsAndDogs/train\n",
            "Batch 26 for /content/drive/My Drive/Datasets/CatsAndDogs/train\n",
            "Batch 27 for /content/drive/My Drive/Datasets/CatsAndDogs/train\n",
            "Batch 28 for /content/drive/My Drive/Datasets/CatsAndDogs/train\n",
            "Batch 29 for /content/drive/My Drive/Datasets/CatsAndDogs/train\n",
            "Batch 30 for /content/drive/My Drive/Datasets/CatsAndDogs/train\n",
            "Batch 31 for /content/drive/My Drive/Datasets/CatsAndDogs/train\n",
            "Batch 32 for /content/drive/My Drive/Datasets/CatsAndDogs/train\n",
            "Batch 33 for /content/drive/My Drive/Datasets/CatsAndDogs/train\n",
            "Batch 34 for /content/drive/My Drive/Datasets/CatsAndDogs/train\n",
            "Batch 35 for /content/drive/My Drive/Datasets/CatsAndDogs/train\n",
            "Batch 36 for /content/drive/My Drive/Datasets/CatsAndDogs/train\n",
            "Batch 37 for /content/drive/My Drive/Datasets/CatsAndDogs/train\n",
            "Batch 38 for /content/drive/My Drive/Datasets/CatsAndDogs/train\n",
            "Batch 39 for /content/drive/My Drive/Datasets/CatsAndDogs/train\n",
            "Batch 40 for /content/drive/My Drive/Datasets/CatsAndDogs/train\n",
            "Batch 41 for /content/drive/My Drive/Datasets/CatsAndDogs/train\n",
            "Batch 42 for /content/drive/My Drive/Datasets/CatsAndDogs/train\n",
            "Batch 43 for /content/drive/My Drive/Datasets/CatsAndDogs/train\n",
            "Batch 44 for /content/drive/My Drive/Datasets/CatsAndDogs/train\n",
            "Batch 45 for /content/drive/My Drive/Datasets/CatsAndDogs/train\n",
            "Batch 46 for /content/drive/My Drive/Datasets/CatsAndDogs/train\n",
            "Batch 47 for /content/drive/My Drive/Datasets/CatsAndDogs/train\n",
            "Batch 48 for /content/drive/My Drive/Datasets/CatsAndDogs/train\n",
            "Batch 49 for /content/drive/My Drive/Datasets/CatsAndDogs/train\n",
            "Batch 50 for /content/drive/My Drive/Datasets/CatsAndDogs/train\n",
            "Batch 51 for /content/drive/My Drive/Datasets/CatsAndDogs/train\n",
            "Batch 52 for /content/drive/My Drive/Datasets/CatsAndDogs/train\n",
            "Batch 53 for /content/drive/My Drive/Datasets/CatsAndDogs/train\n",
            "Batch 54 for /content/drive/My Drive/Datasets/CatsAndDogs/train\n",
            "Batch 55 for /content/drive/My Drive/Datasets/CatsAndDogs/train\n",
            "Batch 56 for /content/drive/My Drive/Datasets/CatsAndDogs/train\n",
            "Batch 57 for /content/drive/My Drive/Datasets/CatsAndDogs/train\n",
            "Batch 58 for /content/drive/My Drive/Datasets/CatsAndDogs/train\n",
            "Batch 59 for /content/drive/My Drive/Datasets/CatsAndDogs/train\n",
            "Batch 60 for /content/drive/My Drive/Datasets/CatsAndDogs/train\n",
            "Batch 61 for /content/drive/My Drive/Datasets/CatsAndDogs/train\n",
            "Batch 62 for /content/drive/My Drive/Datasets/CatsAndDogs/train\n",
            "Batch 63 for /content/drive/My Drive/Datasets/CatsAndDogs/train\n",
            "Batch 64 for /content/drive/My Drive/Datasets/CatsAndDogs/train\n",
            "Batch 65 for /content/drive/My Drive/Datasets/CatsAndDogs/train\n",
            "Batch 66 for /content/drive/My Drive/Datasets/CatsAndDogs/train\n",
            "Batch 67 for /content/drive/My Drive/Datasets/CatsAndDogs/train\n",
            "Batch 68 for /content/drive/My Drive/Datasets/CatsAndDogs/train\n",
            "Batch 69 for /content/drive/My Drive/Datasets/CatsAndDogs/train\n",
            "Batch 70 for /content/drive/My Drive/Datasets/CatsAndDogs/train\n",
            "Batch 71 for /content/drive/My Drive/Datasets/CatsAndDogs/train\n",
            "Batch 72 for /content/drive/My Drive/Datasets/CatsAndDogs/train\n",
            "Batch 73 for /content/drive/My Drive/Datasets/CatsAndDogs/train\n",
            "Batch 74 for /content/drive/My Drive/Datasets/CatsAndDogs/train\n",
            "Batch 75 for /content/drive/My Drive/Datasets/CatsAndDogs/train\n",
            "Batch 76 for /content/drive/My Drive/Datasets/CatsAndDogs/train\n",
            "Batch 77 for /content/drive/My Drive/Datasets/CatsAndDogs/train\n",
            "Batch 78 for /content/drive/My Drive/Datasets/CatsAndDogs/train\n",
            "Batch 79 for /content/drive/My Drive/Datasets/CatsAndDogs/train\n",
            "Batch 80 for /content/drive/My Drive/Datasets/CatsAndDogs/train\n",
            "Batch 81 for /content/drive/My Drive/Datasets/CatsAndDogs/train\n",
            "Batch 82 for /content/drive/My Drive/Datasets/CatsAndDogs/train\n",
            "Batch 83 for /content/drive/My Drive/Datasets/CatsAndDogs/train\n",
            "Batch 84 for /content/drive/My Drive/Datasets/CatsAndDogs/train\n",
            "Batch 85 for /content/drive/My Drive/Datasets/CatsAndDogs/train\n",
            "Batch 86 for /content/drive/My Drive/Datasets/CatsAndDogs/train\n",
            "Batch 87 for /content/drive/My Drive/Datasets/CatsAndDogs/train\n",
            "Batch 88 for /content/drive/My Drive/Datasets/CatsAndDogs/train\n",
            "Batch 89 for /content/drive/My Drive/Datasets/CatsAndDogs/train\n",
            "Batch 90 for /content/drive/My Drive/Datasets/CatsAndDogs/train\n",
            "Batch 91 for /content/drive/My Drive/Datasets/CatsAndDogs/train\n",
            "Batch 92 for /content/drive/My Drive/Datasets/CatsAndDogs/train\n",
            "Batch 93 for /content/drive/My Drive/Datasets/CatsAndDogs/train\n",
            "Batch 94 for /content/drive/My Drive/Datasets/CatsAndDogs/train\n",
            "Batch 95 for /content/drive/My Drive/Datasets/CatsAndDogs/train\n",
            "Batch 96 for /content/drive/My Drive/Datasets/CatsAndDogs/train\n",
            "Batch 97 for /content/drive/My Drive/Datasets/CatsAndDogs/train\n",
            "Batch 98 for /content/drive/My Drive/Datasets/CatsAndDogs/train\n",
            "Batch 99 for /content/drive/My Drive/Datasets/CatsAndDogs/train\n",
            "Found 1000 images belonging to 2 classes.\n",
            "Batch 0 for /content/drive/My Drive/Datasets/CatsAndDogs/validation\n",
            "Batch 1 for /content/drive/My Drive/Datasets/CatsAndDogs/validation\n",
            "Batch 2 for /content/drive/My Drive/Datasets/CatsAndDogs/validation\n",
            "Batch 3 for /content/drive/My Drive/Datasets/CatsAndDogs/validation\n",
            "Batch 4 for /content/drive/My Drive/Datasets/CatsAndDogs/validation\n",
            "Batch 5 for /content/drive/My Drive/Datasets/CatsAndDogs/validation\n",
            "Batch 6 for /content/drive/My Drive/Datasets/CatsAndDogs/validation\n",
            "Batch 7 for /content/drive/My Drive/Datasets/CatsAndDogs/validation\n",
            "Batch 8 for /content/drive/My Drive/Datasets/CatsAndDogs/validation\n",
            "Batch 9 for /content/drive/My Drive/Datasets/CatsAndDogs/validation\n",
            "Batch 10 for /content/drive/My Drive/Datasets/CatsAndDogs/validation\n",
            "Batch 11 for /content/drive/My Drive/Datasets/CatsAndDogs/validation\n",
            "Batch 12 for /content/drive/My Drive/Datasets/CatsAndDogs/validation\n",
            "Batch 13 for /content/drive/My Drive/Datasets/CatsAndDogs/validation\n",
            "Batch 14 for /content/drive/My Drive/Datasets/CatsAndDogs/validation\n",
            "Batch 15 for /content/drive/My Drive/Datasets/CatsAndDogs/validation\n",
            "Batch 16 for /content/drive/My Drive/Datasets/CatsAndDogs/validation\n",
            "Batch 17 for /content/drive/My Drive/Datasets/CatsAndDogs/validation\n",
            "Batch 18 for /content/drive/My Drive/Datasets/CatsAndDogs/validation\n",
            "Batch 19 for /content/drive/My Drive/Datasets/CatsAndDogs/validation\n",
            "Batch 20 for /content/drive/My Drive/Datasets/CatsAndDogs/validation\n",
            "Batch 21 for /content/drive/My Drive/Datasets/CatsAndDogs/validation\n",
            "Batch 22 for /content/drive/My Drive/Datasets/CatsAndDogs/validation\n",
            "Batch 23 for /content/drive/My Drive/Datasets/CatsAndDogs/validation\n",
            "Batch 24 for /content/drive/My Drive/Datasets/CatsAndDogs/validation\n",
            "Batch 25 for /content/drive/My Drive/Datasets/CatsAndDogs/validation\n",
            "Batch 26 for /content/drive/My Drive/Datasets/CatsAndDogs/validation\n",
            "Batch 27 for /content/drive/My Drive/Datasets/CatsAndDogs/validation\n",
            "Batch 28 for /content/drive/My Drive/Datasets/CatsAndDogs/validation\n",
            "Batch 29 for /content/drive/My Drive/Datasets/CatsAndDogs/validation\n",
            "Batch 30 for /content/drive/My Drive/Datasets/CatsAndDogs/validation\n",
            "Batch 31 for /content/drive/My Drive/Datasets/CatsAndDogs/validation\n",
            "Batch 32 for /content/drive/My Drive/Datasets/CatsAndDogs/validation\n",
            "Batch 33 for /content/drive/My Drive/Datasets/CatsAndDogs/validation\n",
            "Batch 34 for /content/drive/My Drive/Datasets/CatsAndDogs/validation\n",
            "Batch 35 for /content/drive/My Drive/Datasets/CatsAndDogs/validation\n",
            "Batch 36 for /content/drive/My Drive/Datasets/CatsAndDogs/validation\n",
            "Batch 37 for /content/drive/My Drive/Datasets/CatsAndDogs/validation\n",
            "Batch 38 for /content/drive/My Drive/Datasets/CatsAndDogs/validation\n",
            "Batch 39 for /content/drive/My Drive/Datasets/CatsAndDogs/validation\n",
            "Batch 40 for /content/drive/My Drive/Datasets/CatsAndDogs/validation\n",
            "Batch 41 for /content/drive/My Drive/Datasets/CatsAndDogs/validation\n",
            "Batch 42 for /content/drive/My Drive/Datasets/CatsAndDogs/validation\n",
            "Batch 43 for /content/drive/My Drive/Datasets/CatsAndDogs/validation\n",
            "Batch 44 for /content/drive/My Drive/Datasets/CatsAndDogs/validation\n",
            "Batch 45 for /content/drive/My Drive/Datasets/CatsAndDogs/validation\n",
            "Batch 46 for /content/drive/My Drive/Datasets/CatsAndDogs/validation\n",
            "Batch 47 for /content/drive/My Drive/Datasets/CatsAndDogs/validation\n",
            "Batch 48 for /content/drive/My Drive/Datasets/CatsAndDogs/validation\n",
            "Batch 49 for /content/drive/My Drive/Datasets/CatsAndDogs/validation\n",
            "Found 1000 images belonging to 2 classes.\n",
            "Batch 0 for /content/drive/My Drive/Datasets/CatsAndDogs/test\n",
            "Batch 1 for /content/drive/My Drive/Datasets/CatsAndDogs/test\n",
            "Batch 2 for /content/drive/My Drive/Datasets/CatsAndDogs/test\n",
            "Batch 3 for /content/drive/My Drive/Datasets/CatsAndDogs/test\n",
            "Batch 4 for /content/drive/My Drive/Datasets/CatsAndDogs/test\n",
            "Batch 5 for /content/drive/My Drive/Datasets/CatsAndDogs/test\n",
            "Batch 6 for /content/drive/My Drive/Datasets/CatsAndDogs/test\n",
            "Batch 7 for /content/drive/My Drive/Datasets/CatsAndDogs/test\n",
            "Batch 8 for /content/drive/My Drive/Datasets/CatsAndDogs/test\n",
            "Batch 9 for /content/drive/My Drive/Datasets/CatsAndDogs/test\n",
            "Batch 10 for /content/drive/My Drive/Datasets/CatsAndDogs/test\n",
            "Batch 11 for /content/drive/My Drive/Datasets/CatsAndDogs/test\n",
            "Batch 12 for /content/drive/My Drive/Datasets/CatsAndDogs/test\n",
            "Batch 13 for /content/drive/My Drive/Datasets/CatsAndDogs/test\n",
            "Batch 14 for /content/drive/My Drive/Datasets/CatsAndDogs/test\n",
            "Batch 15 for /content/drive/My Drive/Datasets/CatsAndDogs/test\n",
            "Batch 16 for /content/drive/My Drive/Datasets/CatsAndDogs/test\n",
            "Batch 17 for /content/drive/My Drive/Datasets/CatsAndDogs/test\n",
            "Batch 18 for /content/drive/My Drive/Datasets/CatsAndDogs/test\n",
            "Batch 19 for /content/drive/My Drive/Datasets/CatsAndDogs/test\n",
            "Batch 20 for /content/drive/My Drive/Datasets/CatsAndDogs/test\n",
            "Batch 21 for /content/drive/My Drive/Datasets/CatsAndDogs/test\n",
            "Batch 22 for /content/drive/My Drive/Datasets/CatsAndDogs/test\n",
            "Batch 23 for /content/drive/My Drive/Datasets/CatsAndDogs/test\n",
            "Batch 24 for /content/drive/My Drive/Datasets/CatsAndDogs/test\n",
            "Batch 25 for /content/drive/My Drive/Datasets/CatsAndDogs/test\n",
            "Batch 26 for /content/drive/My Drive/Datasets/CatsAndDogs/test\n",
            "Batch 27 for /content/drive/My Drive/Datasets/CatsAndDogs/test\n",
            "Batch 28 for /content/drive/My Drive/Datasets/CatsAndDogs/test\n",
            "Batch 29 for /content/drive/My Drive/Datasets/CatsAndDogs/test\n",
            "Batch 30 for /content/drive/My Drive/Datasets/CatsAndDogs/test\n",
            "Batch 31 for /content/drive/My Drive/Datasets/CatsAndDogs/test\n",
            "Batch 32 for /content/drive/My Drive/Datasets/CatsAndDogs/test\n",
            "Batch 33 for /content/drive/My Drive/Datasets/CatsAndDogs/test\n",
            "Batch 34 for /content/drive/My Drive/Datasets/CatsAndDogs/test\n",
            "Batch 35 for /content/drive/My Drive/Datasets/CatsAndDogs/test\n",
            "Batch 36 for /content/drive/My Drive/Datasets/CatsAndDogs/test\n",
            "Batch 37 for /content/drive/My Drive/Datasets/CatsAndDogs/test\n",
            "Batch 38 for /content/drive/My Drive/Datasets/CatsAndDogs/test\n",
            "Batch 39 for /content/drive/My Drive/Datasets/CatsAndDogs/test\n",
            "Batch 40 for /content/drive/My Drive/Datasets/CatsAndDogs/test\n",
            "Batch 41 for /content/drive/My Drive/Datasets/CatsAndDogs/test\n",
            "Batch 42 for /content/drive/My Drive/Datasets/CatsAndDogs/test\n",
            "Batch 43 for /content/drive/My Drive/Datasets/CatsAndDogs/test\n",
            "Batch 44 for /content/drive/My Drive/Datasets/CatsAndDogs/test\n",
            "Batch 45 for /content/drive/My Drive/Datasets/CatsAndDogs/test\n",
            "Batch 46 for /content/drive/My Drive/Datasets/CatsAndDogs/test\n",
            "Batch 47 for /content/drive/My Drive/Datasets/CatsAndDogs/test\n",
            "Batch 48 for /content/drive/My Drive/Datasets/CatsAndDogs/test\n",
            "Batch 49 for /content/drive/My Drive/Datasets/CatsAndDogs/test\n"
          ],
          "name": "stdout"
        }
      ]
    },
    {
      "metadata": {
        "id": "kgNm2IOfXwsC",
        "colab_type": "code",
        "colab": {}
      },
      "cell_type": "code",
      "source": [
        "train_features = np.reshape(train_features, (2000, 4 * 4 * 512))\n",
        "validation_features = np.reshape(validation_features, (1000, 4 * 4 * 512))\n",
        "test_features = np.reshape(test_features, (1000, 4 * 4 * 512))"
      ],
      "execution_count": 0,
      "outputs": []
    },
    {
      "metadata": {
        "id": "FOL1DKLsX7mv",
        "colab_type": "code",
        "colab": {
          "base_uri": "https://localhost:8080/",
          "height": 1176
        },
        "outputId": "ed5ed527-385b-435b-b1e5-9204a52d019c"
      },
      "cell_type": "code",
      "source": [
        "model = models.Sequential()\n",
        "model.add(layers.Dense(256, activation='relu', input_dim=4 * 4 * 512))\n",
        "model.add(layers.Dropout(0.5))\n",
        "model.add(layers.Dense(1, activation='sigmoid'))\n",
        "model.compile(optimizer=optimizers.RMSprop(lr=2e-5),\n",
        "              loss='binary_crossentropy',\n",
        "              metrics=['acc'])\n",
        "history = model.fit(train_features, train_labels,\n",
        "                    epochs=30,\n",
        "                    batch_size=20,\n",
        "                    validation_data=(validation_features, validation_labels))"
      ],
      "execution_count": 10,
      "outputs": [
        {
          "output_type": "stream",
          "text": [
            "WARNING:tensorflow:From /usr/local/lib/python3.6/dist-packages/keras/backend/tensorflow_backend.py:3445: calling dropout (from tensorflow.python.ops.nn_ops) with keep_prob is deprecated and will be removed in a future version.\n",
            "Instructions for updating:\n",
            "Please use `rate` instead of `keep_prob`. Rate should be set to `rate = 1 - keep_prob`.\n",
            "WARNING:tensorflow:From /usr/local/lib/python3.6/dist-packages/tensorflow/python/ops/math_ops.py:3066: to_int32 (from tensorflow.python.ops.math_ops) is deprecated and will be removed in a future version.\n",
            "Instructions for updating:\n",
            "Use tf.cast instead.\n",
            "Train on 2000 samples, validate on 1000 samples\n",
            "Epoch 1/30\n",
            "2000/2000 [==============================] - 5s 3ms/step - loss: 0.5645 - acc: 0.7070 - val_loss: 0.4222 - val_acc: 0.8500\n",
            "Epoch 2/30\n",
            "2000/2000 [==============================] - 5s 2ms/step - loss: 0.4109 - acc: 0.8165 - val_loss: 0.3503 - val_acc: 0.8710\n",
            "Epoch 3/30\n",
            "2000/2000 [==============================] - 5s 2ms/step - loss: 0.3502 - acc: 0.8510 - val_loss: 0.3166 - val_acc: 0.8850\n",
            "Epoch 4/30\n",
            "2000/2000 [==============================] - 5s 2ms/step - loss: 0.3012 - acc: 0.8760 - val_loss: 0.2954 - val_acc: 0.8850\n",
            "Epoch 5/30\n",
            "2000/2000 [==============================] - 5s 2ms/step - loss: 0.2842 - acc: 0.8870 - val_loss: 0.2798 - val_acc: 0.8900\n",
            "Epoch 6/30\n",
            "2000/2000 [==============================] - 5s 2ms/step - loss: 0.2632 - acc: 0.8920 - val_loss: 0.2761 - val_acc: 0.8850\n",
            "Epoch 7/30\n",
            "2000/2000 [==============================] - 5s 2ms/step - loss: 0.2423 - acc: 0.9030 - val_loss: 0.2622 - val_acc: 0.8950\n",
            "Epoch 8/30\n",
            "2000/2000 [==============================] - 5s 2ms/step - loss: 0.2221 - acc: 0.9175 - val_loss: 0.2562 - val_acc: 0.8960\n",
            "Epoch 9/30\n",
            "2000/2000 [==============================] - 5s 2ms/step - loss: 0.2246 - acc: 0.9130 - val_loss: 0.2537 - val_acc: 0.9010\n",
            "Epoch 10/30\n",
            "2000/2000 [==============================] - 5s 2ms/step - loss: 0.2008 - acc: 0.9200 - val_loss: 0.2463 - val_acc: 0.8980\n",
            "Epoch 11/30\n",
            "2000/2000 [==============================] - 5s 2ms/step - loss: 0.1943 - acc: 0.9245 - val_loss: 0.2457 - val_acc: 0.8990\n",
            "Epoch 12/30\n",
            "2000/2000 [==============================] - 5s 2ms/step - loss: 0.1778 - acc: 0.9300 - val_loss: 0.2486 - val_acc: 0.8940\n",
            "Epoch 13/30\n",
            "2000/2000 [==============================] - 5s 2ms/step - loss: 0.1842 - acc: 0.9260 - val_loss: 0.2399 - val_acc: 0.9020\n",
            "Epoch 14/30\n",
            "2000/2000 [==============================] - 5s 2ms/step - loss: 0.1673 - acc: 0.9420 - val_loss: 0.2398 - val_acc: 0.9000\n",
            "Epoch 15/30\n",
            "2000/2000 [==============================] - 5s 2ms/step - loss: 0.1614 - acc: 0.9435 - val_loss: 0.2445 - val_acc: 0.8940\n",
            "Epoch 16/30\n",
            "2000/2000 [==============================] - 5s 2ms/step - loss: 0.1502 - acc: 0.9505 - val_loss: 0.2365 - val_acc: 0.9010\n",
            "Epoch 17/30\n",
            "2000/2000 [==============================] - 5s 2ms/step - loss: 0.1469 - acc: 0.9475 - val_loss: 0.2368 - val_acc: 0.9010\n",
            "Epoch 18/30\n",
            "2000/2000 [==============================] - 5s 2ms/step - loss: 0.1404 - acc: 0.9505 - val_loss: 0.2381 - val_acc: 0.9020\n",
            "Epoch 19/30\n",
            "2000/2000 [==============================] - 5s 2ms/step - loss: 0.1326 - acc: 0.9550 - val_loss: 0.2362 - val_acc: 0.9050\n",
            "Epoch 20/30\n",
            "2000/2000 [==============================] - 5s 2ms/step - loss: 0.1269 - acc: 0.9580 - val_loss: 0.2358 - val_acc: 0.9010\n",
            "Epoch 21/30\n",
            "2000/2000 [==============================] - 5s 2ms/step - loss: 0.1231 - acc: 0.9560 - val_loss: 0.2354 - val_acc: 0.9050\n",
            "Epoch 22/30\n",
            "2000/2000 [==============================] - 5s 2ms/step - loss: 0.1188 - acc: 0.9595 - val_loss: 0.2396 - val_acc: 0.9010\n",
            "Epoch 23/30\n",
            "2000/2000 [==============================] - 5s 2ms/step - loss: 0.1153 - acc: 0.9610 - val_loss: 0.2439 - val_acc: 0.9000\n",
            "Epoch 24/30\n",
            "2000/2000 [==============================] - 5s 2ms/step - loss: 0.1095 - acc: 0.9635 - val_loss: 0.2366 - val_acc: 0.9010\n",
            "Epoch 25/30\n",
            "2000/2000 [==============================] - 5s 2ms/step - loss: 0.1039 - acc: 0.9665 - val_loss: 0.2522 - val_acc: 0.8990\n",
            "Epoch 26/30\n",
            "2000/2000 [==============================] - 5s 2ms/step - loss: 0.1045 - acc: 0.9665 - val_loss: 0.2395 - val_acc: 0.9020\n",
            "Epoch 27/30\n",
            "2000/2000 [==============================] - 5s 2ms/step - loss: 0.0960 - acc: 0.9695 - val_loss: 0.2413 - val_acc: 0.9030\n",
            "Epoch 28/30\n",
            "2000/2000 [==============================] - 5s 2ms/step - loss: 0.0959 - acc: 0.9700 - val_loss: 0.2474 - val_acc: 0.9000\n",
            "Epoch 29/30\n",
            "2000/2000 [==============================] - 5s 2ms/step - loss: 0.0868 - acc: 0.9730 - val_loss: 0.2391 - val_acc: 0.9030\n",
            "Epoch 30/30\n",
            "2000/2000 [==============================] - 5s 2ms/step - loss: 0.0850 - acc: 0.9745 - val_loss: 0.2501 - val_acc: 0.8990\n"
          ],
          "name": "stdout"
        }
      ]
    },
    {
      "metadata": {
        "id": "tw6ZQCxHYQBJ",
        "colab_type": "code",
        "colab": {
          "base_uri": "https://localhost:8080/",
          "height": 744
        },
        "outputId": "c3eb957e-6d52-40b7-ad62-110aff59dad4"
      },
      "cell_type": "code",
      "source": [
        "acc = history.history['acc']\n",
        "val_acc = history.history['val_acc']\n",
        "loss = history.history['loss']\n",
        "val_loss = history.history['val_loss']\n",
        "epochs = range(1, len(acc) + 1)\n",
        "plt.plot(epochs, acc, 'bo', label='Training acc')\n",
        "plt.plot(epochs, val_acc, 'b', label='Validation acc')\n",
        "plt.title('Training and validation accuracy')\n",
        "plt.legend()\n",
        "plt.figure()\n",
        "plt.plot(epochs, loss, 'bo', label='Training loss')\n",
        "plt.plot(epochs, val_loss, 'b', label='Validation loss')\n",
        "plt.title('Training and validation loss')\n",
        "plt.legend()\n",
        "plt.show()"
      ],
      "execution_count": 11,
      "outputs": [
        {
          "output_type": "stream",
          "text": [
            "{'val_loss': [0.4222327125072479, 0.35031734079122545, 0.31659760981798174, 0.29535687834024427, 0.2797844111919403, 0.2761435675621033, 0.262226740270853, 0.2561656749248505, 0.25370366290211677, 0.24626376271247863, 0.24565209880471228, 0.24855891838669777, 0.2399429202079773, 0.23976717114448548, 0.24445943027734757, 0.23646219804883004, 0.23681612730026244, 0.23813728109002114, 0.23624184116721153, 0.2357906948775053, 0.23542026050388812, 0.2395737760514021, 0.2438716536015272, 0.23659993931651116, 0.2522407220304012, 0.23951671950519085, 0.24128308899700643, 0.24740684531629087, 0.2390984905511141, 0.25014545626938345], 'val_acc': [0.8500000011920928, 0.8710000002384186, 0.8849999976158142, 0.8849999988079071, 0.8899999964237213, 0.8849999988079071, 0.8949999940395356, 0.8959999930858612, 0.9009999930858612, 0.8979999923706055, 0.898999993801117, 0.8939999902248382, 0.9019999945163727, 0.8999999928474426, 0.8939999914169312, 0.9009999942779541, 0.9009999942779541, 0.9019999945163727, 0.9049999940395356, 0.9009999954700469, 0.9049999952316284, 0.9009999954700469, 0.8999999952316284, 0.9009999954700469, 0.8989999914169311, 0.9019999969005584, 0.9029999959468842, 0.8999999940395356, 0.9029999947547913, 0.8989999926090241], 'loss': [0.5644600394368172, 0.41087952971458436, 0.3501620864868164, 0.3011799791455269, 0.2841822488605976, 0.2631970766931772, 0.24231998488307, 0.2221295828744769, 0.22460454165935517, 0.20080835666507482, 0.19428775075823068, 0.177794054672122, 0.1842199465073645, 0.16732075553387404, 0.1613679206930101, 0.15018447648733854, 0.1469487414509058, 0.14043603174388408, 0.13264883160591126, 0.12685867769643663, 0.12306212050840258, 0.11875818531960249, 0.11525456920266151, 0.1095270705409348, 0.10387648791074752, 0.10452118370682001, 0.09596193578094243, 0.09589167112484574, 0.08679508061613887, 0.08496686070226132], 'acc': [0.7069999989867211, 0.8165000021457672, 0.8510000002384186, 0.8759999990463256, 0.8869999951124191, 0.891999997496605, 0.9029999941587448, 0.9174999934434891, 0.9129999947547912, 0.9199999928474426, 0.9244999927282334, 0.929999993443489, 0.9259999936819077, 0.9419999921321869, 0.9434999912977219, 0.950499991774559, 0.9474999922513961, 0.9504999911785126, 0.9549999916553498, 0.9579999923706055, 0.9559999960660934, 0.9594999939203263, 0.9609999924898147, 0.9634999930858612, 0.9664999932050705, 0.966499993801117, 0.9694999927282333, 0.9699999928474426, 0.9729999947547913, 0.9744999951124191]}\n"
          ],
          "name": "stdout"
        },
        {
          "output_type": "display_data",
          "data": {
            "image/png": "[encoded data removed]",
            "text/plain": [
              "<Figure size 576x396 with 1 Axes>"
            ]
          },
          "metadata": {
            "tags": []
          }
        },
        {
          "output_type": "display_data",
          "data": {
            "image/png": "[encoded data removed]",
            "text/plain": [
              "<Figure size 576x396 with 1 Axes>"
            ]
          },
          "metadata": {
            "tags": []
          }
        }
      ]
    }
  ]
}