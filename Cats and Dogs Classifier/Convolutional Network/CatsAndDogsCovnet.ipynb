{
  "nbformat": 4,
  "nbformat_minor": 0,
  "metadata": {
    "colab": {
      "name": "CatsAndDogsCovnet.ipynb",
      "version": "0.3.2",
      "provenance": [],
      "collapsed_sections": [
        "QbtagonrC0WQ"
      ],
      "toc_visible": true,
      "include_colab_link": true
    },
    "kernelspec": {
      "name": "python3",
      "display_name": "Python 3"
    },
    "accelerator": "TPU"
  },
  "cells": [
    {
      "cell_type": "markdown",
      "metadata": {
        "id": "view-in-github",
        "colab_type": "text"
      },
      "source": [
        "<a href=\"https://colab.research.google.com/github/JamesPeralta/Machine-Learning-Algorithms/blob/master/Cats%20and%20Dogs%20Classifier/Convolutional%20Network/CatsAndDogsCovnet.ipynb\" target=\"_parent\"><img src=\"https://colab.research.google.com/assets/colab-badge.svg\" alt=\"Open In Colab\"/></a>"
      ]
    },
    {
      "metadata": {
        "id": "QbtagonrC0WQ",
        "colab_type": "text"
      },
      "cell_type": "markdown",
      "source": [
        "### Cats and Dogs Classifier\n",
        "#### This machine learning algorithm classifies cats and dogs using a covnet"
      ]
    },
    {
      "metadata": {
        "id": "dC1cSFHaCqeB",
        "colab_type": "code",
        "colab": {
          "base_uri": "https://localhost:8080/",
          "height": 34
        },
        "outputId": "6720e021-b6c1-44d0-923a-afe12775ee4f"
      },
      "cell_type": "code",
      "source": [
        "import os, shutil\n",
        "from keras import models, layers, optimizers\n",
        "from keras.preprocessing.image import ImageDataGenerator\n",
        "import matplotlib.pyplot as plt\n",
        "from IPython.display import display\n",
        "from PIL import Image\n",
        "from keras.applications import VGG16\n",
        "from google.colab import drive"
      ],
      "execution_count": 2,
      "outputs": [
        {
          "output_type": "stream",
          "text": [
            "Using TensorFlow backend.\n"
          ],
          "name": "stderr"
        }
      ]
    },
    {
      "metadata": {
        "id": "M85mwZhgD1WK",
        "colab_type": "text"
      },
      "cell_type": "markdown",
      "source": [
        "### Define paths to the dataset"
      ]
    },
    {
      "metadata": {
        "id": "jRQjnBEREnmZ",
        "colab_type": "code",
        "colab": {
          "base_uri": "https://localhost:8080/",
          "height": 139
        },
        "outputId": "2a7354f5-86ce-4e6a-85be-aaaabe657524"
      },
      "cell_type": "code",
      "source": [
        "drive.mount('/content/drive')\n",
        "cats_and_dogs = '/content/drive/My Drive/Datasets/CatsAndDogs'\n",
        "os.chdir(cats_and_dogs)\n",
        "print(os.listdir())\n",
        "\n",
        "train_dir = cats_and_dogs + '/train'\n",
        "validation_dir = cats_and_dogs + '/validation'\n",
        "test_dir = cats_and_dogs + '/test'"
      ],
      "execution_count": 3,
      "outputs": [
        {
          "output_type": "stream",
          "text": [
            "Go to this URL in a browser: https://accounts.google.com/o/oauth2/auth?client_id=947318989803-6bn6qk8qdgf4n4g3pfee6491hc0brc4i.apps.googleusercontent.com&redirect_uri=urn%3Aietf%3Awg%3Aoauth%3A2.0%3Aoob&scope=email%20https%3A%2F%2Fwww.googleapis.com%2Fauth%2Fdocs.test%20https%3A%2F%2Fwww.googleapis.com%2Fauth%2Fdrive%20https%3A%2F%2Fwww.googleapis.com%2Fauth%2Fdrive.photos.readonly%20https%3A%2F%2Fwww.googleapis.com%2Fauth%2Fpeopleapi.readonly&response_type=code\n",
            "\n",
            "Enter your authorization code:\n",
            "··········\n",
            "Mounted at /content/drive\n",
            "['test', 'train', 'validation']\n"
          ],
          "name": "stdout"
        }
      ]
    },
    {
      "metadata": {
        "id": "KD86KCpcGF35",
        "colab_type": "text"
      },
      "cell_type": "markdown",
      "source": [
        "### Create an ImageDataGenerator that will also augment the data"
      ]
    },
    {
      "metadata": {
        "id": "vaau0HvpGDn6",
        "colab_type": "code",
        "colab": {}
      },
      "cell_type": "code",
      "source": [
        "# Add Data Augmentation to your training data\n",
        "train_datagen = ImageDataGenerator(\n",
        "    rescale=1./255,\n",
        "    rotation_range=40,\n",
        "    width_shift_range=0.2,\n",
        "    height_shift_range=0.2,\n",
        "    shear_range=0.2,\n",
        "    zoom_range=0.2,\n",
        "    horizontal_flip=True,)\n",
        "validation_datagen = ImageDataGenerator(rescale=1./255)\n",
        "test_datagen = ImageDataGenerator(rescale=1./255)"
      ],
      "execution_count": 0,
      "outputs": []
    },
    {
      "metadata": {
        "id": "1tA8TPkaDZZo",
        "colab_type": "text"
      },
      "cell_type": "markdown",
      "source": [
        "### Create batches of data for training, validation and testing"
      ]
    },
    {
      "metadata": {
        "id": "4hI9nBkVDOwo",
        "colab_type": "code",
        "colab": {
          "base_uri": "https://localhost:8080/",
          "height": 68
        },
        "outputId": "ad7ce35b-153a-426a-e097-d6f9b151a29f"
      },
      "cell_type": "code",
      "source": [
        "train_generator = train_datagen.flow_from_directory(\n",
        "    train_dir,\n",
        "    target_size=(150, 150),\n",
        "    batch_size=32,\n",
        "    class_mode='binary')\n",
        "\n",
        "validation_generator = validation_datagen.flow_from_directory(\n",
        "    validation_dir,\n",
        "    target_size=(150, 150),\n",
        "    batch_size=32,\n",
        "    class_mode='binary')\n",
        "\n",
        "test_generator = test_datagen.flow_from_directory(\n",
        "    test_dir,\n",
        "    target_size=(150, 150),\n",
        "    batch_size=32,\n",
        "    class_mode='binary')"
      ],
      "execution_count": 5,
      "outputs": [
        {
          "output_type": "stream",
          "text": [
            "Found 2010 images belonging to 2 classes.\n",
            "Found 1000 images belonging to 2 classes.\n",
            "Found 1000 images belonging to 2 classes.\n"
          ],
          "name": "stdout"
        }
      ]
    },
    {
      "metadata": {
        "id": "TeDo-RSaHP_H",
        "colab_type": "text"
      },
      "cell_type": "markdown",
      "source": [
        "### Create a Convolutional Neural Network"
      ]
    },
    {
      "metadata": {
        "id": "fjF75tgbDDt6",
        "colab_type": "code",
        "colab": {}
      },
      "cell_type": "code",
      "source": [
        "def create_model():\n",
        "    model = models.Sequential()\n",
        "    model.add(layers.Conv2D(32, (3, 3), activation='relu', input_shape=(150, 150, 3)))\n",
        "    model.add(layers.MaxPooling2D((2, 2)))\n",
        "    model.add(layers.Conv2D(64, (3, 3), activation='relu'))\n",
        "    model.add(layers.MaxPooling2D((2, 2)))\n",
        "    model.add(layers.Conv2D(128, (3, 3), activation='relu'))\n",
        "    model.add(layers.MaxPooling2D((2, 2)))\n",
        "    model.add(layers.Conv2D(128, (3, 3), activation='relu'))\n",
        "    model.add(layers.MaxPooling2D((2, 2)))\n",
        "    model.add(layers.Flatten())\n",
        "    model.add(layers.Dropout(0.5))\n",
        "    model.add(layers.Dense(512, activation='relu'))\n",
        "    model.add(layers.Dense(1, activation='sigmoid'))\n",
        "\n",
        "    model.compile(loss='binary_crossentropy', optimizer=optimizers.RMSprop(lr=1e-4), metrics=['acc'])\n",
        "    return model"
      ],
      "execution_count": 0,
      "outputs": []
    },
    {
      "metadata": {
        "id": "a0agGQ1LHiN4",
        "colab_type": "text"
      },
      "cell_type": "markdown",
      "source": [
        "### Train and save the model"
      ]
    },
    {
      "metadata": {
        "id": "b0bUG94-HWBq",
        "colab_type": "code",
        "colab": {
          "base_uri": "https://localhost:8080/",
          "height": 3590
        },
        "outputId": "ade8291a-fc73-44f6-85b8-9aa29af910b0"
      },
      "cell_type": "code",
      "source": [
        "model = create_model()\n",
        "history = model.fit_generator(\n",
        "  train_generator,\n",
        "  steps_per_epoch=100,\n",
        "  epochs=100,\n",
        "  validation_data=validation_generator,\n",
        "  verbose=2,\n",
        "  validation_steps=50)"
      ],
      "execution_count": 7,
      "outputs": [
        {
          "output_type": "stream",
          "text": [
            "WARNING:tensorflow:From /usr/local/lib/python3.6/dist-packages/tensorflow/python/framework/op_def_library.py:263: colocate_with (from tensorflow.python.framework.ops) is deprecated and will be removed in a future version.\n",
            "Instructions for updating:\n",
            "Colocations handled automatically by placer.\n",
            "WARNING:tensorflow:From /usr/local/lib/python3.6/dist-packages/keras/backend/tensorflow_backend.py:3445: calling dropout (from tensorflow.python.ops.nn_ops) with keep_prob is deprecated and will be removed in a future version.\n",
            "Instructions for updating:\n",
            "Please use `rate` instead of `keep_prob`. Rate should be set to `rate = 1 - keep_prob`.\n",
            "WARNING:tensorflow:From /usr/local/lib/python3.6/dist-packages/tensorflow/python/ops/math_ops.py:3066: to_int32 (from tensorflow.python.ops.math_ops) is deprecated and will be removed in a future version.\n",
            "Instructions for updating:\n",
            "Use tf.cast instead.\n",
            "Epoch 1/100\n",
            " - 719s - loss: 0.6917 - acc: 0.5189 - val_loss: 0.6778 - val_acc: 0.5958\n",
            "Epoch 2/100\n",
            " - 242s - loss: 0.6793 - acc: 0.5643 - val_loss: 0.6695 - val_acc: 0.5638\n",
            "Epoch 3/100\n",
            " - 243s - loss: 0.6612 - acc: 0.5914 - val_loss: 0.6462 - val_acc: 0.6079\n",
            "Epoch 4/100\n",
            " - 244s - loss: 0.6556 - acc: 0.6212 - val_loss: 0.6261 - val_acc: 0.6314\n",
            "Epoch 5/100\n",
            " - 243s - loss: 0.6430 - acc: 0.6144 - val_loss: 0.5985 - val_acc: 0.6783\n",
            "Epoch 6/100\n",
            " - 243s - loss: 0.6261 - acc: 0.6400 - val_loss: 0.5972 - val_acc: 0.6637\n",
            "Epoch 7/100\n",
            " - 242s - loss: 0.6051 - acc: 0.6696 - val_loss: 0.5740 - val_acc: 0.6948\n",
            "Epoch 8/100\n",
            " - 242s - loss: 0.5992 - acc: 0.6728 - val_loss: 0.5704 - val_acc: 0.6901\n",
            "Epoch 9/100\n",
            " - 240s - loss: 0.5832 - acc: 0.6839 - val_loss: 0.5466 - val_acc: 0.7159\n",
            "Epoch 10/100\n",
            " - 242s - loss: 0.5935 - acc: 0.6898 - val_loss: 0.5523 - val_acc: 0.7176\n",
            "Epoch 11/100\n",
            " - 240s - loss: 0.5776 - acc: 0.6972 - val_loss: 0.5561 - val_acc: 0.7113\n",
            "Epoch 12/100\n",
            " - 241s - loss: 0.5617 - acc: 0.7099 - val_loss: 0.6073 - val_acc: 0.6637\n",
            "Epoch 13/100\n",
            " - 241s - loss: 0.5665 - acc: 0.6989 - val_loss: 0.5330 - val_acc: 0.7229\n",
            "Epoch 14/100\n",
            " - 242s - loss: 0.5586 - acc: 0.7114 - val_loss: 0.5427 - val_acc: 0.7234\n",
            "Epoch 15/100\n",
            " - 244s - loss: 0.5495 - acc: 0.7148 - val_loss: 0.5369 - val_acc: 0.7223\n",
            "Epoch 16/100\n",
            " - 241s - loss: 0.5569 - acc: 0.7078 - val_loss: 0.5216 - val_acc: 0.7494\n",
            "Epoch 17/100\n",
            " - 242s - loss: 0.5432 - acc: 0.7227 - val_loss: 0.5015 - val_acc: 0.7500\n",
            "Epoch 18/100\n",
            " - 241s - loss: 0.5347 - acc: 0.7285 - val_loss: 0.5155 - val_acc: 0.7365\n",
            "Epoch 19/100\n",
            " - 243s - loss: 0.5269 - acc: 0.7355 - val_loss: 0.4962 - val_acc: 0.7443\n",
            "Epoch 20/100\n",
            " - 245s - loss: 0.5406 - acc: 0.7305 - val_loss: 0.5200 - val_acc: 0.7365\n",
            "Epoch 21/100\n",
            " - 243s - loss: 0.5245 - acc: 0.7369 - val_loss: 0.5085 - val_acc: 0.7437\n",
            "Epoch 22/100\n",
            " - 246s - loss: 0.5166 - acc: 0.7432 - val_loss: 0.4895 - val_acc: 0.7468\n",
            "Epoch 23/100\n",
            " - 243s - loss: 0.5208 - acc: 0.7368 - val_loss: 0.5046 - val_acc: 0.7475\n",
            "Epoch 24/100\n",
            " - 243s - loss: 0.5152 - acc: 0.7410 - val_loss: 0.4942 - val_acc: 0.7468\n",
            "Epoch 25/100\n",
            " - 243s - loss: 0.5168 - acc: 0.7413 - val_loss: 0.5097 - val_acc: 0.7436\n",
            "Epoch 26/100\n",
            " - 243s - loss: 0.4971 - acc: 0.7594 - val_loss: 0.4812 - val_acc: 0.7633\n",
            "Epoch 27/100\n",
            " - 243s - loss: 0.4987 - acc: 0.7520 - val_loss: 0.5253 - val_acc: 0.7423\n",
            "Epoch 28/100\n",
            " - 247s - loss: 0.4979 - acc: 0.7540 - val_loss: 0.5059 - val_acc: 0.7627\n",
            "Epoch 29/100\n",
            " - 247s - loss: 0.4961 - acc: 0.7526 - val_loss: 0.4888 - val_acc: 0.7680\n",
            "Epoch 30/100\n",
            " - 247s - loss: 0.4883 - acc: 0.7666 - val_loss: 0.4951 - val_acc: 0.7640\n",
            "Epoch 31/100\n",
            " - 248s - loss: 0.5022 - acc: 0.7511 - val_loss: 0.4639 - val_acc: 0.7758\n",
            "Epoch 32/100\n",
            " - 249s - loss: 0.4904 - acc: 0.7662 - val_loss: 0.4697 - val_acc: 0.7713\n",
            "Epoch 33/100\n",
            " - 247s - loss: 0.4891 - acc: 0.7555 - val_loss: 0.4758 - val_acc: 0.7659\n",
            "Epoch 34/100\n",
            " - 247s - loss: 0.4861 - acc: 0.7613 - val_loss: 0.5109 - val_acc: 0.7494\n",
            "Epoch 35/100\n",
            " - 247s - loss: 0.4731 - acc: 0.7656 - val_loss: 0.4620 - val_acc: 0.7824\n",
            "Epoch 36/100\n",
            " - 245s - loss: 0.4735 - acc: 0.7763 - val_loss: 0.4743 - val_acc: 0.7622\n",
            "Epoch 37/100\n",
            " - 244s - loss: 0.4744 - acc: 0.7752 - val_loss: 0.4585 - val_acc: 0.7963\n",
            "Epoch 38/100\n",
            " - 242s - loss: 0.4707 - acc: 0.7734 - val_loss: 0.4625 - val_acc: 0.7816\n",
            "Epoch 39/100\n",
            " - 242s - loss: 0.4474 - acc: 0.7963 - val_loss: 0.4998 - val_acc: 0.7563\n",
            "Epoch 40/100\n",
            " - 240s - loss: 0.4559 - acc: 0.7829 - val_loss: 0.4621 - val_acc: 0.7835\n",
            "Epoch 41/100\n",
            " - 240s - loss: 0.4661 - acc: 0.7767 - val_loss: 0.4552 - val_acc: 0.7919\n",
            "Epoch 42/100\n",
            " - 244s - loss: 0.4605 - acc: 0.7769 - val_loss: 0.4448 - val_acc: 0.7843\n",
            "Epoch 43/100\n",
            " - 244s - loss: 0.4474 - acc: 0.7843 - val_loss: 0.4415 - val_acc: 0.8054\n",
            "Epoch 44/100\n",
            " - 243s - loss: 0.4551 - acc: 0.7866 - val_loss: 0.4588 - val_acc: 0.7786\n",
            "Epoch 45/100\n",
            " - 245s - loss: 0.4465 - acc: 0.7880 - val_loss: 0.4463 - val_acc: 0.7906\n",
            "Epoch 46/100\n",
            " - 244s - loss: 0.4450 - acc: 0.7854 - val_loss: 0.4343 - val_acc: 0.7995\n",
            "Epoch 47/100\n",
            " - 245s - loss: 0.4417 - acc: 0.7872 - val_loss: 0.6068 - val_acc: 0.7075\n",
            "Epoch 48/100\n",
            " - 246s - loss: 0.4425 - acc: 0.7919 - val_loss: 0.4327 - val_acc: 0.7912\n",
            "Epoch 49/100\n",
            " - 247s - loss: 0.4455 - acc: 0.7927 - val_loss: 0.4441 - val_acc: 0.7957\n",
            "Epoch 50/100\n",
            " - 244s - loss: 0.4314 - acc: 0.7891 - val_loss: 0.4408 - val_acc: 0.7919\n",
            "Epoch 51/100\n",
            " - 243s - loss: 0.4387 - acc: 0.8039 - val_loss: 0.4367 - val_acc: 0.8027\n",
            "Epoch 52/100\n",
            " - 244s - loss: 0.4338 - acc: 0.8001 - val_loss: 0.4555 - val_acc: 0.7790\n",
            "Epoch 53/100\n",
            " - 245s - loss: 0.4274 - acc: 0.7991 - val_loss: 0.4542 - val_acc: 0.7912\n",
            "Epoch 54/100\n",
            " - 246s - loss: 0.4383 - acc: 0.7966 - val_loss: 0.4204 - val_acc: 0.8099\n",
            "Epoch 55/100\n",
            " - 245s - loss: 0.4131 - acc: 0.8090 - val_loss: 0.4642 - val_acc: 0.7893\n",
            "Epoch 56/100\n",
            " - 245s - loss: 0.4199 - acc: 0.8048 - val_loss: 0.4477 - val_acc: 0.7829\n",
            "Epoch 57/100\n",
            " - 244s - loss: 0.4148 - acc: 0.8096 - val_loss: 0.4483 - val_acc: 0.7822\n",
            "Epoch 58/100\n",
            " - 244s - loss: 0.4202 - acc: 0.8079 - val_loss: 0.4560 - val_acc: 0.7887\n",
            "Epoch 59/100\n",
            " - 244s - loss: 0.4149 - acc: 0.8075 - val_loss: 0.4729 - val_acc: 0.7861\n",
            "Epoch 60/100\n",
            " - 245s - loss: 0.4199 - acc: 0.8121 - val_loss: 0.4278 - val_acc: 0.7970\n",
            "Epoch 61/100\n",
            " - 242s - loss: 0.4311 - acc: 0.7932 - val_loss: 0.4190 - val_acc: 0.8131\n",
            "Epoch 62/100\n",
            " - 242s - loss: 0.4016 - acc: 0.8238 - val_loss: 0.5308 - val_acc: 0.7614\n",
            "Epoch 63/100\n",
            " - 243s - loss: 0.3944 - acc: 0.8237 - val_loss: 0.4354 - val_acc: 0.8125\n",
            "Epoch 64/100\n",
            " - 244s - loss: 0.4088 - acc: 0.8122 - val_loss: 0.4578 - val_acc: 0.7854\n",
            "Epoch 65/100\n",
            " - 242s - loss: 0.3856 - acc: 0.8290 - val_loss: 0.4258 - val_acc: 0.8065\n",
            "Epoch 66/100\n",
            " - 244s - loss: 0.4048 - acc: 0.8126 - val_loss: 0.4583 - val_acc: 0.7893\n",
            "Epoch 67/100\n",
            " - 243s - loss: 0.3942 - acc: 0.8155 - val_loss: 0.4509 - val_acc: 0.8090\n",
            "Epoch 68/100\n",
            " - 243s - loss: 0.3954 - acc: 0.8167 - val_loss: 0.4307 - val_acc: 0.8041\n",
            "Epoch 69/100\n",
            " - 241s - loss: 0.4065 - acc: 0.8173 - val_loss: 0.4570 - val_acc: 0.7938\n",
            "Epoch 70/100\n",
            " - 241s - loss: 0.3848 - acc: 0.8369 - val_loss: 0.4115 - val_acc: 0.8144\n",
            "Epoch 71/100\n",
            " - 243s - loss: 0.3961 - acc: 0.8260 - val_loss: 0.4277 - val_acc: 0.8084\n",
            "Epoch 72/100\n",
            " - 242s - loss: 0.3908 - acc: 0.8269 - val_loss: 0.4394 - val_acc: 0.7957\n",
            "Epoch 73/100\n",
            " - 241s - loss: 0.3843 - acc: 0.8275 - val_loss: 0.4138 - val_acc: 0.8106\n",
            "Epoch 74/100\n",
            " - 241s - loss: 0.3805 - acc: 0.8275 - val_loss: 0.4317 - val_acc: 0.8084\n",
            "Epoch 75/100\n",
            " - 243s - loss: 0.3962 - acc: 0.8196 - val_loss: 0.4085 - val_acc: 0.8183\n",
            "Epoch 76/100\n",
            " - 244s - loss: 0.3739 - acc: 0.8290 - val_loss: 0.3971 - val_acc: 0.8363\n",
            "Epoch 77/100\n",
            " - 243s - loss: 0.3736 - acc: 0.8357 - val_loss: 0.5043 - val_acc: 0.7861\n",
            "Epoch 78/100\n",
            " - 245s - loss: 0.3867 - acc: 0.8244 - val_loss: 0.4256 - val_acc: 0.8179\n",
            "Epoch 79/100\n",
            " - 246s - loss: 0.3771 - acc: 0.8236 - val_loss: 0.4916 - val_acc: 0.7880\n",
            "Epoch 80/100\n",
            " - 244s - loss: 0.3786 - acc: 0.8310 - val_loss: 0.4527 - val_acc: 0.8125\n",
            "Epoch 81/100\n",
            " - 242s - loss: 0.3685 - acc: 0.8375 - val_loss: 0.4120 - val_acc: 0.8312\n",
            "Epoch 82/100\n",
            " - 241s - loss: 0.3790 - acc: 0.8293 - val_loss: 0.4627 - val_acc: 0.8164\n",
            "Epoch 83/100\n",
            " - 241s - loss: 0.3771 - acc: 0.8273 - val_loss: 0.4176 - val_acc: 0.8236\n",
            "Epoch 84/100\n",
            " - 243s - loss: 0.3632 - acc: 0.8378 - val_loss: 0.3863 - val_acc: 0.8357\n",
            "Epoch 85/100\n",
            " - 243s - loss: 0.3713 - acc: 0.8356 - val_loss: 0.4171 - val_acc: 0.8280\n",
            "Epoch 86/100\n",
            " - 241s - loss: 0.3494 - acc: 0.8460 - val_loss: 0.4078 - val_acc: 0.8344\n",
            "Epoch 87/100\n",
            " - 241s - loss: 0.3523 - acc: 0.8411 - val_loss: 0.4787 - val_acc: 0.7912\n",
            "Epoch 88/100\n",
            " - 241s - loss: 0.3708 - acc: 0.8371 - val_loss: 0.4009 - val_acc: 0.8286\n",
            "Epoch 89/100\n",
            " - 240s - loss: 0.3493 - acc: 0.8389 - val_loss: 0.4344 - val_acc: 0.8157\n",
            "Epoch 90/100\n",
            " - 240s - loss: 0.3628 - acc: 0.8374 - val_loss: 0.3858 - val_acc: 0.8363\n",
            "Epoch 91/100\n",
            " - 240s - loss: 0.3454 - acc: 0.8471 - val_loss: 0.4914 - val_acc: 0.7887\n",
            "Epoch 92/100\n",
            " - 241s - loss: 0.3530 - acc: 0.8379 - val_loss: 0.4630 - val_acc: 0.8046\n",
            "Epoch 93/100\n",
            " - 241s - loss: 0.3506 - acc: 0.8481 - val_loss: 0.4452 - val_acc: 0.8183\n",
            "Epoch 94/100\n",
            " - 240s - loss: 0.3511 - acc: 0.8474 - val_loss: 0.4135 - val_acc: 0.8280\n",
            "Epoch 95/100\n",
            " - 240s - loss: 0.3428 - acc: 0.8483 - val_loss: 0.4132 - val_acc: 0.8189\n",
            "Epoch 96/100\n",
            " - 241s - loss: 0.3533 - acc: 0.8473 - val_loss: 0.3926 - val_acc: 0.8267\n",
            "Epoch 97/100\n",
            " - 242s - loss: 0.3344 - acc: 0.8530 - val_loss: 0.4114 - val_acc: 0.8204\n",
            "Epoch 98/100\n",
            " - 240s - loss: 0.3426 - acc: 0.8467 - val_loss: 0.4244 - val_acc: 0.8138\n",
            "Epoch 99/100\n",
            " - 243s - loss: 0.3414 - acc: 0.8462 - val_loss: 0.4298 - val_acc: 0.8096\n",
            "Epoch 100/100\n",
            " - 243s - loss: 0.3213 - acc: 0.8554 - val_loss: 0.3757 - val_acc: 0.8402\n"
          ],
          "name": "stdout"
        }
      ]
    },
    {
      "metadata": {
        "id": "hYgcskVYH_Nm",
        "colab_type": "code",
        "colab": {}
      },
      "cell_type": "code",
      "source": [
        "model.save('cats_and_dogs_small_1.h5')"
      ],
      "execution_count": 0,
      "outputs": []
    },
    {
      "metadata": {
        "id": "XiD_xzj2ICR3",
        "colab_type": "text"
      },
      "cell_type": "markdown",
      "source": [
        "### Plot results"
      ]
    },
    {
      "metadata": {
        "id": "ssfKikkAIBBR",
        "colab_type": "code",
        "colab": {
          "base_uri": "https://localhost:8080/",
          "height": 707
        },
        "outputId": "649ee5be-245e-43c9-ad51-cc3ea6527355"
      },
      "cell_type": "code",
      "source": [
        "acc = history.history['acc']\n",
        "val_acc = history.history['val_acc']\n",
        "loss = history.history['loss']\n",
        "val_loss = history.history['val_loss']\n",
        "\n",
        "epochs = range(1, len(acc) + 1)\n",
        "\n",
        "plt.plot(epochs, acc, 'bo', label='Training acc')\n",
        "plt.plot(epochs, val_acc, 'b', label='Validation acc')\n",
        "plt.title('Training and validation Accuracy')\n",
        "plt.legend()\n",
        "\n",
        "plt.figure()\n",
        "\n",
        "\n",
        "plt.plot(epochs, loss, 'bo', label='Training loss')\n",
        "plt.plot(epochs, val_loss, 'b', label='Validation loss')\n",
        "plt.title('Training and validation loss')\n",
        "plt.legend()\n",
        "plt.show()"
      ],
      "execution_count": 8,
      "outputs": [
        {
          "output_type": "display_data",
          "data": {
            "image/png": "[encoded data removed]",
            "text/plain": [
              "<Figure size 576x396 with 1 Axes>"
            ]
          },
          "metadata": {
            "tags": []
          }
        },
        {
          "output_type": "display_data",
          "data": {
            "image/png": "[encoded data removed]",
            "text/plain": [
              "<Figure size 576x396 with 1 Axes>"
            ]
          },
          "metadata": {
            "tags": []
          }
        }
      ]
    }
  ]
}