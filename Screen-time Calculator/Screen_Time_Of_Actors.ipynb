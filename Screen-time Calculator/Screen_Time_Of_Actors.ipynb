{
  "nbformat": 4,
  "nbformat_minor": 0,
  "metadata": {
    "colab": {
      "name": "Screen-Time-Of-Actors.ipynb",
      "version": "0.3.2",
      "provenance": [],
      "collapsed_sections": [],
      "toc_visible": true,
      "include_colab_link": true
    },
    "kernelspec": {
      "name": "python3",
      "display_name": "Python 3"
    },
    "accelerator": "TPU"
  },
  "cells": [
    {
      "cell_type": "markdown",
      "metadata": {
        "id": "view-in-github",
        "colab_type": "text"
      },
      "source": [
        "<a href=\"https://colab.research.google.com/github/JamesPeralta/Machine-Learning-Algorithms/blob/master/Screen-time%20Calculator/Screen_Time_Of_Actors.ipynb\" target=\"_parent\"><img src=\"https://colab.research.google.com/assets/colab-badge.svg\" alt=\"Open In Colab\"/></a>"
      ]
    },
    {
      "metadata": {
        "id": "ygvmJJ4gKd__",
        "colab_type": "text"
      },
      "cell_type": "markdown",
      "source": [
        "# Screen Time Of Actors\n",
        "### In this notebook I will implement a Neural Network that calculates the time screen time of actors in any video."
      ]
    },
    {
      "metadata": {
        "id": "1CWBbAoqM67D",
        "colab_type": "text"
      },
      "cell_type": "markdown",
      "source": [
        "### Imports"
      ]
    },
    {
      "metadata": {
        "id": "6tJbShE3MxlF",
        "colab_type": "code",
        "colab": {
          "base_uri": "https://localhost:8080/",
          "height": 34
        },
        "outputId": "a98d23c3-16fa-4c8c-959f-09bd68bab9bc"
      },
      "cell_type": "code",
      "source": [
        "import cv2     # for capturing videos\n",
        "import math   # for mathematical operations\n",
        "import matplotlib.pyplot as plt    # for plotting the images\n",
        "%matplotlib inline\n",
        "import pandas as pd\n",
        "from keras.preprocessing import image   # for preprocessing the images\n",
        "import numpy as np    # for mathematical operations\n",
        "from keras.utils import np_utils\n",
        "from skimage.transform import resize   # for resizing images\n",
        "import tensorflow as tf\n",
        "\n",
        "from google.colab import drive\n",
        "import os"
      ],
      "execution_count": 1,
      "outputs": [
        {
          "output_type": "stream",
          "text": [
            "Using TensorFlow backend.\n"
          ],
          "name": "stderr"
        }
      ]
    },
    {
      "metadata": {
        "id": "WbqlrZy6NJ8D",
        "colab_type": "code",
        "colab": {
          "base_uri": "https://localhost:8080/",
          "height": 122
        },
        "outputId": "696624c9-83f5-4617-ae09-aedac97c2d10"
      },
      "cell_type": "code",
      "source": [
        "drive.mount('/content/drive')"
      ],
      "execution_count": 2,
      "outputs": [
        {
          "output_type": "stream",
          "text": [
            "Go to this URL in a browser: https://accounts.google.com/o/oauth2/auth?client_id=947318989803-6bn6qk8qdgf4n4g3pfee6491hc0brc4i.apps.googleusercontent.com&redirect_uri=urn%3Aietf%3Awg%3Aoauth%3A2.0%3Aoob&scope=email%20https%3A%2F%2Fwww.googleapis.com%2Fauth%2Fdocs.test%20https%3A%2F%2Fwww.googleapis.com%2Fauth%2Fdrive%20https%3A%2F%2Fwww.googleapis.com%2Fauth%2Fdrive.photos.readonly%20https%3A%2F%2Fwww.googleapis.com%2Fauth%2Fpeopleapi.readonly&response_type=code\n",
            "\n",
            "Enter your authorization code:\n",
            "··········\n",
            "Mounted at /content/drive\n"
          ],
          "name": "stdout"
        }
      ]
    },
    {
      "metadata": {
        "id": "8S-FhQcyNe7a",
        "colab_type": "code",
        "colab": {}
      },
      "cell_type": "code",
      "source": [
        "dataset_directory = '/content/drive/My Drive/Datasets/ScreenTimeCalculator/train'\n",
        "\n",
        "os.chdir(dataset_directory)"
      ],
      "execution_count": 0,
      "outputs": []
    },
    {
      "metadata": {
        "id": "54QtG8UQYKPr",
        "colab_type": "code",
        "colab": {
          "base_uri": "https://localhost:8080/",
          "height": 34
        },
        "outputId": "39b8a4ce-47cc-4e91-c43f-12140773594a"
      },
      "cell_type": "code",
      "source": [
        "os.listdir()"
      ],
      "execution_count": 4,
      "outputs": [
        {
          "output_type": "execute_result",
          "data": {
            "text/plain": [
              "['Tom and jerry.mp4', 'mapping.csv']"
            ]
          },
          "metadata": {
            "tags": []
          },
          "execution_count": 4
        }
      ]
    },
    {
      "metadata": {
        "id": "zF_W4fw9MaiW",
        "colab_type": "text"
      },
      "cell_type": "markdown",
      "source": [
        "## Step 1: Read the video, extract frames from it and save them as images\n",
        "* We will load the video\n",
        "* Convert it to frames"
      ]
    },
    {
      "metadata": {
        "id": "UKjwjc2rMV0e",
        "colab_type": "code",
        "outputId": "d4990776-4af6-45ba-d40a-e7d6c78f2159",
        "colab": {
          "base_uri": "https://localhost:8080/",
          "height": 34
        }
      },
      "cell_type": "code",
      "source": [
        "count = 0\n",
        "videoFile = \"Tom and jerry.mp4\"\n",
        "\n",
        "cap = cv2.VideoCapture(videoFile)   # capturing the video from the given path\n",
        "\n",
        "frameRate = cap.get(cv2.CAP_PROP_FPS) # Frame rate\n",
        "\n",
        "x=1\n",
        "while(cap.isOpened()):\n",
        "  \n",
        "    frameId = cap.get(1) #current frame number\n",
        "    \n",
        "    ret, frame = cap.read()\n",
        "    \n",
        "    if (ret != True):\n",
        "        break\n",
        "    \n",
        "    # Mod the frame number by the framerate\n",
        "    # We will get 1 frame every 2 seconds\n",
        "    if (frameId % math.floor(frameRate) == 0):\n",
        "        filename =\"frame%d.jpg\" % count;count+=1\n",
        "        cv2.imwrite(filename, frame)\n",
        "        \n",
        "cap.release()\n",
        "print (\"Done!\")"
      ],
      "execution_count": 5,
      "outputs": [
        {
          "output_type": "stream",
          "text": [
            "Done!\n"
          ],
          "name": "stdout"
        }
      ]
    },
    {
      "metadata": {
        "id": "KmSZprgbQGot",
        "colab_type": "code",
        "outputId": "d2825ea3-eaf9-4614-e3f1-d9259759f8b7",
        "colab": {
          "base_uri": "https://localhost:8080/",
          "height": 257
        }
      },
      "cell_type": "code",
      "source": [
        "img = plt.imread('frame1.jpg')   # reading image using its name\n",
        "plt.imshow(img)"
      ],
      "execution_count": 6,
      "outputs": [
        {
          "output_type": "execute_result",
          "data": {
            "text/plain": [
              "<matplotlib.image.AxesImage at 0x7faa0c048550>"
            ]
          },
          "metadata": {
            "tags": []
          },
          "execution_count": 6
        },
        {
          "output_type": "display_data",
          "data": {
            "image/png": "[encoded data removed]",
            "text/plain": [
              "<Figure size 432x288 with 1 Axes>"
            ]
          },
          "metadata": {
            "tags": []
          }
        }
      ]
    },
    {
      "metadata": {
        "id": "35D3jSLdZb8M",
        "colab_type": "text"
      },
      "cell_type": "markdown",
      "source": [
        "## Step 2: Label a few images for training the model\n",
        "* This will be a multi-class classification problem. With the following classes:\n",
        " *  0 – neither JERRY nor TOM\n",
        " *  1 – for JERRY\n",
        " *  2 – for TOM\n",
        " \n",
        " This dataset has already been labeled so we will just pull in the csv file with the labels"
      ]
    },
    {
      "metadata": {
        "id": "EX_TB7PZcAI-",
        "colab_type": "text"
      },
      "cell_type": "markdown",
      "source": [
        "### Vectorize the video frames"
      ]
    },
    {
      "metadata": {
        "id": "-Pp6GlhIZhIt",
        "colab_type": "code",
        "colab": {
          "base_uri": "https://localhost:8080/",
          "height": 204
        },
        "outputId": "3044d40f-efa4-46ab-cdab-b78b1fb98cb9"
      },
      "cell_type": "code",
      "source": [
        "data = pd.read_csv('mapping.csv') # Read in the csv file\n",
        "data.head()      # printing first five rows of the file"
      ],
      "execution_count": 7,
      "outputs": [
        {
          "output_type": "execute_result",
          "data": {
            "text/html": [
              "<div>\n",
              "<style scoped>\n",
              "    .dataframe tbody tr th:only-of-type {\n",
              "        vertical-align: middle;\n",
              "    }\n",
              "\n",
              "    .dataframe tbody tr th {\n",
              "        vertical-align: top;\n",
              "    }\n",
              "\n",
              "    .dataframe thead th {\n",
              "        text-align: right;\n",
              "    }\n",
              "</style>\n",
              "<table border=\"1\" class=\"dataframe\">\n",
              "  <thead>\n",
              "    <tr style=\"text-align: right;\">\n",
              "      <th></th>\n",
              "      <th>Image_ID</th>\n",
              "      <th>Class</th>\n",
              "    </tr>\n",
              "  </thead>\n",
              "  <tbody>\n",
              "    <tr>\n",
              "      <th>0</th>\n",
              "      <td>frame0.jpg</td>\n",
              "      <td>1</td>\n",
              "    </tr>\n",
              "    <tr>\n",
              "      <th>1</th>\n",
              "      <td>frame1.jpg</td>\n",
              "      <td>1</td>\n",
              "    </tr>\n",
              "    <tr>\n",
              "      <th>2</th>\n",
              "      <td>frame2.jpg</td>\n",
              "      <td>2</td>\n",
              "    </tr>\n",
              "    <tr>\n",
              "      <th>3</th>\n",
              "      <td>frame3.jpg</td>\n",
              "      <td>2</td>\n",
              "    </tr>\n",
              "    <tr>\n",
              "      <th>4</th>\n",
              "      <td>frame4.jpg</td>\n",
              "      <td>2</td>\n",
              "    </tr>\n",
              "  </tbody>\n",
              "</table>\n",
              "</div>"
            ],
            "text/plain": [
              "     Image_ID  Class\n",
              "0  frame0.jpg      1\n",
              "1  frame1.jpg      1\n",
              "2  frame2.jpg      2\n",
              "3  frame3.jpg      2\n",
              "4  frame4.jpg      2"
            ]
          },
          "metadata": {
            "tags": []
          },
          "execution_count": 7
        }
      ]
    },
    {
      "metadata": {
        "id": "aA4ex7EiankU",
        "colab_type": "code",
        "colab": {}
      },
      "cell_type": "code",
      "source": [
        "X = [ ]     # creating an empty array\n",
        "\n",
        "for img_name in data.Image_ID:\n",
        "    img = plt.imread(img_name) # Read the image as an array\n",
        "    X.append(img)  # storing each image in array X\n",
        "    \n",
        "X = np.array(X)    # converting list to array"
      ],
      "execution_count": 0,
      "outputs": []
    },
    {
      "metadata": {
        "id": "YFxIIz3IbJoZ",
        "colab_type": "code",
        "colab": {
          "base_uri": "https://localhost:8080/",
          "height": 34
        },
        "outputId": "7b3b6c4e-aba9-4b6b-b57b-8c1ca194c974"
      },
      "cell_type": "code",
      "source": [
        "print(X.shape)"
      ],
      "execution_count": 12,
      "outputs": [
        {
          "output_type": "stream",
          "text": [
            "(298, 720, 1280, 3)\n"
          ],
          "name": "stdout"
        }
      ]
    },
    {
      "metadata": {
        "id": "sZNTIS2tcGWN",
        "colab_type": "text"
      },
      "cell_type": "markdown",
      "source": [
        "### Vectorize the Output labels"
      ]
    },
    {
      "metadata": {
        "id": "U5FX1KgycGuC",
        "colab_type": "code",
        "colab": {}
      },
      "cell_type": "code",
      "source": [
        "y = data.Class\n",
        "dummy_y = np_utils.to_categorical(y)    # one hot encoding Classes"
      ],
      "execution_count": 0,
      "outputs": []
    },
    {
      "metadata": {
        "id": "emEUh8tAcPuE",
        "colab_type": "code",
        "colab": {}
      },
      "cell_type": "code",
      "source": [
        "print(dummy_y)"
      ],
      "execution_count": 0,
      "outputs": []
    },
    {
      "metadata": {
        "id": "loT4YUisczZj",
        "colab_type": "text"
      },
      "cell_type": "markdown",
      "source": [
        "### We will be using a VGG16 pretrained model which takes an input image of shape (224 X 224 X 3)\n",
        "### Since our images are a different size, we need to reshape all of them\n",
        "### We can use the resize() function of skimage.transform"
      ]
    },
    {
      "metadata": {
        "id": "YCGqA6Uaczzh",
        "colab_type": "code",
        "colab": {
          "base_uri": "https://localhost:8080/",
          "height": 51
        },
        "outputId": "99b1262c-4739-44de-f3ea-d37d6df9a0c7"
      },
      "cell_type": "code",
      "source": [
        "image = []\n",
        "for i in range(0,X.shape[0]):\n",
        "    a = resize(X[i], preserve_range=True, output_shape=(224,224)).astype(int)      # reshaping to 224*224*3\n",
        "    image.append(a)\n",
        "X = np.array(image)"
      ],
      "execution_count": 15,
      "outputs": [
        {
          "output_type": "stream",
          "text": [
            "/usr/local/lib/python3.6/dist-packages/skimage/transform/_warps.py:84: UserWarning: The default mode, 'constant', will be changed to 'reflect' in skimage 0.15.\n",
            "  warn(\"The default mode, 'constant', will be changed to 'reflect' in \"\n"
          ],
          "name": "stderr"
        }
      ]
    },
    {
      "metadata": {
        "id": "7u3Jl2h-dN61",
        "colab_type": "code",
        "colab": {
          "base_uri": "https://localhost:8080/",
          "height": 34
        },
        "outputId": "54d0d341-3c08-47b7-e1ee-45e9dd0fa07b"
      },
      "cell_type": "code",
      "source": [
        "print(X.shape)"
      ],
      "execution_count": 16,
      "outputs": [
        {
          "output_type": "stream",
          "text": [
            "(298, 224, 224, 3)\n"
          ],
          "name": "stdout"
        }
      ]
    },
    {
      "metadata": {
        "id": "EK64DR5bdlkr",
        "colab_type": "text"
      },
      "cell_type": "markdown",
      "source": [
        "### Now that the images have been reshaped to the correct size we will still need to do one more step. This step is to preprocess is to the other model's requirments otherwise it will not perform well enough"
      ]
    },
    {
      "metadata": {
        "id": "QgUIuOxkdlz-",
        "colab_type": "code",
        "colab": {}
      },
      "cell_type": "code",
      "source": [
        "from keras.applications.vgg16 import preprocess_input\n",
        "X = preprocess_input(X, mode='tf')      # preprocessing the input data"
      ],
      "execution_count": 0,
      "outputs": []
    },
    {
      "metadata": {
        "id": "vP1l7BVdeFJS",
        "colab_type": "text"
      },
      "cell_type": "markdown",
      "source": [
        "### Now we need to create a train, dev set"
      ]
    },
    {
      "metadata": {
        "id": "ovHtb9RKeF2Y",
        "colab_type": "code",
        "colab": {}
      },
      "cell_type": "code",
      "source": [
        "from sklearn.model_selection import train_test_split\n",
        "X_train, X_valid, y_train, y_valid = train_test_split(X, dummy_y, test_size=0.3, random_state=42)    # preparing the validation set"
      ],
      "execution_count": 0,
      "outputs": []
    },
    {
      "metadata": {
        "id": "1n93a9Qmes0P",
        "colab_type": "text"
      },
      "cell_type": "markdown",
      "source": [
        "## Step 3: Building the model"
      ]
    },
    {
      "metadata": {
        "id": "je_qXLcqe8XG",
        "colab_type": "code",
        "colab": {}
      },
      "cell_type": "code",
      "source": [
        "from tensorflow.keras.models import Sequential\n",
        "from tensorflow.keras.applications.vgg16 import VGG16\n",
        "from tensorflow.keras.layers import Dense, InputLayer, Dropout"
      ],
      "execution_count": 0,
      "outputs": []
    },
    {
      "metadata": {
        "id": "4e_yf8Mmfl46",
        "colab_type": "text"
      },
      "cell_type": "markdown",
      "source": [
        "### Load Pretrained model"
      ]
    },
    {
      "metadata": {
        "id": "b_pxApoPfKyU",
        "colab_type": "code",
        "colab": {
          "base_uri": "https://localhost:8080/",
          "height": 122
        },
        "outputId": "d81e6786-364f-40ad-9687-7421f61af180"
      },
      "cell_type": "code",
      "source": [
        "base_model = VGG16(weights='imagenet', include_top=False, input_shape=(224, 224, 3))    # include_top=False to remove the top layer"
      ],
      "execution_count": 20,
      "outputs": [
        {
          "output_type": "stream",
          "text": [
            "WARNING:tensorflow:From /usr/local/lib/python3.6/dist-packages/tensorflow/python/ops/resource_variable_ops.py:435: colocate_with (from tensorflow.python.framework.ops) is deprecated and will be removed in a future version.\n",
            "Instructions for updating:\n",
            "Colocations handled automatically by placer.\n",
            "Downloading data from https://github.com/fchollet/deep-learning-models/releases/download/v0.1/vgg16_weights_tf_dim_ordering_tf_kernels_notop.h5\n",
            "58892288/58889256 [==============================] - 1s 0us/step\n"
          ],
          "name": "stdout"
        }
      ]
    },
    {
      "metadata": {
        "id": "B1oGglUqfRL-",
        "colab_type": "code",
        "colab": {
          "base_uri": "https://localhost:8080/",
          "height": 799
        },
        "outputId": "9831ef44-4805-4792-aa9b-03662979faf1"
      },
      "cell_type": "code",
      "source": [
        "print(base_model.summary())"
      ],
      "execution_count": 21,
      "outputs": [
        {
          "output_type": "stream",
          "text": [
            "_________________________________________________________________\n",
            "Layer (type)                 Output Shape              Param #   \n",
            "=================================================================\n",
            "input_1 (InputLayer)         (None, 224, 224, 3)       0         \n",
            "_________________________________________________________________\n",
            "block1_conv1 (Conv2D)        (None, 224, 224, 64)      1792      \n",
            "_________________________________________________________________\n",
            "block1_conv2 (Conv2D)        (None, 224, 224, 64)      36928     \n",
            "_________________________________________________________________\n",
            "block1_pool (MaxPooling2D)   (None, 112, 112, 64)      0         \n",
            "_________________________________________________________________\n",
            "block2_conv1 (Conv2D)        (None, 112, 112, 128)     73856     \n",
            "_________________________________________________________________\n",
            "block2_conv2 (Conv2D)        (None, 112, 112, 128)     147584    \n",
            "_________________________________________________________________\n",
            "block2_pool (MaxPooling2D)   (None, 56, 56, 128)       0         \n",
            "_________________________________________________________________\n",
            "block3_conv1 (Conv2D)        (None, 56, 56, 256)       295168    \n",
            "_________________________________________________________________\n",
            "block3_conv2 (Conv2D)        (None, 56, 56, 256)       590080    \n",
            "_________________________________________________________________\n",
            "block3_conv3 (Conv2D)        (None, 56, 56, 256)       590080    \n",
            "_________________________________________________________________\n",
            "block3_pool (MaxPooling2D)   (None, 28, 28, 256)       0         \n",
            "_________________________________________________________________\n",
            "block4_conv1 (Conv2D)        (None, 28, 28, 512)       1180160   \n",
            "_________________________________________________________________\n",
            "block4_conv2 (Conv2D)        (None, 28, 28, 512)       2359808   \n",
            "_________________________________________________________________\n",
            "block4_conv3 (Conv2D)        (None, 28, 28, 512)       2359808   \n",
            "_________________________________________________________________\n",
            "block4_pool (MaxPooling2D)   (None, 14, 14, 512)       0         \n",
            "_________________________________________________________________\n",
            "block5_conv1 (Conv2D)        (None, 14, 14, 512)       2359808   \n",
            "_________________________________________________________________\n",
            "block5_conv2 (Conv2D)        (None, 14, 14, 512)       2359808   \n",
            "_________________________________________________________________\n",
            "block5_conv3 (Conv2D)        (None, 14, 14, 512)       2359808   \n",
            "_________________________________________________________________\n",
            "block5_pool (MaxPooling2D)   (None, 7, 7, 512)         0         \n",
            "=================================================================\n",
            "Total params: 14,714,688\n",
            "Trainable params: 14,714,688\n",
            "Non-trainable params: 0\n",
            "_________________________________________________________________\n",
            "None\n"
          ],
          "name": "stdout"
        }
      ]
    },
    {
      "metadata": {
        "id": "jnhpKQF3fzJO",
        "colab_type": "text"
      },
      "cell_type": "markdown",
      "source": [
        "### Make predictions using the model to extract the features"
      ]
    },
    {
      "metadata": {
        "id": "vdLD4fh0f0Bw",
        "colab_type": "code",
        "colab": {
          "base_uri": "https://localhost:8080/",
          "height": 34
        },
        "outputId": "4b3049f7-98a2-40f8-f900-5fe1a6a898d8"
      },
      "cell_type": "code",
      "source": [
        "X_train = base_model.predict(X_train)\n",
        "X_valid = base_model.predict(X_valid)\n",
        "X_train.shape, X_valid.shape"
      ],
      "execution_count": 22,
      "outputs": [
        {
          "output_type": "execute_result",
          "data": {
            "text/plain": [
              "((208, 7, 7, 512), (90, 7, 7, 512))"
            ]
          },
          "metadata": {
            "tags": []
          },
          "execution_count": 22
        }
      ]
    },
    {
      "metadata": {
        "id": "K2f0OuHRmW14",
        "colab_type": "code",
        "colab": {}
      },
      "cell_type": "code",
      "source": [
        "X_train = X_train.reshape(208, 7*7*512)      # converting to 1-D\n",
        "X_valid = X_valid.reshape(90, 7*7*512)"
      ],
      "execution_count": 0,
      "outputs": []
    },
    {
      "metadata": {
        "id": "QYcHZl4-n-hd",
        "colab_type": "code",
        "colab": {}
      },
      "cell_type": "code",
      "source": [
        "train = X_train/X_train.max()      # centering the data\n",
        "X_valid = X_valid/X_train.max()"
      ],
      "execution_count": 0,
      "outputs": []
    },
    {
      "metadata": {
        "id": "pTdMQVWbomor",
        "colab_type": "text"
      },
      "cell_type": "markdown",
      "source": [
        "### Building the model"
      ]
    },
    {
      "metadata": {
        "id": "ZbQ8dk8iufr9",
        "colab_type": "code",
        "colab": {}
      },
      "cell_type": "code",
      "source": [
        "model = Sequential()\n",
        "model.add(InputLayer((7*7*512,)))    # input layer\n",
        "model.add(Dense(units=1024, activation='sigmoid')) # hidden layer\n",
        "model.add(Dense(3, activation='softmax'))    # output layer"
      ],
      "execution_count": 0,
      "outputs": []
    },
    {
      "metadata": {
        "id": "ucrs2qLgHE_w",
        "colab_type": "code",
        "colab": {
          "base_uri": "https://localhost:8080/",
          "height": 204
        },
        "outputId": "d8a0bafb-5e30-4e1c-a245-ef0b582eea66"
      },
      "cell_type": "code",
      "source": [
        "model.summary()"
      ],
      "execution_count": 26,
      "outputs": [
        {
          "output_type": "stream",
          "text": [
            "_________________________________________________________________\n",
            "Layer (type)                 Output Shape              Param #   \n",
            "=================================================================\n",
            "dense (Dense)                (None, 1024)              25691136  \n",
            "_________________________________________________________________\n",
            "dense_1 (Dense)              (None, 3)                 3075      \n",
            "=================================================================\n",
            "Total params: 25,694,211\n",
            "Trainable params: 25,694,211\n",
            "Non-trainable params: 0\n",
            "_________________________________________________________________\n"
          ],
          "name": "stdout"
        }
      ]
    },
    {
      "metadata": {
        "id": "88-x1EWO5cMQ",
        "colab_type": "code",
        "colab": {
          "base_uri": "https://localhost:8080/",
          "height": 425
        },
        "outputId": "04ed88e3-538a-4c7c-bb3b-13296f3f2769"
      },
      "cell_type": "code",
      "source": [
        "tpu_model = tf.contrib.tpu.keras_to_tpu_model(\n",
        "    model,\n",
        "    strategy=tf.contrib.tpu.TPUDistributionStrategy(\n",
        "        tf.contrib.cluster_resolver.TPUClusterResolver(tpu='grpc://' + os.environ['COLAB_TPU_ADDR'])\n",
        "    )\n",
        ")"
      ],
      "execution_count": 27,
      "outputs": [
        {
          "output_type": "stream",
          "text": [
            "\n",
            "WARNING: The TensorFlow contrib module will not be included in TensorFlow 2.0.\n",
            "For more information, please see:\n",
            "  * https://github.com/tensorflow/community/blob/master/rfcs/20180907-contrib-sunset.md\n",
            "  * https://github.com/tensorflow/addons\n",
            "If you depend on functionality not listed there, please file an issue.\n",
            "\n",
            "INFO:tensorflow:Querying Tensorflow master (grpc://10.38.83.154:8470) for TPU system metadata.\n",
            "INFO:tensorflow:Found TPU system:\n",
            "INFO:tensorflow:*** Num TPU Cores: 8\n",
            "INFO:tensorflow:*** Num TPU Workers: 1\n",
            "INFO:tensorflow:*** Num TPU Cores Per Worker: 8\n",
            "INFO:tensorflow:*** Available Device: _DeviceAttributes(/job:worker/replica:0/task:0/device:CPU:0, CPU, -1, 2823724207644815233)\n",
            "INFO:tensorflow:*** Available Device: _DeviceAttributes(/job:worker/replica:0/task:0/device:XLA_CPU:0, XLA_CPU, 17179869184, 5278392186776635803)\n",
            "INFO:tensorflow:*** Available Device: _DeviceAttributes(/job:worker/replica:0/task:0/device:TPU:0, TPU, 17179869184, 13046835079934525446)\n",
            "INFO:tensorflow:*** Available Device: _DeviceAttributes(/job:worker/replica:0/task:0/device:TPU:1, TPU, 17179869184, 4027726614961001569)\n",
            "INFO:tensorflow:*** Available Device: _DeviceAttributes(/job:worker/replica:0/task:0/device:TPU:2, TPU, 17179869184, 15417515894815362704)\n",
            "INFO:tensorflow:*** Available Device: _DeviceAttributes(/job:worker/replica:0/task:0/device:TPU:3, TPU, 17179869184, 904037436896061518)\n",
            "INFO:tensorflow:*** Available Device: _DeviceAttributes(/job:worker/replica:0/task:0/device:TPU:4, TPU, 17179869184, 4067353168271464972)\n",
            "INFO:tensorflow:*** Available Device: _DeviceAttributes(/job:worker/replica:0/task:0/device:TPU:5, TPU, 17179869184, 9880169883078372709)\n",
            "INFO:tensorflow:*** Available Device: _DeviceAttributes(/job:worker/replica:0/task:0/device:TPU:6, TPU, 17179869184, 18116984412192155096)\n",
            "INFO:tensorflow:*** Available Device: _DeviceAttributes(/job:worker/replica:0/task:0/device:TPU:7, TPU, 17179869184, 13138040715797940038)\n",
            "INFO:tensorflow:*** Available Device: _DeviceAttributes(/job:worker/replica:0/task:0/device:TPU_SYSTEM:0, TPU_SYSTEM, 17179869184, 14268485647400610470)\n",
            "WARNING:tensorflow:tpu_model (from tensorflow.contrib.tpu.python.tpu.keras_support) is experimental and may change or be removed at any time, and without warning.\n"
          ],
          "name": "stdout"
        }
      ]
    },
    {
      "metadata": {
        "id": "v7eU4oAeom1U",
        "colab_type": "text"
      },
      "cell_type": "markdown",
      "source": [
        "### Compiling the model"
      ]
    },
    {
      "metadata": {
        "id": "2ySL98RMoxGH",
        "colab_type": "code",
        "colab": {}
      },
      "cell_type": "code",
      "source": [
        "tpu_model.compile(\n",
        "    optimizer=tf.train.AdamOptimizer(learning_rate=1e-3),\n",
        "    loss=tf.keras.losses.categorical_crossentropy,\n",
        "    metrics=['acc']\n",
        ")"
      ],
      "execution_count": 0,
      "outputs": []
    },
    {
      "metadata": {
        "id": "waXIxPWnonZX",
        "colab_type": "text"
      },
      "cell_type": "markdown",
      "source": [
        "### Training the model"
      ]
    },
    {
      "metadata": {
        "id": "AdfXO3SxuOie",
        "colab_type": "code",
        "colab": {
          "base_uri": "https://localhost:8080/",
          "height": 3930
        },
        "outputId": "c1e8ae0e-9457-4189-85f7-7ac0c45c6074"
      },
      "cell_type": "code",
      "source": [
        "tpu_model.fit(train, \n",
        "          y_train, \n",
        "          epochs=100, \n",
        "          validation_data=(X_valid, y_valid))"
      ],
      "execution_count": 29,
      "outputs": [
        {
          "output_type": "stream",
          "text": [
            "Train on 208 samples, validate on 90 samples\n",
            "Epoch 1/100\n",
            "INFO:tensorflow:New input shapes; (re-)compiling: mode=train (# of cores 8), [TensorSpec(shape=(4,), dtype=tf.int32, name='core_id0'), TensorSpec(shape=(4, 25088), dtype=tf.float32, name='input_2_10'), TensorSpec(shape=(4, 3), dtype=tf.float32, name='dense_1_target_10')]\n",
            "INFO:tensorflow:Overriding default placeholder.\n",
            "INFO:tensorflow:Remapping placeholder for input_2\n",
            "WARNING:tensorflow:From /usr/local/lib/python3.6/dist-packages/tensorflow/contrib/tpu/python/tpu/keras_support.py:302: to_float (from tensorflow.python.ops.math_ops) is deprecated and will be removed in a future version.\n",
            "Instructions for updating:\n",
            "Use tf.cast instead.\n",
            "WARNING:tensorflow:From /usr/local/lib/python3.6/dist-packages/tensorflow/python/ops/math_ops.py:3066: to_int32 (from tensorflow.python.ops.math_ops) is deprecated and will be removed in a future version.\n",
            "Instructions for updating:\n",
            "Use tf.cast instead.\n",
            "INFO:tensorflow:Started compiling\n",
            "INFO:tensorflow:Finished compiling. Time elapsed: 1.9198460578918457 secs\n",
            "INFO:tensorflow:Setting weights on TPU model.\n",
            "160/208 [======================>.......] - ETA: 1s - loss: 1.1190 - acc: 0.4688INFO:tensorflow:New input shapes; (re-)compiling: mode=train (# of cores 8), [TensorSpec(shape=(2,), dtype=tf.int32, name='core_id0'), TensorSpec(shape=(2, 25088), dtype=tf.float32, name='input_2_10'), TensorSpec(shape=(2, 3), dtype=tf.float32, name='dense_1_target_10')]\n",
            "INFO:tensorflow:Overriding default placeholder.\n",
            "INFO:tensorflow:Remapping placeholder for input_2\n",
            "INFO:tensorflow:Started compiling\n",
            "INFO:tensorflow:Finished compiling. Time elapsed: 1.4314148426055908 secs\n",
            "192/208 [==========================>...] - ETA: 0s - loss: 1.0476 - acc: 0.5104INFO:tensorflow:New input shapes; (re-)compiling: mode=eval (# of cores 8), [TensorSpec(shape=(4,), dtype=tf.int32, name='core_id_10'), TensorSpec(shape=(4, 25088), dtype=tf.float32, name='input_2_10'), TensorSpec(shape=(4, 3), dtype=tf.float32, name='dense_1_target_10')]\n",
            "INFO:tensorflow:Overriding default placeholder.\n",
            "INFO:tensorflow:Remapping placeholder for input_2\n",
            "INFO:tensorflow:Started compiling\n",
            "INFO:tensorflow:Finished compiling. Time elapsed: 0.7332448959350586 secs\n",
            "INFO:tensorflow:New input shapes; (re-)compiling: mode=eval (# of cores 8), [TensorSpec(shape=(3,), dtype=tf.int32, name='core_id_10'), TensorSpec(shape=(3, 25088), dtype=tf.float32, name='input_2_10'), TensorSpec(shape=(3, 3), dtype=tf.float32, name='dense_1_target_10')]\n",
            "INFO:tensorflow:Overriding default placeholder.\n",
            "INFO:tensorflow:Remapping placeholder for input_2\n",
            "INFO:tensorflow:Started compiling\n",
            "INFO:tensorflow:Finished compiling. Time elapsed: 0.8648993968963623 secs\n",
            "208/208 [==============================] - 10s 49ms/sample - loss: 1.0214 - acc: 0.5192 - val_loss: 0.7533 - val_acc: 0.6932\n",
            "Epoch 2/100\n",
            "208/208 [==============================] - 0s 2ms/sample - loss: 0.3624 - acc: 0.8606 - val_loss: 0.4560 - val_acc: 0.8182\n",
            "Epoch 3/100\n",
            "208/208 [==============================] - 0s 2ms/sample - loss: 0.1560 - acc: 0.9712 - val_loss: 0.3655 - val_acc: 0.8295\n",
            "Epoch 4/100\n",
            "208/208 [==============================] - 0s 2ms/sample - loss: 0.0891 - acc: 0.9808 - val_loss: 0.2937 - val_acc: 0.8864\n",
            "Epoch 5/100\n",
            "208/208 [==============================] - 1s 3ms/sample - loss: 0.0745 - acc: 0.9856 - val_loss: 0.2770 - val_acc: 0.8977\n",
            "Epoch 6/100\n",
            "208/208 [==============================] - 0s 2ms/sample - loss: 0.0502 - acc: 0.9856 - val_loss: 0.3509 - val_acc: 0.8409\n",
            "Epoch 7/100\n",
            "208/208 [==============================] - 0s 2ms/sample - loss: 0.0391 - acc: 0.9952 - val_loss: 0.2710 - val_acc: 0.8864\n",
            "Epoch 8/100\n",
            "208/208 [==============================] - 0s 2ms/sample - loss: 0.0319 - acc: 0.9952 - val_loss: 0.2679 - val_acc: 0.8636\n",
            "Epoch 9/100\n",
            "208/208 [==============================] - 1s 3ms/sample - loss: 0.0257 - acc: 0.9952 - val_loss: 0.2912 - val_acc: 0.8523\n",
            "Epoch 10/100\n",
            "208/208 [==============================] - 0s 2ms/sample - loss: 0.0225 - acc: 0.9952 - val_loss: 0.3420 - val_acc: 0.8523\n",
            "Epoch 11/100\n",
            "208/208 [==============================] - 1s 3ms/sample - loss: 0.0278 - acc: 0.9952 - val_loss: 0.2786 - val_acc: 0.8636\n",
            "Epoch 12/100\n",
            "208/208 [==============================] - 0s 2ms/sample - loss: 0.0232 - acc: 0.9952 - val_loss: 0.2682 - val_acc: 0.8636\n",
            "Epoch 13/100\n",
            "208/208 [==============================] - 1s 3ms/sample - loss: 0.0182 - acc: 0.9952 - val_loss: 0.2972 - val_acc: 0.8523\n",
            "Epoch 14/100\n",
            "208/208 [==============================] - 1s 3ms/sample - loss: 0.0218 - acc: 0.9952 - val_loss: 0.2954 - val_acc: 0.8409\n",
            "Epoch 15/100\n",
            "208/208 [==============================] - 0s 2ms/sample - loss: 0.0206 - acc: 0.9904 - val_loss: 0.2997 - val_acc: 0.8523\n",
            "Epoch 16/100\n",
            "208/208 [==============================] - 1s 3ms/sample - loss: 0.0186 - acc: 0.9952 - val_loss: 0.2798 - val_acc: 0.8636\n",
            "Epoch 17/100\n",
            "208/208 [==============================] - 0s 2ms/sample - loss: 0.0161 - acc: 0.9952 - val_loss: 0.2598 - val_acc: 0.8636\n",
            "Epoch 18/100\n",
            "208/208 [==============================] - 1s 3ms/sample - loss: 0.0142 - acc: 0.9952 - val_loss: 0.3063 - val_acc: 0.8523\n",
            "Epoch 19/100\n",
            "208/208 [==============================] - 0s 2ms/sample - loss: 0.0177 - acc: 0.9952 - val_loss: 0.3030 - val_acc: 0.8636\n",
            "Epoch 20/100\n",
            "208/208 [==============================] - 0s 2ms/sample - loss: 0.0248 - acc: 0.9952 - val_loss: 0.2389 - val_acc: 0.8977\n",
            "Epoch 21/100\n",
            "208/208 [==============================] - 0s 2ms/sample - loss: 0.0190 - acc: 0.9952 - val_loss: 0.3253 - val_acc: 0.8523\n",
            "Epoch 22/100\n",
            "208/208 [==============================] - 0s 2ms/sample - loss: 0.0124 - acc: 1.0000 - val_loss: 0.3551 - val_acc: 0.8523\n",
            "Epoch 23/100\n",
            "208/208 [==============================] - 0s 2ms/sample - loss: 0.0150 - acc: 0.9952 - val_loss: 0.2740 - val_acc: 0.8636\n",
            "Epoch 24/100\n",
            "208/208 [==============================] - 0s 2ms/sample - loss: 0.0229 - acc: 0.9904 - val_loss: 0.2493 - val_acc: 0.8750\n",
            "Epoch 25/100\n",
            "208/208 [==============================] - 0s 2ms/sample - loss: 0.0064 - acc: 1.0000 - val_loss: 0.4433 - val_acc: 0.8409\n",
            "Epoch 26/100\n",
            "208/208 [==============================] - 0s 2ms/sample - loss: 0.0267 - acc: 0.9952 - val_loss: 0.3247 - val_acc: 0.8636\n",
            "Epoch 27/100\n",
            "208/208 [==============================] - 1s 2ms/sample - loss: 0.0138 - acc: 0.9952 - val_loss: 0.2545 - val_acc: 0.8636\n",
            "Epoch 28/100\n",
            "208/208 [==============================] - 0s 2ms/sample - loss: 0.0231 - acc: 0.9952 - val_loss: 0.2508 - val_acc: 0.8750\n",
            "Epoch 29/100\n",
            "208/208 [==============================] - 1s 3ms/sample - loss: 0.0116 - acc: 0.9952 - val_loss: 0.5689 - val_acc: 0.8409\n",
            "Epoch 30/100\n",
            "208/208 [==============================] - 0s 2ms/sample - loss: 0.0373 - acc: 0.9952 - val_loss: 0.3330 - val_acc: 0.8636\n",
            "Epoch 31/100\n",
            "208/208 [==============================] - 1s 3ms/sample - loss: 0.0331 - acc: 0.9904 - val_loss: 0.2598 - val_acc: 0.8864\n",
            "Epoch 32/100\n",
            "208/208 [==============================] - 0s 2ms/sample - loss: 0.0124 - acc: 0.9952 - val_loss: 0.3816 - val_acc: 0.8523\n",
            "Epoch 33/100\n",
            "208/208 [==============================] - 0s 2ms/sample - loss: 0.0179 - acc: 0.9952 - val_loss: 0.3353 - val_acc: 0.8523\n",
            "Epoch 34/100\n",
            "208/208 [==============================] - 0s 2ms/sample - loss: 0.0127 - acc: 0.9904 - val_loss: 0.2817 - val_acc: 0.8750\n",
            "Epoch 35/100\n",
            "208/208 [==============================] - 1s 3ms/sample - loss: 0.0104 - acc: 0.9952 - val_loss: 0.3313 - val_acc: 0.8636\n",
            "Epoch 36/100\n",
            "208/208 [==============================] - 0s 2ms/sample - loss: 0.0122 - acc: 0.9952 - val_loss: 0.3127 - val_acc: 0.8636\n",
            "Epoch 37/100\n",
            "208/208 [==============================] - 0s 2ms/sample - loss: 0.0148 - acc: 0.9904 - val_loss: 0.2694 - val_acc: 0.8636\n",
            "Epoch 38/100\n",
            "208/208 [==============================] - 1s 2ms/sample - loss: 0.0099 - acc: 0.9952 - val_loss: 0.3435 - val_acc: 0.8636\n",
            "Epoch 39/100\n",
            "208/208 [==============================] - 0s 2ms/sample - loss: 0.0124 - acc: 0.9952 - val_loss: 0.3071 - val_acc: 0.8636\n",
            "Epoch 40/100\n",
            "208/208 [==============================] - 0s 2ms/sample - loss: 0.0099 - acc: 0.9904 - val_loss: 0.2983 - val_acc: 0.8750\n",
            "Epoch 41/100\n",
            "208/208 [==============================] - 0s 2ms/sample - loss: 0.0099 - acc: 0.9952 - val_loss: 0.3252 - val_acc: 0.8636\n",
            "Epoch 42/100\n",
            "208/208 [==============================] - 0s 2ms/sample - loss: 0.0142 - acc: 0.9952 - val_loss: 0.3132 - val_acc: 0.8636\n",
            "Epoch 43/100\n",
            "208/208 [==============================] - 1s 3ms/sample - loss: 0.0081 - acc: 0.9952 - val_loss: 0.2411 - val_acc: 0.9091\n",
            "Epoch 44/100\n",
            "208/208 [==============================] - 1s 2ms/sample - loss: 0.0219 - acc: 0.9952 - val_loss: 0.2820 - val_acc: 0.8750\n",
            "Epoch 45/100\n",
            "208/208 [==============================] - 0s 2ms/sample - loss: 0.0101 - acc: 0.9952 - val_loss: 0.3859 - val_acc: 0.8409\n",
            "Epoch 46/100\n",
            "208/208 [==============================] - 1s 3ms/sample - loss: 0.0140 - acc: 0.9952 - val_loss: 0.3743 - val_acc: 0.8523\n",
            "Epoch 47/100\n",
            "208/208 [==============================] - 1s 2ms/sample - loss: 0.0065 - acc: 1.0000 - val_loss: 0.2652 - val_acc: 0.8636\n",
            "Epoch 48/100\n",
            "208/208 [==============================] - 1s 2ms/sample - loss: 0.0201 - acc: 0.9952 - val_loss: 0.2486 - val_acc: 0.8636\n",
            "Epoch 49/100\n",
            "208/208 [==============================] - 0s 2ms/sample - loss: 0.0137 - acc: 0.9952 - val_loss: 0.4633 - val_acc: 0.8409\n",
            "Epoch 50/100\n",
            "208/208 [==============================] - 0s 2ms/sample - loss: 0.0204 - acc: 0.9952 - val_loss: 0.3269 - val_acc: 0.8636\n",
            "Epoch 51/100\n",
            "208/208 [==============================] - 1s 3ms/sample - loss: 0.0129 - acc: 0.9904 - val_loss: 0.2880 - val_acc: 0.8636\n",
            "Epoch 52/100\n",
            "208/208 [==============================] - 0s 2ms/sample - loss: 0.0148 - acc: 0.9952 - val_loss: 0.3209 - val_acc: 0.8636\n",
            "Epoch 53/100\n",
            "208/208 [==============================] - 0s 2ms/sample - loss: 0.0149 - acc: 0.9952 - val_loss: 0.2454 - val_acc: 0.8750\n",
            "Epoch 54/100\n",
            "208/208 [==============================] - 1s 3ms/sample - loss: 0.0138 - acc: 0.9952 - val_loss: 0.3180 - val_acc: 0.8636\n",
            "Epoch 55/100\n",
            "208/208 [==============================] - 0s 2ms/sample - loss: 0.0122 - acc: 0.9952 - val_loss: 0.3859 - val_acc: 0.8523\n",
            "Epoch 56/100\n",
            "208/208 [==============================] - 0s 2ms/sample - loss: 0.0094 - acc: 0.9952 - val_loss: 0.2916 - val_acc: 0.8750\n",
            "Epoch 57/100\n",
            "208/208 [==============================] - 0s 2ms/sample - loss: 0.0102 - acc: 0.9952 - val_loss: 0.2878 - val_acc: 0.8750\n",
            "Epoch 58/100\n",
            "208/208 [==============================] - 0s 2ms/sample - loss: 0.0096 - acc: 0.9952 - val_loss: 0.3137 - val_acc: 0.8636\n",
            "Epoch 59/100\n",
            "208/208 [==============================] - 0s 2ms/sample - loss: 0.0080 - acc: 0.9952 - val_loss: 0.3082 - val_acc: 0.8636\n",
            "Epoch 60/100\n",
            "208/208 [==============================] - 1s 2ms/sample - loss: 0.0089 - acc: 0.9952 - val_loss: 0.2911 - val_acc: 0.8750\n",
            "Epoch 61/100\n",
            "208/208 [==============================] - 0s 2ms/sample - loss: 0.0123 - acc: 0.9904 - val_loss: 0.3182 - val_acc: 0.8636\n",
            "Epoch 62/100\n",
            "208/208 [==============================] - 0s 2ms/sample - loss: 0.0079 - acc: 0.9952 - val_loss: 0.2676 - val_acc: 0.8636\n",
            "Epoch 63/100\n",
            "208/208 [==============================] - 1s 3ms/sample - loss: 0.0116 - acc: 0.9952 - val_loss: 0.3174 - val_acc: 0.8636\n",
            "Epoch 64/100\n",
            "208/208 [==============================] - 0s 2ms/sample - loss: 0.0083 - acc: 0.9904 - val_loss: 0.3838 - val_acc: 0.8636\n",
            "Epoch 65/100\n",
            "208/208 [==============================] - 0s 2ms/sample - loss: 0.0132 - acc: 0.9952 - val_loss: 0.3332 - val_acc: 0.8636\n",
            "Epoch 66/100\n",
            "208/208 [==============================] - 0s 2ms/sample - loss: 0.0143 - acc: 0.9952 - val_loss: 0.2723 - val_acc: 0.8636\n",
            "Epoch 67/100\n",
            "208/208 [==============================] - 1s 3ms/sample - loss: 0.0177 - acc: 0.9952 - val_loss: 0.4297 - val_acc: 0.8523\n",
            "Epoch 68/100\n",
            "208/208 [==============================] - 1s 3ms/sample - loss: 0.0193 - acc: 0.9904 - val_loss: 0.2740 - val_acc: 0.8636\n",
            "Epoch 69/100\n",
            "208/208 [==============================] - 0s 2ms/sample - loss: 0.0096 - acc: 0.9952 - val_loss: 0.2877 - val_acc: 0.8636\n",
            "Epoch 70/100\n",
            "208/208 [==============================] - 0s 2ms/sample - loss: 0.0175 - acc: 0.9904 - val_loss: 0.3788 - val_acc: 0.8636\n",
            "Epoch 71/100\n",
            "208/208 [==============================] - 0s 2ms/sample - loss: 0.0096 - acc: 0.9952 - val_loss: 0.2957 - val_acc: 0.8636\n",
            "Epoch 72/100\n",
            "208/208 [==============================] - 0s 2ms/sample - loss: 0.0085 - acc: 0.9952 - val_loss: 0.2433 - val_acc: 0.8864\n",
            "Epoch 73/100\n",
            "208/208 [==============================] - 0s 2ms/sample - loss: 0.0198 - acc: 0.9952 - val_loss: 0.2756 - val_acc: 0.8750\n",
            "Epoch 74/100\n",
            "208/208 [==============================] - 0s 2ms/sample - loss: 0.0070 - acc: 0.9952 - val_loss: 0.4414 - val_acc: 0.8409\n",
            "Epoch 75/100\n",
            "208/208 [==============================] - 0s 2ms/sample - loss: 0.0209 - acc: 0.9952 - val_loss: 0.4598 - val_acc: 0.8409\n",
            "Epoch 76/100\n",
            "208/208 [==============================] - 0s 2ms/sample - loss: 0.0191 - acc: 0.9952 - val_loss: 0.2453 - val_acc: 0.8864\n",
            "Epoch 77/100\n",
            "208/208 [==============================] - 1s 3ms/sample - loss: 0.0079 - acc: 0.9952 - val_loss: 0.4086 - val_acc: 0.8523\n",
            "Epoch 78/100\n",
            "208/208 [==============================] - 0s 2ms/sample - loss: 0.0132 - acc: 0.9952 - val_loss: 0.3883 - val_acc: 0.8636\n",
            "Epoch 79/100\n",
            "208/208 [==============================] - 0s 2ms/sample - loss: 0.0132 - acc: 0.9952 - val_loss: 0.2878 - val_acc: 0.8636\n",
            "Epoch 80/100\n",
            "208/208 [==============================] - 0s 2ms/sample - loss: 0.0094 - acc: 0.9952 - val_loss: 0.2814 - val_acc: 0.8636\n",
            "Epoch 81/100\n",
            "208/208 [==============================] - 0s 2ms/sample - loss: 0.0181 - acc: 0.9952 - val_loss: 0.2446 - val_acc: 0.8864\n",
            "Epoch 82/100\n",
            "208/208 [==============================] - 0s 2ms/sample - loss: 0.0145 - acc: 0.9952 - val_loss: 0.3987 - val_acc: 0.8636\n",
            "Epoch 83/100\n",
            "208/208 [==============================] - 0s 2ms/sample - loss: 0.0145 - acc: 0.9952 - val_loss: 0.4275 - val_acc: 0.8409\n",
            "Epoch 84/100\n",
            "208/208 [==============================] - 0s 2ms/sample - loss: 0.0096 - acc: 0.9952 - val_loss: 0.2874 - val_acc: 0.8636\n",
            "Epoch 85/100\n",
            "208/208 [==============================] - 0s 2ms/sample - loss: 0.0123 - acc: 0.9952 - val_loss: 0.2666 - val_acc: 0.8636\n",
            "Epoch 86/100\n",
            "208/208 [==============================] - 0s 2ms/sample - loss: 0.0130 - acc: 0.9904 - val_loss: 0.3761 - val_acc: 0.8636\n",
            "Epoch 87/100\n",
            "208/208 [==============================] - 1s 3ms/sample - loss: 0.0106 - acc: 0.9952 - val_loss: 0.3526 - val_acc: 0.8636\n",
            "Epoch 88/100\n",
            "208/208 [==============================] - 0s 2ms/sample - loss: 0.0076 - acc: 0.9952 - val_loss: 0.2546 - val_acc: 0.8523\n",
            "Epoch 89/100\n",
            "208/208 [==============================] - 0s 2ms/sample - loss: 0.0162 - acc: 0.9952 - val_loss: 0.2635 - val_acc: 0.8750\n",
            "Epoch 90/100\n",
            "208/208 [==============================] - 0s 2ms/sample - loss: 0.0188 - acc: 0.9904 - val_loss: 0.4280 - val_acc: 0.8523\n",
            "Epoch 91/100\n",
            "208/208 [==============================] - 0s 2ms/sample - loss: 0.0110 - acc: 0.9952 - val_loss: 0.3305 - val_acc: 0.8636\n",
            "Epoch 92/100\n",
            "208/208 [==============================] - 0s 2ms/sample - loss: 0.0108 - acc: 0.9952 - val_loss: 0.2735 - val_acc: 0.8636\n",
            "Epoch 93/100\n",
            "208/208 [==============================] - 0s 2ms/sample - loss: 0.0089 - acc: 0.9952 - val_loss: 0.3390 - val_acc: 0.8636\n",
            "Epoch 94/100\n",
            "208/208 [==============================] - 0s 2ms/sample - loss: 0.0144 - acc: 0.9952 - val_loss: 0.3880 - val_acc: 0.8636\n",
            "Epoch 95/100\n",
            "208/208 [==============================] - 1s 2ms/sample - loss: 0.0038 - acc: 1.0000 - val_loss: 0.2477 - val_acc: 0.8864\n",
            "Epoch 96/100\n",
            "208/208 [==============================] - 0s 2ms/sample - loss: 0.0182 - acc: 0.9952 - val_loss: 0.2518 - val_acc: 0.8636\n",
            "Epoch 97/100\n",
            "208/208 [==============================] - 0s 2ms/sample - loss: 0.0099 - acc: 0.9952 - val_loss: 0.3364 - val_acc: 0.8636\n",
            "Epoch 98/100\n",
            "208/208 [==============================] - 0s 2ms/sample - loss: 0.0139 - acc: 0.9952 - val_loss: 0.5461 - val_acc: 0.8409\n",
            "Epoch 99/100\n",
            "208/208 [==============================] - 0s 2ms/sample - loss: 0.0145 - acc: 0.9952 - val_loss: 0.3929 - val_acc: 0.8636\n",
            "Epoch 100/100\n",
            "208/208 [==============================] - 1s 3ms/sample - loss: 0.0064 - acc: 0.9952 - val_loss: 0.2694 - val_acc: 0.9091\n"
          ],
          "name": "stdout"
        },
        {
          "output_type": "execute_result",
          "data": {
            "text/plain": [
              "<tensorflow.python.keras.callbacks.History at 0x7fa9fd766ba8>"
            ]
          },
          "metadata": {
            "tags": []
          },
          "execution_count": 29
        }
      ]
    },
    {
      "metadata": {
        "id": "wg-Cg3UUEfE-",
        "colab_type": "code",
        "colab": {
          "base_uri": "https://localhost:8080/",
          "height": 34
        },
        "outputId": "6ee21526-e996-4aff-817c-2b63cb1f037d"
      },
      "cell_type": "code",
      "source": [
        "tpu_model.save_weights('/content/drive/My Drive/Datasets/ScreenTimeCalculator/test/tpu_model.h5')"
      ],
      "execution_count": 30,
      "outputs": [
        {
          "output_type": "stream",
          "text": [
            "INFO:tensorflow:Copying TPU weights to the CPU\n"
          ],
          "name": "stdout"
        }
      ]
    },
    {
      "metadata": {
        "id": "LtTaJQIT7j5X",
        "colab_type": "text"
      },
      "cell_type": "markdown",
      "source": [
        "## Step 4: Using the Model (Make predictions)\n",
        "### Now that we have a Model, we will now calculate the screen time of a video"
      ]
    },
    {
      "metadata": {
        "id": "FytuaHJV_itE",
        "colab_type": "text"
      },
      "cell_type": "markdown",
      "source": [
        "### Extract frames from videos"
      ]
    },
    {
      "metadata": {
        "id": "mgIrogtj7ld2",
        "colab_type": "code",
        "colab": {}
      },
      "cell_type": "code",
      "source": [
        "dataset_directory = '/content/drive/My Drive/Datasets/ScreenTimeCalculator/test'\n",
        "\n",
        "os.chdir(dataset_directory)"
      ],
      "execution_count": 0,
      "outputs": []
    },
    {
      "metadata": {
        "id": "lBq1ncsL-2o-",
        "colab_type": "code",
        "colab": {
          "base_uri": "https://localhost:8080/",
          "height": 34
        },
        "outputId": "e9d68964-0211-4cbe-e696-a8265a7c6a62"
      },
      "cell_type": "code",
      "source": [
        "os.listdir()"
      ],
      "execution_count": 32,
      "outputs": [
        {
          "output_type": "execute_result",
          "data": {
            "text/plain": [
              "['Tom and Jerry 3.mp4', 'test.csv', 'tpu_model.h5']"
            ]
          },
          "metadata": {
            "tags": []
          },
          "execution_count": 32
        }
      ]
    },
    {
      "metadata": {
        "id": "__oW4crw_A-i",
        "colab_type": "code",
        "colab": {
          "base_uri": "https://localhost:8080/",
          "height": 34
        },
        "outputId": "4ab6e3f9-7574-4022-ee61-a3b5bbcfed6a"
      },
      "cell_type": "code",
      "source": [
        "count = 0\n",
        "videoFile = \"Tom and Jerry 3.mp4\"\n",
        "cap = cv2.VideoCapture(videoFile)\n",
        "frameRate = cap.get(5) #frame rate\n",
        "x=1\n",
        "while(cap.isOpened()):\n",
        "    frameId = cap.get(1) #current frame number\n",
        "    ret, frame = cap.read()\n",
        "    if (ret != True):\n",
        "        break\n",
        "    if (frameId % math.floor(frameRate) == 0):\n",
        "        filename =\"test%d.jpg\" % count;count+=1\n",
        "        cv2.imwrite(filename, frame)\n",
        "cap.release()\n",
        "print (\"Done!\")"
      ],
      "execution_count": 33,
      "outputs": [
        {
          "output_type": "stream",
          "text": [
            "Done!\n"
          ],
          "name": "stdout"
        }
      ]
    },
    {
      "metadata": {
        "id": "x7mLqoe2_fqq",
        "colab_type": "text"
      },
      "cell_type": "markdown",
      "source": [
        "### Preprocess frames\n",
        "* Retreive videos and resize them"
      ]
    },
    {
      "metadata": {
        "id": "gRitzyPw_EJ8",
        "colab_type": "code",
        "colab": {
          "base_uri": "https://localhost:8080/",
          "height": 204
        },
        "outputId": "786c06d9-7f33-48a9-ffdf-c578e676df35"
      },
      "cell_type": "code",
      "source": [
        "test = pd.read_csv('test.csv')\n",
        "\n",
        "test.head()"
      ],
      "execution_count": 34,
      "outputs": [
        {
          "output_type": "execute_result",
          "data": {
            "text/html": [
              "<div>\n",
              "<style scoped>\n",
              "    .dataframe tbody tr th:only-of-type {\n",
              "        vertical-align: middle;\n",
              "    }\n",
              "\n",
              "    .dataframe tbody tr th {\n",
              "        vertical-align: top;\n",
              "    }\n",
              "\n",
              "    .dataframe thead th {\n",
              "        text-align: right;\n",
              "    }\n",
              "</style>\n",
              "<table border=\"1\" class=\"dataframe\">\n",
              "  <thead>\n",
              "    <tr style=\"text-align: right;\">\n",
              "      <th></th>\n",
              "      <th>Image_ID</th>\n",
              "    </tr>\n",
              "  </thead>\n",
              "  <tbody>\n",
              "    <tr>\n",
              "      <th>0</th>\n",
              "      <td>test0.jpg</td>\n",
              "    </tr>\n",
              "    <tr>\n",
              "      <th>1</th>\n",
              "      <td>test1.jpg</td>\n",
              "    </tr>\n",
              "    <tr>\n",
              "      <th>2</th>\n",
              "      <td>test2.jpg</td>\n",
              "    </tr>\n",
              "    <tr>\n",
              "      <th>3</th>\n",
              "      <td>test3.jpg</td>\n",
              "    </tr>\n",
              "    <tr>\n",
              "      <th>4</th>\n",
              "      <td>test4.jpg</td>\n",
              "    </tr>\n",
              "  </tbody>\n",
              "</table>\n",
              "</div>"
            ],
            "text/plain": [
              "    Image_ID\n",
              "0  test0.jpg\n",
              "1  test1.jpg\n",
              "2  test2.jpg\n",
              "3  test3.jpg\n",
              "4  test4.jpg"
            ]
          },
          "metadata": {
            "tags": []
          },
          "execution_count": 34
        }
      ]
    },
    {
      "metadata": {
        "id": "m1E5N2kb_gBA",
        "colab_type": "code",
        "colab": {}
      },
      "cell_type": "code",
      "source": [
        "test_image = []\n",
        "for img_name in test.Image_ID:\n",
        "    img = plt.imread(img_name)\n",
        "    test_image.append(img)\n",
        "test_img = np.array(test_image)"
      ],
      "execution_count": 0,
      "outputs": []
    },
    {
      "metadata": {
        "id": "Q9v8HPzkOOce",
        "colab_type": "code",
        "colab": {
          "base_uri": "https://localhost:8080/",
          "height": 51
        },
        "outputId": "77d0fc8d-c147-4da2-a45c-4bd9e18396b1"
      },
      "cell_type": "code",
      "source": [
        "test_image = []\n",
        "for i in range(0,test_img.shape[0]):\n",
        "    a = resize(test_img[i], preserve_range=True, output_shape=(224,224)).astype(int) # Resize only works on a np.array\n",
        "    test_image.append(a)\n",
        "test_image = np.array(test_image)"
      ],
      "execution_count": 68,
      "outputs": [
        {
          "output_type": "stream",
          "text": [
            "/usr/local/lib/python3.6/dist-packages/skimage/transform/_warps.py:84: UserWarning: The default mode, 'constant', will be changed to 'reflect' in skimage 0.15.\n",
            "  warn(\"The default mode, 'constant', will be changed to 'reflect' in \"\n"
          ],
          "name": "stderr"
        }
      ]
    },
    {
      "metadata": {
        "id": "qfU-c_I4AWua",
        "colab_type": "code",
        "colab": {
          "base_uri": "https://localhost:8080/",
          "height": 34
        },
        "outputId": "a33cddd4-697c-428d-9762-7b4d18e809d1"
      },
      "cell_type": "code",
      "source": [
        "test_image.shape"
      ],
      "execution_count": 69,
      "outputs": [
        {
          "output_type": "execute_result",
          "data": {
            "text/plain": [
              "(186, 224, 224, 3)"
            ]
          },
          "metadata": {
            "tags": []
          },
          "execution_count": 69
        }
      ]
    },
    {
      "metadata": {
        "id": "i9hMSkb-IgRX",
        "colab_type": "code",
        "colab": {}
      },
      "cell_type": "code",
      "source": [
        "base_model = VGG16(weights='imagenet', include_top=False, input_shape=(224, 224, 3))    # include_top=False to remove the top layer"
      ],
      "execution_count": 0,
      "outputs": []
    },
    {
      "metadata": {
        "id": "TdWj6nNeAlqZ",
        "colab_type": "code",
        "colab": {}
      },
      "cell_type": "code",
      "source": [
        "# preprocessing the images\n",
        "test_image = preprocess_input(test_image, mode='tf')\n",
        "\n",
        "# extracting features from the images using pretrained model\n",
        "test_image = base_model.predict(test_image)\n",
        "\n",
        "# converting the images to 1-D form\n",
        "test_image = test_image.reshape(186, 7*7*512)\n",
        "\n",
        "# zero centered images\n",
        "test_image = test_image/test_image.max()"
      ],
      "execution_count": 0,
      "outputs": []
    },
    {
      "metadata": {
        "id": "AkT_V2TwKR11",
        "colab_type": "code",
        "colab": {
          "base_uri": "https://localhost:8080/",
          "height": 34
        },
        "outputId": "352c9d6a-3036-4843-f2fa-9367f56ffc48"
      },
      "cell_type": "code",
      "source": [
        "test_image.shape"
      ],
      "execution_count": 72,
      "outputs": [
        {
          "output_type": "execute_result",
          "data": {
            "text/plain": [
              "(186, 25088)"
            ]
          },
          "metadata": {
            "tags": []
          },
          "execution_count": 72
        }
      ]
    },
    {
      "metadata": {
        "id": "FdjVr3hFBGyz",
        "colab_type": "text"
      },
      "cell_type": "markdown",
      "source": [
        "## Step 5: Calculate the screen time of both TOM and JERRY"
      ]
    },
    {
      "metadata": {
        "id": "ts-oUr_tI0NN",
        "colab_type": "code",
        "colab": {}
      },
      "cell_type": "code",
      "source": [
        "cpu_model = Sequential()\n",
        "cpu_model.add(InputLayer((7*7*512,)))    # input layer\n",
        "cpu_model.add(Dense(units=1024, activation='sigmoid')) # hidden layer\n",
        "cpu_model.add(Dense(3, activation='softmax'))    # output layer\n",
        "\n",
        "cpu_model.compile(\n",
        "    optimizer=tf.train.AdamOptimizer(learning_rate=1e-3),\n",
        "    loss=tf.keras.losses.categorical_crossentropy,\n",
        "    metrics=['acc']\n",
        ")"
      ],
      "execution_count": 0,
      "outputs": []
    },
    {
      "metadata": {
        "id": "i7YqshsABLSc",
        "colab_type": "code",
        "colab": {}
      },
      "cell_type": "code",
      "source": [
        "cpu_model.load_weights('./tpu_model.h5')"
      ],
      "execution_count": 0,
      "outputs": []
    },
    {
      "metadata": {
        "id": "x-zVPSRWGC4f",
        "colab_type": "code",
        "colab": {
          "base_uri": "https://localhost:8080/",
          "height": 51
        },
        "outputId": "2b8be90d-1f69-410a-ba3f-a926d17df562"
      },
      "cell_type": "code",
      "source": [
        "predictions = cpu_model.predict_classes(test_image)\n",
        "print(\"The screen time of JERRY is\", predictions[predictions==1].shape[0], \"seconds\")\n",
        "print(\"The screen time of TOM is\", predictions[predictions==2].shape[0], \"seconds\")"
      ],
      "execution_count": 77,
      "outputs": [
        {
          "output_type": "stream",
          "text": [
            "The screen time of JERRY is 9 seconds\n",
            "The screen time of TOM is 102 seconds\n"
          ],
          "name": "stdout"
        }
      ]
    }
  ]
}